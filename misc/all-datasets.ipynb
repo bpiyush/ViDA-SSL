{
 "cells": [
  {
   "cell_type": "code",
   "execution_count": 1,
   "id": "2332119f-3a0d-4146-ae82-9df6f34f05d3",
   "metadata": {},
   "outputs": [],
   "source": [
    "%load_ext autoreload\n",
    "%autoreload 2"
   ]
  },
  {
   "cell_type": "code",
   "execution_count": 2,
   "id": "c5028654-ff4e-4308-b705-f3a2cfc59c67",
   "metadata": {},
   "outputs": [],
   "source": [
    "# !export PYTHONPATH=/Users/piyush/projects/ViDA-SSL/\n",
    "import sys\n",
    "sys.path.append(\"/Users/piyush/projects/ViDA-SSL/\")"
   ]
  },
  {
   "cell_type": "code",
   "execution_count": 3,
   "id": "59eee845-7435-4e4a-9b92-688fd67844ac",
   "metadata": {},
   "outputs": [],
   "source": [
    "from os.path import join\n",
    "from tqdm import tqdm\n",
    "import numpy as np\n",
    "import pandas as pd\n",
    "import matplotlib.pyplot as plt\n",
    "\n",
    "import torch\n",
    "from fast_pytorch_kmeans import KMeans\n",
    "from transformers import AutoTokenizer, AutoModel\n",
    "\n",
    "from misc.local_utils import get_phrase_embedding\n",
    "from utils.viz import bokeh_2d_scatter, bokeh_2d_scatter_new"
   ]
  },
  {
   "cell_type": "code",
   "execution_count": null,
   "id": "196fceef-db6e-4bad-aa77-55fc13eec7eb",
   "metadata": {},
   "outputs": [],
   "source": []
  }
 ],
 "metadata": {
  "kernelspec": {
   "display_name": "Python 3 (ipykernel)",
   "language": "python",
   "name": "python3"
  },
  "language_info": {
   "codemirror_mode": {
    "name": "ipython",
    "version": 3
   },
   "file_extension": ".py",
   "mimetype": "text/x-python",
   "name": "python",
   "nbconvert_exporter": "python",
   "pygments_lexer": "ipython3",
   "version": "3.9.7"
  }
 },
 "nbformat": 4,
 "nbformat_minor": 5
}
