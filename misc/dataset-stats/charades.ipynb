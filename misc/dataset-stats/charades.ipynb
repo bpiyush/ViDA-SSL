{
 "cells": [
  {
   "cell_type": "code",
   "execution_count": 1,
   "id": "27e707ac-9c49-4c5f-98c3-441f2a2a7e1c",
   "metadata": {},
   "outputs": [],
   "source": [
    "%load_ext autoreload\n",
    "%autoreload 2"
   ]
  },
  {
   "cell_type": "code",
   "execution_count": 2,
   "id": "61a0a8d6-5252-47b1-8366-87c3fed27c21",
   "metadata": {},
   "outputs": [],
   "source": [
    "import sys\n",
    "sys.path.append(\"/Users/piyush/projects/ViDA-SSL/\")"
   ]
  },
  {
   "cell_type": "code",
   "execution_count": 3,
   "id": "16c39cfe-756a-489f-b9d5-c3990fe17e73",
   "metadata": {},
   "outputs": [],
   "source": [
    "from os.path import join\n",
    "\n",
    "import numpy as np\n",
    "import pandas as pd\n",
    "import matplotlib.pyplot as plt\n",
    "import seaborn as sns\n",
    "\n",
    "from utils.io import load_json, load_txt"
   ]
  },
  {
   "cell_type": "code",
   "execution_count": 4,
   "id": "5904b522-b616-4845-b743-6ab007659a27",
   "metadata": {},
   "outputs": [],
   "source": [
    "plt.rcParams.update({\n",
    "    \"text.usetex\": True,\n",
    "    \"font.family\": \"serif\",\n",
    "    \"font.serif\": [\"Computer Modern Roman\"],\n",
    "})"
   ]
  },
  {
   "cell_type": "code",
   "execution_count": 19,
   "id": "8d3642b2-28cc-47ee-9f50-0d7ca7aa9646",
   "metadata": {},
   "outputs": [],
   "source": [
    "# train_split_file = \"/Users/piyush/projects/ViDA-SSL/data/charades/splits/train.csv\"\n",
    "\n",
    "# split file downloaded from https://prior.allenai.org/projects/charades\n",
    "train_split_file = \"/Users/piyush/projects/ViDA-SSL/data/charades/splits/Charades_v1_train_videos.csv\""
   ]
  },
  {
   "cell_type": "code",
   "execution_count": 13,
   "id": "0aaf2d14-d3bd-4f1f-a048-18a885661d4b",
   "metadata": {},
   "outputs": [],
   "source": [
    "train_df = pd.read_csv(train_split_file)"
   ]
  },
  {
   "cell_type": "code",
   "execution_count": 14,
   "id": "ec41b4fe-dc11-49a6-9421-cd37d82fdccd",
   "metadata": {},
   "outputs": [
    {
     "data": {
      "text/plain": [
       "(7985, 11)"
      ]
     },
     "execution_count": 14,
     "metadata": {},
     "output_type": "execute_result"
    }
   ],
   "source": [
    "train_df.shape"
   ]
  },
  {
   "cell_type": "code",
   "execution_count": 18,
   "id": "6c02d5e5-c97d-44b7-b897-cea4f4230d54",
   "metadata": {},
   "outputs": [
    {
     "data": {
      "text/plain": [
       "(29.88564433312461, 9.444942128056844)"
      ]
     },
     "execution_count": 18,
     "metadata": {},
     "output_type": "execute_result"
    }
   ],
   "source": [
    "train_df.length.mean(), train_df.length.std()"
   ]
  },
  {
   "cell_type": "code",
   "execution_count": null,
   "id": "d136ae12-8198-4146-8234-9a198304e079",
   "metadata": {},
   "outputs": [],
   "source": []
  }
 ],
 "metadata": {
  "kernelspec": {
   "display_name": "Python 3 (ipykernel)",
   "language": "python",
   "name": "python3"
  },
  "language_info": {
   "codemirror_mode": {
    "name": "ipython",
    "version": 3
   },
   "file_extension": ".py",
   "mimetype": "text/x-python",
   "name": "python",
   "nbconvert_exporter": "python",
   "pygments_lexer": "ipython3",
   "version": "3.9.7"
  }
 },
 "nbformat": 4,
 "nbformat_minor": 5
}
