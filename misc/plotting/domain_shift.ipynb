{
 "cells": [
  {
   "cell_type": "code",
   "execution_count": 1,
   "id": "82da37a4-da66-40a0-bc0b-dd697aba45cb",
   "metadata": {},
   "outputs": [],
   "source": [
    "%load_ext autoreload\n",
    "%autoreload 2"
   ]
  },
  {
   "cell_type": "code",
   "execution_count": 2,
   "id": "96cf246b-caad-41cc-850a-a08975875735",
   "metadata": {},
   "outputs": [],
   "source": [
    "from os.path import join\n",
    "import numpy as np\n",
    "import pandas as pd\n",
    "import matplotlib.pyplot as plt\n",
    "import seaborn as sns"
   ]
  },
  {
   "cell_type": "code",
   "execution_count": 3,
   "id": "a7b196b2-1449-45e0-ab91-b2841fa190c4",
   "metadata": {},
   "outputs": [],
   "source": [
    "plt.rcParams.update({\n",
    "    \"text.usetex\": True,\n",
    "    \"font.family\": \"serif\",\n",
    "    \"font.serif\": [\"Computer Modern Roman\"],\n",
    "})"
   ]
  },
  {
   "cell_type": "code",
   "execution_count": 4,
   "id": "1c5afb1e-e7a6-44d9-86b6-2476ace757d8",
   "metadata": {},
   "outputs": [],
   "source": [
    "csv_path = \"../../results/sslvr-domain.csv\""
   ]
  },
  {
   "cell_type": "code",
   "execution_count": 5,
   "id": "1ec86977-8e53-411b-8cea-9a6e4727f1cc",
   "metadata": {},
   "outputs": [],
   "source": [
    "df = pd.read_csv(csv_path, index_col=0)"
   ]
  },
  {
   "cell_type": "code",
   "execution_count": 6,
   "id": "6e7cbb13-14c8-45c9-8294-70bc3903491f",
   "metadata": {},
   "outputs": [
    {
     "data": {
      "text/html": [
       "<div>\n",
       "<style scoped>\n",
       "    .dataframe tbody tr th:only-of-type {\n",
       "        vertical-align: middle;\n",
       "    }\n",
       "\n",
       "    .dataframe tbody tr th {\n",
       "        vertical-align: top;\n",
       "    }\n",
       "\n",
       "    .dataframe thead th {\n",
       "        text-align: right;\n",
       "    }\n",
       "</style>\n",
       "<table border=\"1\" class=\"dataframe\">\n",
       "  <thead>\n",
       "    <tr style=\"text-align: right;\">\n",
       "      <th></th>\n",
       "      <th>UCF101</th>\n",
       "      <th>NTU</th>\n",
       "      <th>SS (V2)</th>\n",
       "      <th>FineGym</th>\n",
       "      <th>EPIC (Verb)</th>\n",
       "    </tr>\n",
       "  </thead>\n",
       "  <tbody>\n",
       "    <tr>\n",
       "      <th>None</th>\n",
       "      <td>75.36</td>\n",
       "      <td>92.87</td>\n",
       "      <td>56.81</td>\n",
       "      <td>89.41</td>\n",
       "      <td>25.67</td>\n",
       "    </tr>\n",
       "    <tr>\n",
       "      <th>SeLaVi</th>\n",
       "      <td>84.88</td>\n",
       "      <td>92.78</td>\n",
       "      <td>56.37</td>\n",
       "      <td>88.93</td>\n",
       "      <td>33.77</td>\n",
       "    </tr>\n",
       "    <tr>\n",
       "      <th>RSPNet</th>\n",
       "      <td>85.59</td>\n",
       "      <td>93.51</td>\n",
       "      <td>53.75</td>\n",
       "      <td>89.88</td>\n",
       "      <td>36.22</td>\n",
       "    </tr>\n",
       "    <tr>\n",
       "      <th>VideoMoCo</th>\n",
       "      <td>85.83</td>\n",
       "      <td>94.09</td>\n",
       "      <td>58.75</td>\n",
       "      <td>90.54</td>\n",
       "      <td>43.61</td>\n",
       "    </tr>\n",
       "    <tr>\n",
       "      <th>Pretext-contrast</th>\n",
       "      <td>86.60</td>\n",
       "      <td>93.86</td>\n",
       "      <td>54.03</td>\n",
       "      <td>90.31</td>\n",
       "      <td>34.29</td>\n",
       "    </tr>\n",
       "    <tr>\n",
       "      <th>CTP</th>\n",
       "      <td>89.77</td>\n",
       "      <td>94.31</td>\n",
       "      <td>60.16</td>\n",
       "      <td>92.17</td>\n",
       "      <td>42.84</td>\n",
       "    </tr>\n",
       "    <tr>\n",
       "      <th>TCLR</th>\n",
       "      <td>90.77</td>\n",
       "      <td>94.11</td>\n",
       "      <td>59.64</td>\n",
       "      <td>91.49</td>\n",
       "      <td>36.18</td>\n",
       "    </tr>\n",
       "    <tr>\n",
       "      <th>GDT</th>\n",
       "      <td>91.14</td>\n",
       "      <td>93.89</td>\n",
       "      <td>57.78</td>\n",
       "      <td>90.36</td>\n",
       "      <td>37.26</td>\n",
       "    </tr>\n",
       "    <tr>\n",
       "      <th>Supervised</th>\n",
       "      <td>94.08</td>\n",
       "      <td>93.89</td>\n",
       "      <td>61.02</td>\n",
       "      <td>91.77</td>\n",
       "      <td>47.67</td>\n",
       "    </tr>\n",
       "  </tbody>\n",
       "</table>\n",
       "</div>"
      ],
      "text/plain": [
       "                  UCF101    NTU  SS (V2)  FineGym  EPIC (Verb)\n",
       "None               75.36  92.87    56.81    89.41        25.67\n",
       "SeLaVi             84.88  92.78    56.37    88.93        33.77\n",
       "RSPNet             85.59  93.51    53.75    89.88        36.22\n",
       "VideoMoCo          85.83  94.09    58.75    90.54        43.61\n",
       "Pretext-contrast   86.60  93.86    54.03    90.31        34.29\n",
       "CTP                89.77  94.31    60.16    92.17        42.84\n",
       "TCLR               90.77  94.11    59.64    91.49        36.18\n",
       "GDT                91.14  93.89    57.78    90.36        37.26\n",
       "Supervised         94.08  93.89    61.02    91.77        47.67"
      ]
     },
     "execution_count": 6,
     "metadata": {},
     "output_type": "execute_result"
    }
   ],
   "source": [
    "df"
   ]
  },
  {
   "cell_type": "code",
   "execution_count": 7,
   "id": "b9109b24-3658-4dd3-ba2a-80c7e23a56fc",
   "metadata": {},
   "outputs": [],
   "source": [
    "df.columns = [[\"UCF101\", \"NTU\", \"Something-something\", \"FineGym\", \"EPIC (Verb)\"]]"
   ]
  },
  {
   "cell_type": "code",
   "execution_count": 8,
   "id": "8eff8131-ef63-4672-a566-2bd56848ff0b",
   "metadata": {},
   "outputs": [
    {
     "data": {
      "text/html": [
       "<div>\n",
       "<style scoped>\n",
       "    .dataframe tbody tr th:only-of-type {\n",
       "        vertical-align: middle;\n",
       "    }\n",
       "\n",
       "    .dataframe tbody tr th {\n",
       "        vertical-align: top;\n",
       "    }\n",
       "\n",
       "    .dataframe thead tr th {\n",
       "        text-align: left;\n",
       "    }\n",
       "</style>\n",
       "<table border=\"1\" class=\"dataframe\">\n",
       "  <thead>\n",
       "    <tr>\n",
       "      <th></th>\n",
       "      <th>UCF101</th>\n",
       "      <th>NTU</th>\n",
       "      <th>Something-something</th>\n",
       "      <th>FineGym</th>\n",
       "      <th>EPIC (Verb)</th>\n",
       "    </tr>\n",
       "  </thead>\n",
       "  <tbody>\n",
       "    <tr>\n",
       "      <th>None</th>\n",
       "      <td>75.36</td>\n",
       "      <td>92.87</td>\n",
       "      <td>56.81</td>\n",
       "      <td>89.41</td>\n",
       "      <td>25.67</td>\n",
       "    </tr>\n",
       "    <tr>\n",
       "      <th>SeLaVi</th>\n",
       "      <td>84.88</td>\n",
       "      <td>92.78</td>\n",
       "      <td>56.37</td>\n",
       "      <td>88.93</td>\n",
       "      <td>33.77</td>\n",
       "    </tr>\n",
       "    <tr>\n",
       "      <th>RSPNet</th>\n",
       "      <td>85.59</td>\n",
       "      <td>93.51</td>\n",
       "      <td>53.75</td>\n",
       "      <td>89.88</td>\n",
       "      <td>36.22</td>\n",
       "    </tr>\n",
       "    <tr>\n",
       "      <th>VideoMoCo</th>\n",
       "      <td>85.83</td>\n",
       "      <td>94.09</td>\n",
       "      <td>58.75</td>\n",
       "      <td>90.54</td>\n",
       "      <td>43.61</td>\n",
       "    </tr>\n",
       "    <tr>\n",
       "      <th>Pretext-contrast</th>\n",
       "      <td>86.60</td>\n",
       "      <td>93.86</td>\n",
       "      <td>54.03</td>\n",
       "      <td>90.31</td>\n",
       "      <td>34.29</td>\n",
       "    </tr>\n",
       "    <tr>\n",
       "      <th>CTP</th>\n",
       "      <td>89.77</td>\n",
       "      <td>94.31</td>\n",
       "      <td>60.16</td>\n",
       "      <td>92.17</td>\n",
       "      <td>42.84</td>\n",
       "    </tr>\n",
       "    <tr>\n",
       "      <th>TCLR</th>\n",
       "      <td>90.77</td>\n",
       "      <td>94.11</td>\n",
       "      <td>59.64</td>\n",
       "      <td>91.49</td>\n",
       "      <td>36.18</td>\n",
       "    </tr>\n",
       "    <tr>\n",
       "      <th>GDT</th>\n",
       "      <td>91.14</td>\n",
       "      <td>93.89</td>\n",
       "      <td>57.78</td>\n",
       "      <td>90.36</td>\n",
       "      <td>37.26</td>\n",
       "    </tr>\n",
       "    <tr>\n",
       "      <th>Supervised</th>\n",
       "      <td>94.08</td>\n",
       "      <td>93.89</td>\n",
       "      <td>61.02</td>\n",
       "      <td>91.77</td>\n",
       "      <td>47.67</td>\n",
       "    </tr>\n",
       "  </tbody>\n",
       "</table>\n",
       "</div>"
      ],
      "text/plain": [
       "                 UCF101    NTU Something-something FineGym EPIC (Verb)\n",
       "None              75.36  92.87               56.81   89.41       25.67\n",
       "SeLaVi            84.88  92.78               56.37   88.93       33.77\n",
       "RSPNet            85.59  93.51               53.75   89.88       36.22\n",
       "VideoMoCo         85.83  94.09               58.75   90.54       43.61\n",
       "Pretext-contrast  86.60  93.86               54.03   90.31       34.29\n",
       "CTP               89.77  94.31               60.16   92.17       42.84\n",
       "TCLR              90.77  94.11               59.64   91.49       36.18\n",
       "GDT               91.14  93.89               57.78   90.36       37.26\n",
       "Supervised        94.08  93.89               61.02   91.77       47.67"
      ]
     },
     "execution_count": 8,
     "metadata": {},
     "output_type": "execute_result"
    }
   ],
   "source": [
    "df"
   ]
  },
  {
   "cell_type": "markdown",
   "id": "501d40a1-dce1-4ff0-a990-156e7f3bd91e",
   "metadata": {},
   "source": [
    "### Column-wise normalized"
   ]
  },
  {
   "cell_type": "code",
   "execution_count": 9,
   "id": "853ae2b0-0a0d-41e9-ad5b-4a1d788b52e1",
   "metadata": {},
   "outputs": [],
   "source": [
    "norm_df=(df-df.loc[\"None\"])/(df.loc[\"Supervised\"]-df.loc[\"None\"])"
   ]
  },
  {
   "cell_type": "code",
   "execution_count": 61,
   "id": "c8af030c-dc3e-4e5d-8377-f281adeb90dd",
   "metadata": {},
   "outputs": [],
   "source": [
    "def heatmap(\n",
    "        df,\n",
    "        figsize=(7, 6),\n",
    "        title=\"Action classification\",\n",
    "        titlesize=20,\n",
    "        labelsize=15,\n",
    "        tickssize=13,\n",
    "        save=False,\n",
    "        save_path=\"../../results/plots/sample.pdf\",\n",
    "        **kwargs,\n",
    "    ):\n",
    "    fig, ax = plt.subplots(1, 1, figsize=figsize)\n",
    "    \n",
    "    if \"cmap\" not in kwargs:\n",
    "        kwargs.update(dict(cmap=\"YlGnBu\"))\n",
    "    sns.heatmap(df, ax=ax, **kwargs)\n",
    "\n",
    "    ax.set_title(title, fontsize=titlesize)\n",
    "\n",
    "    ax.set_xlabel(\"Dataset\")\n",
    "    ax.set_ylabel(\"Method\")\n",
    "    \n",
    "    ax.yaxis.label.set_size(labelsize)\n",
    "    ax.xaxis.label.set_size(labelsize)\n",
    "\n",
    "    ax.tick_params(axis='x', labelsize=tickssize)\n",
    "    ax.tick_params(axis='y', labelsize=tickssize)\n",
    "    \n",
    "    if save:\n",
    "        plt.savefig(save_path, bbox_inches=\"tight\")\n",
    "\n",
    "    plt.show()"
   ]
  },
  {
   "cell_type": "code",
   "execution_count": 62,
   "id": "9e491bb5-3ae0-4f64-a758-5b0fcf1b1d6e",
   "metadata": {},
   "outputs": [
    {
     "data": {
      "image/png": "[encoded data removed]",
      "text/plain": [
       "<Figure size 504x432 with 2 Axes>"
      ]
     },
     "metadata": {
      "needs_background": "light"
     },
     "output_type": "display_data"
    }
   ],
   "source": [
    "heatmap(norm_df)"
   ]
  },
  {
   "cell_type": "markdown",
   "id": "fdcd24f0-53a7-4548-beb4-d7b2d9f6093d",
   "metadata": {},
   "source": [
    "### Normalizing between 0-1"
   ]
  },
  {
   "cell_type": "code",
   "execution_count": 33,
   "id": "25a1fa28-45a3-4e1c-8b93-84143946b914",
   "metadata": {},
   "outputs": [],
   "source": [
    "normalized_df=(df-df.min())/(df.max()-df.min())"
   ]
  },
  {
   "cell_type": "code",
   "execution_count": 63,
   "id": "b4980b98-195c-499b-a7b2-8f34726c3389",
   "metadata": {},
   "outputs": [
    {
     "data": {
      "image/png": "[encoded data removed]",
      "text/plain": [
       "<Figure size 864x720 with 2 Axes>"
      ]
     },
     "metadata": {
      "needs_background": "light"
     },
     "output_type": "display_data"
    }
   ],
   "source": [
    "heatmap(\n",
    "    normalized_df,\n",
    "    figsize=(12, 10),\n",
    "    title=\"Action classification across datasets\",\n",
    "    titlesize=23,\n",
    "    labelsize=17,\n",
    "    tickssize=14,\n",
    "    save=True,\n",
    "    save_path=\"../../results/plots/domains_expt_1.pdf\",\n",
    "    cmap=\"PiYG\",\n",
    "    alpha=0.9,\n",
    "    annot=df.values,\n",
    "    fmt='g',\n",
    "    annot_kws={\"size\": 16},\n",
    ")"
   ]
  },
  {
   "cell_type": "code",
   "execution_count": null,
   "id": "a92d2b7e-66c1-47b2-ad28-1fa8830d84e8",
   "metadata": {},
   "outputs": [],
   "source": []
  }
 ],
 "metadata": {
  "kernelspec": {
   "display_name": "Python 3 (ipykernel)",
   "language": "python",
   "name": "python3"
  },
  "language_info": {
   "codemirror_mode": {
    "name": "ipython",
    "version": 3
   },
   "file_extension": ".py",
   "mimetype": "text/x-python",
   "name": "python",
   "nbconvert_exporter": "python",
   "pygments_lexer": "ipython3",
   "version": "3.9.7"
  }
 },
 "nbformat": 4,
 "nbformat_minor": 5
}
