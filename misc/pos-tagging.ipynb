{
 "cells": [
  {
   "cell_type": "code",
   "execution_count": 1,
   "id": "c7d7b83c-be23-4e93-8984-27aebcef7951",
   "metadata": {},
   "outputs": [],
   "source": [
    "%load_ext autoreload\n",
    "%autoreload 2"
   ]
  },
  {
   "cell_type": "code",
   "execution_count": 2,
   "id": "daa7ad49-69f7-4fe6-9cfc-e980a96880c6",
   "metadata": {},
   "outputs": [],
   "source": [
    "from flair.data import Sentence\n",
    "from flair.models import SequenceTagger"
   ]
  },
  {
   "cell_type": "code",
   "execution_count": 3,
   "id": "9258a4f8-db21-4d63-9555-ac4b2b49d4c4",
   "metadata": {},
   "outputs": [
    {
     "data": {
      "application/vnd.jupyter.widget-view+json": {
       "model_id": "5a064f3e85c64be5a4f708449e47f778",
       "version_major": 2,
       "version_minor": 0
      },
      "text/plain": [
       "Downloading:   0%|          | 0.00/249M [00:00<?, ?B/s]"
      ]
     },
     "metadata": {},
     "output_type": "display_data"
    },
    {
     "name": "stdout",
     "output_type": "stream",
     "text": [
      "2021-10-16 13:57:55,113 loading file /Users/piyush/.flair/models/pos-english/a9a73f6cd878edce8a0fa518db76f441f1cc49c2525b2b4557af278ec2f0659e.121306ea62993d04cd1978398b68396931a39eb47754c8a06a87f325ea70ac63\n"
     ]
    }
   ],
   "source": [
    "# load tagger\n",
    "tagger = SequenceTagger.load(\"flair/pos-english\")"
   ]
  },
  {
   "cell_type": "code",
   "execution_count": 4,
   "id": "c9e72078-4914-450c-a507-2630d8bc7d31",
   "metadata": {},
   "outputs": [],
   "source": [
    "# make example sentence\n",
    "sentence = Sentence(\"I love Berlin.\")"
   ]
  },
  {
   "cell_type": "code",
   "execution_count": 5,
   "id": "c9337978-cc86-4515-96d8-2f1d3f97f448",
   "metadata": {},
   "outputs": [
    {
     "name": "stdout",
     "output_type": "stream",
     "text": [
      "Sentence: \"I love Berlin .\"   [− Tokens: 4  − Token-Labels: \"I <PRP> love <VBP> Berlin <NNP> . <.>\"]\n"
     ]
    }
   ],
   "source": [
    "# predict NER tags\n",
    "tagger.predict(sentence)\n",
    "\n",
    "# print sentence\n",
    "print(sentence)"
   ]
  },
  {
   "cell_type": "code",
   "execution_count": 6,
   "id": "0090367a-f5d2-4ebc-8f89-b7450cc78a15",
   "metadata": {},
   "outputs": [
    {
     "name": "stdout",
     "output_type": "stream",
     "text": [
      "The following NER tags are found:\n",
      "Span [1]: \"I\"   [− Labels: PRP (1.0)]\n",
      "Span [2]: \"love\"   [− Labels: VBP (1.0)]\n",
      "Span [3]: \"Berlin\"   [− Labels: NNP (0.9999)]\n",
      "Span [4]: \".\"   [− Labels: . (1.0)]\n"
     ]
    }
   ],
   "source": [
    "# print predicted NER spans\n",
    "print('The following NER tags are found:')\n",
    "# iterate over entities and print\n",
    "for entity in sentence.get_spans('pos'):\n",
    "    print(entity)"
   ]
  },
  {
   "cell_type": "code",
   "execution_count": 9,
   "id": "d7fca156-8543-4a0a-b39f-67bad02d29ef",
   "metadata": {},
   "outputs": [],
   "source": [
    "entity = sentence.get_spans('pos')[-2]"
   ]
  },
  {
   "cell_type": "code",
   "execution_count": 10,
   "id": "d49ab67a-0080-4f50-b2b7-b61f1a5b3bb8",
   "metadata": {},
   "outputs": [
    {
     "data": {
      "text/plain": [
       "<NNP-span (3): \"Berlin\">"
      ]
     },
     "execution_count": 10,
     "metadata": {},
     "output_type": "execute_result"
    }
   ],
   "source": [
    "entity"
   ]
  },
  {
   "cell_type": "code",
   "execution_count": 18,
   "id": "8d273f5f-df00-4f24-b36a-4719375d2874",
   "metadata": {},
   "outputs": [],
   "source": [
    "label = entity.labels[0]\n",
    "label_dict = entity.labels[0].to_dict()"
   ]
  },
  {
   "cell_type": "code",
   "execution_count": 19,
   "id": "62b695e9-70b7-477c-a5e1-3e5385f6e3a5",
   "metadata": {},
   "outputs": [
    {
     "data": {
      "text/plain": [
       "{'value': 'NNP', 'confidence': 0.9998853206634521}"
      ]
     },
     "execution_count": 19,
     "metadata": {},
     "output_type": "execute_result"
    }
   ],
   "source": [
    "label_dict"
   ]
  },
  {
   "cell_type": "code",
   "execution_count": null,
   "id": "9fc49343-4d6d-482b-b2e5-559b8653f0ce",
   "metadata": {},
   "outputs": [],
   "source": []
  }
 ],
 "metadata": {
  "kernelspec": {
   "display_name": "Python 3 (ipykernel)",
   "language": "python",
   "name": "python3"
  },
  "language_info": {
   "codemirror_mode": {
    "name": "ipython",
    "version": 3
   },
   "file_extension": ".py",
   "mimetype": "text/x-python",
   "name": "python",
   "nbconvert_exporter": "python",
   "pygments_lexer": "ipython3",
   "version": "3.9.7"
  }
 },
 "nbformat": 4,
 "nbformat_minor": 5
}
