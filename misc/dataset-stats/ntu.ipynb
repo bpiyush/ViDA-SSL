{
 "cells": [
  {
   "cell_type": "markdown",
   "id": "db700dec-45fe-4732-bf70-30ba46236e5c",
   "metadata": {},
   "source": [
    "##### Note: This has been run on `diva` machine"
   ]
  },
  {
   "cell_type": "code",
   "execution_count": 1,
   "id": "1e06254d-3084-426c-87db-b14709fd579c",
   "metadata": {},
   "outputs": [],
   "source": [
    "%load_ext autoreload\n",
    "%autoreload 2"
   ]
  },
  {
   "cell_type": "code",
   "execution_count": 2,
   "id": "35523f89-09d4-456c-bd28-fc884a84002f",
   "metadata": {},
   "outputs": [],
   "source": [
    "import sys\n",
    "sys.path.append(\"~/projects/ViDA-SSL/\")"
   ]
  },
  {
   "cell_type": "code",
   "execution_count": 26,
   "id": "0177a40c-ab1b-4e14-a017-c3d17ee71e66",
   "metadata": {},
   "outputs": [],
   "source": [
    "from os.path import join\n",
    "from glob import glob\n",
    "from tqdm import tqdm\n",
    "\n",
    "import numpy as np\n",
    "import matplotlib.pyplot as plt\n",
    "from torchvision.io import read_video_timestamps\n",
    "\n",
    "from utils.io import load_json, load_txt"
   ]
  },
  {
   "cell_type": "code",
   "execution_count": 5,
   "id": "50d78d72-dd65-463f-b421-8687b1e9ddd2",
   "metadata": {},
   "outputs": [],
   "source": [
    "DATA_DIR = \"/ssd/fmthoker/ntu/\""
   ]
  },
  {
   "cell_type": "code",
   "execution_count": 6,
   "id": "05113ec5-ae9f-4077-960a-3cedf0bbb81d",
   "metadata": {},
   "outputs": [],
   "source": [
    "train_split_path = join(DATA_DIR, \"ntu_60_annotations/ntu_60_cross_subject_TrainTestlist/trainlist01.txt\")\n",
    "test_split_path = join(DATA_DIR, \"ntu_60_annotations/ntu_60_cross_subject_TrainTestlist/testlist01.txt\")"
   ]
  },
  {
   "cell_type": "code",
   "execution_count": 12,
   "id": "a488c898-203e-4d0c-8066-3dd133fb701b",
   "metadata": {},
   "outputs": [],
   "source": [
    "train_split = load_txt(train_split_path)\n",
    "test_split = load_txt(test_split_path)\n",
    "\n",
    "combined = train_split + test_split"
   ]
  },
  {
   "cell_type": "code",
   "execution_count": 13,
   "id": "ecfa75eb-5ec0-4aee-959b-71016690f1c1",
   "metadata": {},
   "outputs": [
    {
     "data": {
      "text/plain": [
       "(40320, 16560, 56880)"
      ]
     },
     "execution_count": 13,
     "metadata": {},
     "output_type": "execute_result"
    }
   ],
   "source": [
    "len(train_split), len(test_split), len(combined)"
   ]
  },
  {
   "cell_type": "code",
   "execution_count": 9,
   "id": "c3d5f242-ff2e-4654-a6b9-135924bb7a63",
   "metadata": {},
   "outputs": [
    {
     "data": {
      "text/plain": [
       "'touch_back__backache_/S017C003P017R001A046_rgb.avi '"
      ]
     },
     "execution_count": 9,
     "metadata": {},
     "output_type": "execute_result"
    }
   ],
   "source": [
    "train_split[0]"
   ]
  },
  {
   "cell_type": "code",
   "execution_count": 11,
   "id": "ed6f3d7d-0866-423e-9dc0-8a56b9a4dd49",
   "metadata": {},
   "outputs": [],
   "source": [
    "original_videos_dir = join(DATA_DIR, \"original_videos\")"
   ]
  },
  {
   "cell_type": "code",
   "execution_count": 14,
   "id": "74d47af1-9c1f-4fbc-8067-6e87448354f2",
   "metadata": {},
   "outputs": [
    {
     "data": {
      "text/plain": [
       "'touch_back__backache_/S017C003P017R001A046_rgb.avi '"
      ]
     },
     "execution_count": 14,
     "metadata": {},
     "output_type": "execute_result"
    }
   ],
   "source": [
    "combined[0]"
   ]
  },
  {
   "cell_type": "code",
   "execution_count": 23,
   "id": "5a815c76-ddcf-46e7-888b-47b753667ff2",
   "metadata": {},
   "outputs": [
    {
     "name": "stderr",
     "output_type": "stream",
     "text": [
      "Extracting video durations: 100%|████████████████████████████████████████████████████████████████████████████████████| 56880/56880 [06:00<00:00, 157.64it/s]\n"
     ]
    }
   ],
   "source": [
    "durations = []\n",
    "\n",
    "for v in tqdm(combined, desc=\"Extracting video durations\"):\n",
    "    video_path = join(original_videos_dir, v.split()[0])\n",
    "    frame_ids, fps = read_video_timestamps(video_path)\n",
    "    duration = len(frame_ids) / fps\n",
    "    durations.append(duration)"
   ]
  },
  {
   "cell_type": "code",
   "execution_count": 24,
   "id": "58a00599-2cec-422b-adb3-92bb663da48a",
   "metadata": {},
   "outputs": [
    {
     "data": {
      "text/plain": [
       "2.8170511017346467"
      ]
     },
     "execution_count": 24,
     "metadata": {},
     "output_type": "execute_result"
    }
   ],
   "source": [
    "np.mean(durations)"
   ]
  },
  {
   "cell_type": "code",
   "execution_count": 34,
   "id": "f8f293ac-430b-4c29-beb7-458c11015af1",
   "metadata": {},
   "outputs": [
    {
     "data": {
      "image/png": "[encoded data removed]",
      "text/plain": [
       "<Figure size 576x360 with 1 Axes>"
      ]
     },
     "metadata": {
      "needs_background": "light"
     },
     "output_type": "display_data"
    }
   ],
   "source": [
    "fig, ax = plt.subplots(1, 1, figsize=(8, 5))\n",
    "ax.hist(durations, color=\"skyblue\")\n",
    "ax.grid()\n",
    "ax.set_title(\"NTU video duration\")\n",
    "ax.set_xlabel(\"Time in secs\")\n",
    "ax.set_ylabel(\"Count\")\n",
    "ax.axvline(x=np.mean(durations), color=\"red\", label=f\"Mean ({np.mean(durations):.3f})\")\n",
    "ax.legend()\n",
    "\n",
    "plt.show()"
   ]
  },
  {
   "cell_type": "code",
   "execution_count": null,
   "id": "1f0f4f6b-b7ec-4cac-acdc-71955a51bfb7",
   "metadata": {},
   "outputs": [],
   "source": []
  }
 ],
 "metadata": {
  "kernelspec": {
   "display_name": "Python 3 (ipykernel)",
   "language": "python",
   "name": "python3"
  },
  "language_info": {
   "codemirror_mode": {
    "name": "ipython",
    "version": 3
   },
   "file_extension": ".py",
   "mimetype": "text/x-python",
   "name": "python",
   "nbconvert_exporter": "python",
   "pygments_lexer": "ipython3",
   "version": "3.7.11"
  }
 },
 "nbformat": 4,
 "nbformat_minor": 5
}
