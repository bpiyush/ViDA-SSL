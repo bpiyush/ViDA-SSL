{
 "cells": [
  {
   "cell_type": "code",
   "execution_count": 1,
   "id": "0842a4c2-5b23-4a09-8355-8c300b22b780",
   "metadata": {},
   "outputs": [],
   "source": [
    "%load_ext autoreload\n",
    "%autoreload 2"
   ]
  },
  {
   "cell_type": "code",
   "execution_count": 2,
   "id": "65cf240b-c3a6-4817-9a1a-0cd02d7074ef",
   "metadata": {},
   "outputs": [],
   "source": [
    "import sys\n",
    "sys.path.append(\"/Users/piyush/projects/ViDA-SSL/\")"
   ]
  },
  {
   "cell_type": "code",
   "execution_count": 3,
   "id": "4fdfd73f-1b5e-4514-9eea-314ac4c18e8f",
   "metadata": {},
   "outputs": [],
   "source": [
    "from os.path import join\n",
    "\n",
    "import numpy as np\n",
    "import pandas as pd\n",
    "import matplotlib.pyplot as plt\n",
    "import seaborn as sns\n",
    "\n",
    "from utils.io import load_json, load_txt"
   ]
  },
  {
   "cell_type": "code",
   "execution_count": 5,
   "id": "f23b4cf3-a507-484f-99ce-9af206558f5b",
   "metadata": {},
   "outputs": [],
   "source": [
    "plt.rcParams.update({\n",
    "    \"text.usetex\": True,\n",
    "    \"font.family\": \"serif\",\n",
    "    \"font.serif\": [\"Computer Modern Roman\"],\n",
    "})"
   ]
  },
  {
   "cell_type": "code",
   "execution_count": 34,
   "id": "1dda44dc-20d6-4096-aa96-f7a7ec163ee4",
   "metadata": {},
   "outputs": [],
   "source": [
    "train_split_file = \"/Users/piyush/projects/ViDA-SSL/data/UCF-101/splits/ucfTrainTestlist/trainlist01.txt\"\n",
    "test_split_file = \"/Users/piyush/projects/ViDA-SSL/data/UCF-101/splits/ucfTrainTestlist/testlist01.txt\""
   ]
  },
  {
   "cell_type": "code",
   "execution_count": 42,
   "id": "75b2b83a-8761-48b8-bbe4-894d78691fa8",
   "metadata": {},
   "outputs": [],
   "source": [
    "class_to_label = dict(zip([x.split(\"/\")[0] for x in train_files], train_labels))"
   ]
  },
  {
   "cell_type": "code",
   "execution_count": 43,
   "id": "279dd084-3d04-4e8f-b6dc-ff37ba8b071e",
   "metadata": {},
   "outputs": [],
   "source": [
    "train_split = load_txt(train_split_file)\n",
    "train_files = [x.split(\" \")[0] for x in train_split]\n",
    "train_labels = [x.split(\" \")[-1] for x in train_split]\n",
    "\n",
    "test_split = load_txt(test_split_file)\n",
    "test_files = [x.split(\" \")[0] for x in test_split]\n",
    "# test_labels = [x.split(\" \")[-1] for x in test_split]\n",
    "test_labels = [class_to_label[x.split(\"/\")[0]] for x in test_files]"
   ]
  },
  {
   "cell_type": "code",
   "execution_count": 44,
   "id": "f4be8697-8e1e-41ff-aac5-147dd9b72e6a",
   "metadata": {},
   "outputs": [
    {
     "data": {
      "text/plain": [
       "(9537, 3783)"
      ]
     },
     "execution_count": 44,
     "metadata": {},
     "output_type": "execute_result"
    }
   ],
   "source": [
    "len(train_labels), len(test_labels)"
   ]
  },
  {
   "cell_type": "code",
   "execution_count": 47,
   "id": "36e16520-9120-4bd4-bc53-0e272a47d3e1",
   "metadata": {},
   "outputs": [],
   "source": [
    "files = train_files + test_files\n",
    "labels = train_labels + test_labels"
   ]
  },
  {
   "cell_type": "code",
   "execution_count": 48,
   "id": "d077a884-4bf9-4c08-9f21-5a58185a1599",
   "metadata": {},
   "outputs": [],
   "source": [
    "df = pd.DataFrame(None)\n",
    "df[\"file\"] = files\n",
    "df[\"label\"] = labels"
   ]
  },
  {
   "cell_type": "code",
   "execution_count": 49,
   "id": "60036d73-f07a-4d1e-98d9-4a0f843b9e0c",
   "metadata": {},
   "outputs": [
    {
     "data": {
      "text/html": [
       "<div>\n",
       "<style scoped>\n",
       "    .dataframe tbody tr th:only-of-type {\n",
       "        vertical-align: middle;\n",
       "    }\n",
       "\n",
       "    .dataframe tbody tr th {\n",
       "        vertical-align: top;\n",
       "    }\n",
       "\n",
       "    .dataframe thead th {\n",
       "        text-align: right;\n",
       "    }\n",
       "</style>\n",
       "<table border=\"1\" class=\"dataframe\">\n",
       "  <thead>\n",
       "    <tr style=\"text-align: right;\">\n",
       "      <th></th>\n",
       "      <th>file</th>\n",
       "      <th>label</th>\n",
       "    </tr>\n",
       "  </thead>\n",
       "  <tbody>\n",
       "    <tr>\n",
       "      <th>0</th>\n",
       "      <td>ApplyEyeMakeup/v_ApplyEyeMakeup_g08_c01.avi</td>\n",
       "      <td>1</td>\n",
       "    </tr>\n",
       "    <tr>\n",
       "      <th>1</th>\n",
       "      <td>ApplyEyeMakeup/v_ApplyEyeMakeup_g08_c02.avi</td>\n",
       "      <td>1</td>\n",
       "    </tr>\n",
       "    <tr>\n",
       "      <th>2</th>\n",
       "      <td>ApplyEyeMakeup/v_ApplyEyeMakeup_g08_c03.avi</td>\n",
       "      <td>1</td>\n",
       "    </tr>\n",
       "    <tr>\n",
       "      <th>3</th>\n",
       "      <td>ApplyEyeMakeup/v_ApplyEyeMakeup_g08_c04.avi</td>\n",
       "      <td>1</td>\n",
       "    </tr>\n",
       "    <tr>\n",
       "      <th>4</th>\n",
       "      <td>ApplyEyeMakeup/v_ApplyEyeMakeup_g08_c05.avi</td>\n",
       "      <td>1</td>\n",
       "    </tr>\n",
       "  </tbody>\n",
       "</table>\n",
       "</div>"
      ],
      "text/plain": [
       "                                          file label\n",
       "0  ApplyEyeMakeup/v_ApplyEyeMakeup_g08_c01.avi     1\n",
       "1  ApplyEyeMakeup/v_ApplyEyeMakeup_g08_c02.avi     1\n",
       "2  ApplyEyeMakeup/v_ApplyEyeMakeup_g08_c03.avi     1\n",
       "3  ApplyEyeMakeup/v_ApplyEyeMakeup_g08_c04.avi     1\n",
       "4  ApplyEyeMakeup/v_ApplyEyeMakeup_g08_c05.avi     1"
      ]
     },
     "execution_count": 49,
     "metadata": {},
     "output_type": "execute_result"
    }
   ],
   "source": [
    "df.head()"
   ]
  },
  {
   "cell_type": "markdown",
   "id": "a0e65fe6-83ef-4cde-be5c-80956c88567d",
   "metadata": {},
   "source": [
    "### Label distribution"
   ]
  },
  {
   "cell_type": "code",
   "execution_count": 52,
   "id": "30ee63f1-3422-46dc-8c45-39c96ab843b7",
   "metadata": {},
   "outputs": [],
   "source": [
    "sort_df = df.iloc[(-df.groupby('label').label.transform('size')).argsort(kind='mergesort')]"
   ]
  },
  {
   "cell_type": "code",
   "execution_count": 57,
   "id": "abaf1feb-ffe5-41f1-91c0-5a8dd6577705",
   "metadata": {},
   "outputs": [
    {
     "data": {
      "image/png": "[encoded data removed]",
      "text/plain": [
       "<Figure size 1296x360 with 1 Axes>"
      ]
     },
     "metadata": {
      "needs_background": "light"
     },
     "output_type": "display_data"
    }
   ],
   "source": [
    "fig, ax = plt.subplots(1, 1, figsize=(18, 5))\n",
    "\n",
    "ax.grid()\n",
    "sns.countplot(data=sort_df, x=f\"label\", ax=ax, label=\"UCF\", color=\"gold\")\n",
    "ax.set_title(\"Label distribution for UCF\", fontsize=20)\n",
    "ax.legend(fontsize=15)\n",
    "ax.set_xticks([])\n",
    "\n",
    "plt.show()"
   ]
  },
  {
   "cell_type": "code",
   "execution_count": null,
   "id": "5efd65bd-8360-4bcb-a43c-a3ec5a48ef8e",
   "metadata": {},
   "outputs": [],
   "source": []
  }
 ],
 "metadata": {
  "kernelspec": {
   "display_name": "Python 3 (ipykernel)",
   "language": "python",
   "name": "python3"
  },
  "language_info": {
   "codemirror_mode": {
    "name": "ipython",
    "version": 3
   },
   "file_extension": ".py",
   "mimetype": "text/x-python",
   "name": "python",
   "nbconvert_exporter": "python",
   "pygments_lexer": "ipython3",
   "version": "3.9.7"
  }
 },
 "nbformat": 4,
 "nbformat_minor": 5
}
