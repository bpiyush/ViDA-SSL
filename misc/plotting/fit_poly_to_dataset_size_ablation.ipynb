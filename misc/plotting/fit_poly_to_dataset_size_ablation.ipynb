{
 "cells": [
  {
   "cell_type": "code",
   "execution_count": 1,
   "id": "2daa29f2-6487-4dd3-b057-34818e08d891",
   "metadata": {},
   "outputs": [],
   "source": [
    "%load_ext autoreload\n",
    "%autoreload 2"
   ]
  },
  {
   "cell_type": "code",
   "execution_count": 2,
   "id": "302ae579-e7e2-4eba-936b-6ae863a2c6d1",
   "metadata": {},
   "outputs": [],
   "source": [
    "from os.path import join, abspath\n",
    "import numpy as np\n",
    "import pandas as pd\n",
    "import matplotlib.pyplot as plt\n",
    "import seaborn as sns"
   ]
  },
  {
   "cell_type": "code",
   "execution_count": 3,
   "id": "aace3d16-8cf1-4618-a261-be9857688cac",
   "metadata": {},
   "outputs": [],
   "source": [
    "import sys\n",
    "sys.path.insert(0, abspath(\"./../../\"))"
   ]
  },
  {
   "cell_type": "code",
   "execution_count": 4,
   "id": "8d9711b7-d547-426d-9660-7e59c93c98a6",
   "metadata": {},
   "outputs": [],
   "source": [
    "from utils.pandas import apply_filters\n",
    "from utils_local import colors_v1, read_spreadsheet"
   ]
  },
  {
   "cell_type": "code",
   "execution_count": 5,
   "id": "61461b34-2301-4e5a-849a-f183b33dc579",
   "metadata": {},
   "outputs": [],
   "source": [
    "plt.rcParams.update({\n",
    "    \"text.usetex\": True,\n",
    "    \"font.family\": \"serif\",\n",
    "    \"font.serif\": [\"Computer Modern Roman\"],\n",
    "})"
   ]
  },
  {
   "cell_type": "markdown",
   "id": "c4a08dcb-736b-4e51-a2c8-400ef67bdb5c",
   "metadata": {},
   "source": [
    "### Load result file"
   ]
  },
  {
   "cell_type": "code",
   "execution_count": 6,
   "id": "0561fae4-1da8-41fa-8c20-63eee7011991",
   "metadata": {},
   "outputs": [],
   "source": [
    "# # csv_path = \"../../results/sslvr-action_classification_dataset_size_241221.csv\"\n",
    "# # csv_path = \"../../results/dataset_size_150122.csv\"\n",
    "# # csv_path = \"../../results/dataset_size_240122.csv\"\n",
    "# csv_path = \"../../results/dataset_size_250122.csv\""
   ]
  },
  {
   "cell_type": "code",
   "execution_count": 7,
   "id": "e921b755-f990-4c99-9872-b7266fd1f336",
   "metadata": {},
   "outputs": [],
   "source": [
    "# df = pd.read_csv(csv_path)\n",
    "# df.dropna(inplace=True)"
   ]
  },
  {
   "cell_type": "code",
   "execution_count": 8,
   "id": "11920f53-6b31-4165-8ad4-b2b40ab401e3",
   "metadata": {},
   "outputs": [],
   "source": [
    "df = read_spreadsheet(gid_key=\"dataset_size\")\n",
    "df.dropna(inplace=True)"
   ]
  },
  {
   "cell_type": "code",
   "execution_count": 9,
   "id": "52acb988-73cc-4f68-9d65-6093d2cde0f1",
   "metadata": {},
   "outputs": [],
   "source": [
    "dataset_full_size = {\n",
    "    \"UCF\": \"9500\",\n",
    "    \"NTU\": \"40300\",\n",
    "    \"Gym99\": \"20500\",\n",
    "    \"SS\": \"169000\",\n",
    "}"
   ]
  },
  {
   "cell_type": "code",
   "execution_count": 10,
   "id": "014afdaf-0f9c-4b72-a1da-4361e879fbd7",
   "metadata": {},
   "outputs": [],
   "source": [
    "for d, v in dataset_full_size.items():\n",
    "    indices = (df.Dataset == d) * (df[\"Dataset size\"] == \"Full\")\n",
    "    df.at[indices, \"Dataset size (float)\"] = v"
   ]
  },
  {
   "cell_type": "code",
   "execution_count": 11,
   "id": "c84300dc-ad1a-4680-bc18-ceb51386132e",
   "metadata": {},
   "outputs": [],
   "source": [
    "df[\"Dataset size (float)\"] = df[\"Dataset size (float)\"].astype(float)"
   ]
  },
  {
   "cell_type": "code",
   "execution_count": 12,
   "id": "76866c04-014e-4474-a936-550a1769740c",
   "metadata": {},
   "outputs": [
    {
     "data": {
      "text/html": [
       "<div>\n",
       "<style scoped>\n",
       "    .dataframe tbody tr th:only-of-type {\n",
       "        vertical-align: middle;\n",
       "    }\n",
       "\n",
       "    .dataframe tbody tr th {\n",
       "        vertical-align: top;\n",
       "    }\n",
       "\n",
       "    .dataframe thead th {\n",
       "        text-align: right;\n",
       "    }\n",
       "</style>\n",
       "<table border=\"1\" class=\"dataframe\">\n",
       "  <thead>\n",
       "    <tr style=\"text-align: right;\">\n",
       "      <th></th>\n",
       "      <th>Method</th>\n",
       "      <th>Dataset</th>\n",
       "      <th>Dataset size</th>\n",
       "      <th>Top-1</th>\n",
       "      <th>Dataset size (float)</th>\n",
       "    </tr>\n",
       "  </thead>\n",
       "  <tbody>\n",
       "    <tr>\n",
       "      <th>0</th>\n",
       "      <td>No pretraining</td>\n",
       "      <td>UCF</td>\n",
       "      <td>1000</td>\n",
       "      <td>43.14</td>\n",
       "      <td>NaN</td>\n",
       "    </tr>\n",
       "    <tr>\n",
       "      <th>1</th>\n",
       "      <td>SELAVI</td>\n",
       "      <td>UCF</td>\n",
       "      <td>1000</td>\n",
       "      <td>69.18</td>\n",
       "      <td>NaN</td>\n",
       "    </tr>\n",
       "    <tr>\n",
       "      <th>2</th>\n",
       "      <td>RSPNET</td>\n",
       "      <td>UCF</td>\n",
       "      <td>1000</td>\n",
       "      <td>75.68</td>\n",
       "      <td>NaN</td>\n",
       "    </tr>\n",
       "    <tr>\n",
       "      <th>3</th>\n",
       "      <td>Video Moco</td>\n",
       "      <td>UCF</td>\n",
       "      <td>1000</td>\n",
       "      <td>65.82</td>\n",
       "      <td>NaN</td>\n",
       "    </tr>\n",
       "    <tr>\n",
       "      <th>4</th>\n",
       "      <td>Pretext-Contrast</td>\n",
       "      <td>UCF</td>\n",
       "      <td>1000</td>\n",
       "      <td>62.70</td>\n",
       "      <td>NaN</td>\n",
       "    </tr>\n",
       "    <tr>\n",
       "      <th>...</th>\n",
       "      <td>...</td>\n",
       "      <td>...</td>\n",
       "      <td>...</td>\n",
       "      <td>...</td>\n",
       "      <td>...</td>\n",
       "    </tr>\n",
       "    <tr>\n",
       "      <th>304</th>\n",
       "      <td>TCLR</td>\n",
       "      <td>SS</td>\n",
       "      <td>Full</td>\n",
       "      <td>59.64</td>\n",
       "      <td>169000.0</td>\n",
       "    </tr>\n",
       "    <tr>\n",
       "      <th>305</th>\n",
       "      <td>GDT</td>\n",
       "      <td>SS</td>\n",
       "      <td>Full</td>\n",
       "      <td>57.78</td>\n",
       "      <td>169000.0</td>\n",
       "    </tr>\n",
       "    <tr>\n",
       "      <th>306</th>\n",
       "      <td>AVID-CMA</td>\n",
       "      <td>SS</td>\n",
       "      <td>Full</td>\n",
       "      <td>53.82</td>\n",
       "      <td>169000.0</td>\n",
       "    </tr>\n",
       "    <tr>\n",
       "      <th>307</th>\n",
       "      <td>MoCo</td>\n",
       "      <td>SS</td>\n",
       "      <td>Full</td>\n",
       "      <td>52.42</td>\n",
       "      <td>169000.0</td>\n",
       "    </tr>\n",
       "    <tr>\n",
       "      <th>308</th>\n",
       "      <td>Supervised pretraining</td>\n",
       "      <td>SS</td>\n",
       "      <td>Full</td>\n",
       "      <td>61.02</td>\n",
       "      <td>169000.0</td>\n",
       "    </tr>\n",
       "  </tbody>\n",
       "</table>\n",
       "<p>297 rows × 5 columns</p>\n",
       "</div>"
      ],
      "text/plain": [
       "                     Method Dataset Dataset size  Top-1  Dataset size (float)\n",
       "0            No pretraining     UCF         1000  43.14                   NaN\n",
       "1                    SELAVI     UCF         1000  69.18                   NaN\n",
       "2                    RSPNET     UCF         1000  75.68                   NaN\n",
       "3                Video Moco     UCF         1000  65.82                   NaN\n",
       "4          Pretext-Contrast     UCF         1000  62.70                   NaN\n",
       "..                      ...     ...          ...    ...                   ...\n",
       "304                    TCLR      SS         Full  59.64              169000.0\n",
       "305                     GDT      SS         Full  57.78              169000.0\n",
       "306                AVID-CMA      SS         Full  53.82              169000.0\n",
       "307                    MoCo      SS         Full  52.42              169000.0\n",
       "308  Supervised pretraining      SS         Full  61.02              169000.0\n",
       "\n",
       "[297 rows x 5 columns]"
      ]
     },
     "execution_count": 12,
     "metadata": {},
     "output_type": "execute_result"
    }
   ],
   "source": [
    "df"
   ]
  },
  {
   "cell_type": "markdown",
   "id": "4a74cafd-95d1-4c2b-b180-398c2d6514ac",
   "metadata": {},
   "source": [
    "### Consider a single dataset"
   ]
  },
  {
   "cell_type": "code",
   "execution_count": 13,
   "id": "ff26518e-5863-489b-91ca-1c82cb8d9819",
   "metadata": {},
   "outputs": [],
   "source": [
    "D = apply_filters(df, {\"Dataset\": \"UCF\"})"
   ]
  },
  {
   "cell_type": "code",
   "execution_count": 14,
   "id": "6a921f4e-17a1-4229-8fca-0489852633fc",
   "metadata": {},
   "outputs": [],
   "source": [
    "indices_with_nan = D[\"Dataset size (float)\"].isna()\n",
    "D.at[indices_with_nan, \"Dataset size (float)\"] = D[indices_with_nan][\"Dataset size\"]\n",
    "D[\"Dataset size (float)\"] = D[\"Dataset size (float)\"].astype(float)"
   ]
  },
  {
   "cell_type": "code",
   "execution_count": 15,
   "id": "c37c9c66-1e7f-4595-b8ee-cd7d677254eb",
   "metadata": {},
   "outputs": [],
   "source": [
    "DM = apply_filters(D, {\"Method\": \"Supervised pretraining\"})"
   ]
  },
  {
   "cell_type": "code",
   "execution_count": 16,
   "id": "ff312f0a-d7b2-47d5-95be-2a88f810f835",
   "metadata": {},
   "outputs": [
    {
     "data": {
      "text/html": [
       "<div>\n",
       "<style scoped>\n",
       "    .dataframe tbody tr th:only-of-type {\n",
       "        vertical-align: middle;\n",
       "    }\n",
       "\n",
       "    .dataframe tbody tr th {\n",
       "        vertical-align: top;\n",
       "    }\n",
       "\n",
       "    .dataframe thead th {\n",
       "        text-align: right;\n",
       "    }\n",
       "</style>\n",
       "<table border=\"1\" class=\"dataframe\">\n",
       "  <thead>\n",
       "    <tr style=\"text-align: right;\">\n",
       "      <th></th>\n",
       "      <th>Method</th>\n",
       "      <th>Dataset</th>\n",
       "      <th>Dataset size</th>\n",
       "      <th>Top-1</th>\n",
       "      <th>Dataset size (float)</th>\n",
       "    </tr>\n",
       "  </thead>\n",
       "  <tbody>\n",
       "    <tr>\n",
       "      <th>10</th>\n",
       "      <td>Supervised pretraining</td>\n",
       "      <td>UCF</td>\n",
       "      <td>1000</td>\n",
       "      <td>86.02</td>\n",
       "      <td>1000.0</td>\n",
       "    </tr>\n",
       "    <tr>\n",
       "      <th>22</th>\n",
       "      <td>Supervised pretraining</td>\n",
       "      <td>UCF</td>\n",
       "      <td>2000</td>\n",
       "      <td>88.98</td>\n",
       "      <td>2000.0</td>\n",
       "    </tr>\n",
       "    <tr>\n",
       "      <th>34</th>\n",
       "      <td>Supervised pretraining</td>\n",
       "      <td>UCF</td>\n",
       "      <td>4000</td>\n",
       "      <td>92.55</td>\n",
       "      <td>4000.0</td>\n",
       "    </tr>\n",
       "    <tr>\n",
       "      <th>46</th>\n",
       "      <td>Supervised pretraining</td>\n",
       "      <td>UCF</td>\n",
       "      <td>8000</td>\n",
       "      <td>93.47</td>\n",
       "      <td>8000.0</td>\n",
       "    </tr>\n",
       "    <tr>\n",
       "      <th>58</th>\n",
       "      <td>Supervised pretraining</td>\n",
       "      <td>UCF</td>\n",
       "      <td>Full</td>\n",
       "      <td>94.08</td>\n",
       "      <td>9500.0</td>\n",
       "    </tr>\n",
       "  </tbody>\n",
       "</table>\n",
       "</div>"
      ],
      "text/plain": [
       "                    Method Dataset Dataset size  Top-1  Dataset size (float)\n",
       "10  Supervised pretraining     UCF         1000  86.02                1000.0\n",
       "22  Supervised pretraining     UCF         2000  88.98                2000.0\n",
       "34  Supervised pretraining     UCF         4000  92.55                4000.0\n",
       "46  Supervised pretraining     UCF         8000  93.47                8000.0\n",
       "58  Supervised pretraining     UCF         Full  94.08                9500.0"
      ]
     },
     "execution_count": 16,
     "metadata": {},
     "output_type": "execute_result"
    }
   ],
   "source": [
    "DM"
   ]
  },
  {
   "cell_type": "code",
   "execution_count": 17,
   "id": "d689f549-90da-4c61-8335-57772219b0fd",
   "metadata": {},
   "outputs": [
    {
     "data": {
      "text/plain": [
       "10    1000.0\n",
       "22    2000.0\n",
       "34    4000.0\n",
       "46    8000.0\n",
       "58    9500.0\n",
       "Name: Dataset size (float), dtype: float64"
      ]
     },
     "execution_count": 17,
     "metadata": {},
     "output_type": "execute_result"
    }
   ],
   "source": [
    "DM[\"Dataset size (float)\"].astype(float)"
   ]
  },
  {
   "cell_type": "code",
   "execution_count": 18,
   "id": "7e7605a9-d4ad-4155-a468-d318ad37fc95",
   "metadata": {},
   "outputs": [],
   "source": [
    "V = DM[\"Dataset size (float)\"].astype(float)"
   ]
  },
  {
   "cell_type": "code",
   "execution_count": 19,
   "id": "e0e17242-bf02-4724-97be-85a6c0aa7b73",
   "metadata": {},
   "outputs": [
    {
     "data": {
      "text/plain": [
       "array([1000., 2000., 4000., 8000., 9500.,    0.])"
      ]
     },
     "execution_count": 19,
     "metadata": {},
     "output_type": "execute_result"
    }
   ],
   "source": [
    "np.append(V, [0])"
   ]
  },
  {
   "cell_type": "code",
   "execution_count": 20,
   "id": "a6c0f84d-6bba-42a6-9ef0-2bf728ab65cf",
   "metadata": {},
   "outputs": [],
   "source": [
    "# fit a 2-degree polynomial\n",
    "\n",
    "def fit_quadriatic_with_origin(x, y):\n",
    "    assert isinstance(x, np.ndarray)\n",
    "    assert isinstance(y, np.ndarray)\n",
    "    assert len(x) == len(y)\n",
    "    assert len(x.shape) == 1\n",
    "    # x = np.append(x, [0.])\n",
    "    # y = np.append(x, [0.])\n",
    "\n",
    "    return np.polyfit(x=y, y=y, deg=2)"
   ]
  },
  {
   "cell_type": "code",
   "execution_count": 21,
   "id": "88ccc92b-d954-4c83-b521-49c6002dfae7",
   "metadata": {},
   "outputs": [],
   "source": [
    "theta = np.polyfit(x=DM[\"Dataset size (float)\"].values, y=DM[\"Top-1\"].values, deg=2)"
   ]
  },
  {
   "cell_type": "code",
   "execution_count": 22,
   "id": "cda0b96d-af24-4ee1-a89b-fc7d76ab39e4",
   "metadata": {},
   "outputs": [
    {
     "data": {
      "text/plain": [
       "array([-1.94726383e-07,  2.88699373e-03,  8.36988905e+01])"
      ]
     },
     "execution_count": 22,
     "metadata": {},
     "output_type": "execute_result"
    }
   ],
   "source": [
    "theta"
   ]
  },
  {
   "cell_type": "markdown",
   "id": "35bea24e-f880-4eed-85a7-0497d394751c",
   "metadata": {},
   "source": [
    "Try the same for other methods and visualize learnt parameters"
   ]
  },
  {
   "cell_type": "code",
   "execution_count": 23,
   "id": "12fef69f-d5e9-4d57-9779-4437449d54ac",
   "metadata": {},
   "outputs": [
    {
     "data": {
      "image/png": "[encoded data removed]",
      "text/plain": [
       "<Figure size 504x504 with 1 Axes>"
      ]
     },
     "metadata": {
      "needs_background": "light"
     },
     "output_type": "display_data"
    }
   ],
   "source": [
    "methods = D.Method.unique()\n",
    "\n",
    "fig, ax = plt.subplots(1, 1, figsize=(7, 7))\n",
    "ax.grid()\n",
    "ax.set_title(\"Polynomial co-efficients for UCF\")\n",
    "\n",
    "for m in methods:\n",
    "    DM = apply_filters(D, {\"Method\": m})\n",
    "    theta = np.polyfit(x=DM[\"Dataset size (float)\"].values, y=DM[\"Top-1\"].values, deg=2)\n",
    "    ax.scatter(theta[1], theta[2], label=m)\n",
    "\n",
    "ax.legend()\n",
    "plt.show()"
   ]
  },
  {
   "cell_type": "markdown",
   "id": "d0df5733-b77b-409e-ba34-61ef702002c1",
   "metadata": {},
   "source": [
    "### Extend the same for multiple datasets"
   ]
  },
  {
   "cell_type": "code",
   "execution_count": 24,
   "id": "e63e3820-e17e-4780-a539-be4df307a677",
   "metadata": {},
   "outputs": [],
   "source": [
    "from utils_local import colors_v1"
   ]
  },
  {
   "cell_type": "code",
   "execution_count": 25,
   "id": "0df37808-d131-4d83-a0f4-6a77216062b0",
   "metadata": {},
   "outputs": [
    {
     "data": {
      "text/plain": [
       "11"
      ]
     },
     "execution_count": 25,
     "metadata": {},
     "output_type": "execute_result"
    }
   ],
   "source": [
    "len(colors_v1)"
   ]
  },
  {
   "cell_type": "code",
   "execution_count": 34,
   "id": "796d4d30-187e-470a-bd9e-ab93c5c89132",
   "metadata": {},
   "outputs": [
    {
     "data": {
      "image/png": "[encoded data removed]",
      "text/plain": [
       "<Figure size 1440x396 with 4 Axes>"
      ]
     },
     "metadata": {
      "needs_background": "light"
     },
     "output_type": "display_data"
    }
   ],
   "source": [
    "datasets = df.Dataset.unique()\n",
    "\n",
    "markers = [\"o\", \"v\", \"s\", \"P\", \"*\", \"x\", \"p\", \"H\", \"D\", \"+\", \"^\"]\n",
    "\n",
    "fig, axes = plt.subplots(1, len(datasets), figsize=(20, 5.5))\n",
    "\n",
    "for i, d in enumerate(datasets):\n",
    "    D = apply_filters(df, {\"Dataset\": d})\n",
    "    ax = axes[i]\n",
    "    \n",
    "    indices_with_nan = D[\"Dataset size (float)\"].isna()\n",
    "    D.at[indices_with_nan, \"Dataset size (float)\"] = D[indices_with_nan][\"Dataset size\"]\n",
    "    D[\"Dataset size (float)\"] = D[\"Dataset size (float)\"].astype(float)\n",
    "\n",
    "    methods = D.Method.unique()\n",
    "\n",
    "    ax.grid()\n",
    "    \n",
    "    deg = 2\n",
    "    if d == \"SS\":\n",
    "        deg = 3\n",
    "    ax.set_title(f\"{d} ($D={deg}$)\", fontsize=20)\n",
    "\n",
    "    for j, m in enumerate(methods):\n",
    "        DM = apply_filters(D, {\"Method\": m})\n",
    "        theta = np.polyfit(x=DM[\"Dataset size (float)\"].values, y=DM[\"Top-1\"].values, deg=deg)\n",
    "        if d != \"SS\":\n",
    "            ax.scatter(theta[1], theta[2], label=m, s=150, marker=markers[j], color=colors_v1[j])\n",
    "        else:\n",
    "            ax.scatter(theta[2], theta[3], label=m, s=150, marker=markers[j], color=colors_v1[j])\n",
    "    \n",
    "    if i == len(datasets) - 1:\n",
    "        ax.legend(ncol=len(methods) // 2, bbox_to_anchor=(1.0,-0.1), fontsize=21)\n",
    "    \n",
    "    ax.tick_params(axis='both', which='major', labelsize=13)\n",
    "    ax.set_xlabel(\"$\\\\theta_{D-1}$\", fontsize=18)\n",
    "    if i == 0:\n",
    "        ax.set_ylabel(\"$\\\\theta_{D}$\", fontsize=18)\n",
    "\n",
    "plt.suptitle(\"Polynomial co-efficients of degree $D$ fit to model performance vs number of samples\", fontsize=25, y=1.06)\n",
    "plt.savefig(\"../../results/plots/dataset_size_ablation_poly_fit_v1.pdf\", bbox_inches=\"tight\")\n",
    "plt.show()"
   ]
  },
  {
   "cell_type": "code",
   "execution_count": null,
   "id": "b55a6a4f-6082-4674-85b0-0f01127feead",
   "metadata": {},
   "outputs": [],
   "source": []
  }
 ],
 "metadata": {
  "kernelspec": {
   "display_name": "Python 3 (ipykernel)",
   "language": "python",
   "name": "python3"
  },
  "language_info": {
   "codemirror_mode": {
    "name": "ipython",
    "version": 3
   },
   "file_extension": ".py",
   "mimetype": "text/x-python",
   "name": "python",
   "nbconvert_exporter": "python",
   "pygments_lexer": "ipython3",
   "version": "3.9.7"
  }
 },
 "nbformat": 4,
 "nbformat_minor": 5
}
