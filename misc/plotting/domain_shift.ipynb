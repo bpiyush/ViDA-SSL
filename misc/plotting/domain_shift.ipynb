{
 "cells": [
  {
   "cell_type": "code",
   "execution_count": 1,
   "id": "82da37a4-da66-40a0-bc0b-dd697aba45cb",
   "metadata": {},
   "outputs": [],
   "source": [
    "%load_ext autoreload\n",
    "%autoreload 2"
   ]
  },
  {
   "cell_type": "code",
   "execution_count": 2,
   "id": "96cf246b-caad-41cc-850a-a08975875735",
   "metadata": {},
   "outputs": [],
   "source": [
    "from os.path import join\n",
    "import numpy as np\n",
    "import pandas as pd\n",
    "import matplotlib.pyplot as plt\n",
    "import seaborn as sns"
   ]
  },
  {
   "cell_type": "code",
   "execution_count": 3,
   "id": "a7b196b2-1449-45e0-ab91-b2841fa190c4",
   "metadata": {},
   "outputs": [],
   "source": [
    "plt.rcParams.update({\n",
    "    \"text.usetex\": True,\n",
    "    \"font.family\": \"serif\",\n",
    "    \"font.serif\": [\"Computer Modern Roman\"],\n",
    "})"
   ]
  },
  {
   "cell_type": "code",
   "execution_count": 4,
   "id": "1c5afb1e-e7a6-44d9-86b6-2476ace757d8",
   "metadata": {},
   "outputs": [],
   "source": [
    "csv_path = \"../../results/sslvr-domain.csv\""
   ]
  },
  {
   "cell_type": "code",
   "execution_count": 5,
   "id": "1ec86977-8e53-411b-8cea-9a6e4727f1cc",
   "metadata": {},
   "outputs": [],
   "source": [
    "df = pd.read_csv(csv_path, index_col=0)"
   ]
  },
  {
   "cell_type": "code",
   "execution_count": 6,
   "id": "6e7cbb13-14c8-45c9-8294-70bc3903491f",
   "metadata": {},
   "outputs": [
    {
     "data": {
      "text/html": [
       "<div>\n",
       "<style scoped>\n",
       "    .dataframe tbody tr th:only-of-type {\n",
       "        vertical-align: middle;\n",
       "    }\n",
       "\n",
       "    .dataframe tbody tr th {\n",
       "        vertical-align: top;\n",
       "    }\n",
       "\n",
       "    .dataframe thead th {\n",
       "        text-align: right;\n",
       "    }\n",
       "</style>\n",
       "<table border=\"1\" class=\"dataframe\">\n",
       "  <thead>\n",
       "    <tr style=\"text-align: right;\">\n",
       "      <th></th>\n",
       "      <th>UCF101</th>\n",
       "      <th>NTU</th>\n",
       "      <th>SS (V2)</th>\n",
       "      <th>FineGym</th>\n",
       "      <th>EPIC (Verb)</th>\n",
       "    </tr>\n",
       "  </thead>\n",
       "  <tbody>\n",
       "    <tr>\n",
       "      <th>None</th>\n",
       "      <td>75.36</td>\n",
       "      <td>92.87</td>\n",
       "      <td>56.81</td>\n",
       "      <td>89.41</td>\n",
       "      <td>25.67</td>\n",
       "    </tr>\n",
       "    <tr>\n",
       "      <th>SeLaVi</th>\n",
       "      <td>84.88</td>\n",
       "      <td>92.78</td>\n",
       "      <td>56.37</td>\n",
       "      <td>88.93</td>\n",
       "      <td>33.77</td>\n",
       "    </tr>\n",
       "    <tr>\n",
       "      <th>RSPNet</th>\n",
       "      <td>85.59</td>\n",
       "      <td>93.51</td>\n",
       "      <td>53.75</td>\n",
       "      <td>89.88</td>\n",
       "      <td>36.22</td>\n",
       "    </tr>\n",
       "    <tr>\n",
       "      <th>VideoMoCo</th>\n",
       "      <td>85.83</td>\n",
       "      <td>94.09</td>\n",
       "      <td>58.75</td>\n",
       "      <td>90.54</td>\n",
       "      <td>43.61</td>\n",
       "    </tr>\n",
       "    <tr>\n",
       "      <th>Pretext-contrast</th>\n",
       "      <td>86.60</td>\n",
       "      <td>93.86</td>\n",
       "      <td>54.03</td>\n",
       "      <td>90.31</td>\n",
       "      <td>34.29</td>\n",
       "    </tr>\n",
       "    <tr>\n",
       "      <th>CTP</th>\n",
       "      <td>89.77</td>\n",
       "      <td>94.31</td>\n",
       "      <td>60.16</td>\n",
       "      <td>92.17</td>\n",
       "      <td>42.84</td>\n",
       "    </tr>\n",
       "    <tr>\n",
       "      <th>TCLR</th>\n",
       "      <td>90.77</td>\n",
       "      <td>94.11</td>\n",
       "      <td>59.64</td>\n",
       "      <td>91.49</td>\n",
       "      <td>36.18</td>\n",
       "    </tr>\n",
       "    <tr>\n",
       "      <th>GDT</th>\n",
       "      <td>91.14</td>\n",
       "      <td>93.89</td>\n",
       "      <td>57.78</td>\n",
       "      <td>90.36</td>\n",
       "      <td>37.26</td>\n",
       "    </tr>\n",
       "    <tr>\n",
       "      <th>Supervised</th>\n",
       "      <td>94.08</td>\n",
       "      <td>93.89</td>\n",
       "      <td>61.02</td>\n",
       "      <td>91.77</td>\n",
       "      <td>47.67</td>\n",
       "    </tr>\n",
       "  </tbody>\n",
       "</table>\n",
       "</div>"
      ],
      "text/plain": [
       "                  UCF101    NTU  SS (V2)  FineGym  EPIC (Verb)\n",
       "None               75.36  92.87    56.81    89.41        25.67\n",
       "SeLaVi             84.88  92.78    56.37    88.93        33.77\n",
       "RSPNet             85.59  93.51    53.75    89.88        36.22\n",
       "VideoMoCo          85.83  94.09    58.75    90.54        43.61\n",
       "Pretext-contrast   86.60  93.86    54.03    90.31        34.29\n",
       "CTP                89.77  94.31    60.16    92.17        42.84\n",
       "TCLR               90.77  94.11    59.64    91.49        36.18\n",
       "GDT                91.14  93.89    57.78    90.36        37.26\n",
       "Supervised         94.08  93.89    61.02    91.77        47.67"
      ]
     },
     "execution_count": 6,
     "metadata": {},
     "output_type": "execute_result"
    }
   ],
   "source": [
    "df"
   ]
  },
  {
   "cell_type": "code",
   "execution_count": 7,
   "id": "b9109b24-3658-4dd3-ba2a-80c7e23a56fc",
   "metadata": {},
   "outputs": [],
   "source": [
    "df.columns = [[\"UCF101\", \"NTU\", \"Something-something\", \"FineGym\", \"EPIC (Verb)\"]]"
   ]
  },
  {
   "cell_type": "code",
   "execution_count": 8,
   "id": "8eff8131-ef63-4672-a566-2bd56848ff0b",
   "metadata": {},
   "outputs": [
    {
     "data": {
      "text/html": [
       "<div>\n",
       "<style scoped>\n",
       "    .dataframe tbody tr th:only-of-type {\n",
       "        vertical-align: middle;\n",
       "    }\n",
       "\n",
       "    .dataframe tbody tr th {\n",
       "        vertical-align: top;\n",
       "    }\n",
       "\n",
       "    .dataframe thead tr th {\n",
       "        text-align: left;\n",
       "    }\n",
       "</style>\n",
       "<table border=\"1\" class=\"dataframe\">\n",
       "  <thead>\n",
       "    <tr>\n",
       "      <th></th>\n",
       "      <th>UCF101</th>\n",
       "      <th>NTU</th>\n",
       "      <th>Something-something</th>\n",
       "      <th>FineGym</th>\n",
       "      <th>EPIC (Verb)</th>\n",
       "    </tr>\n",
       "  </thead>\n",
       "  <tbody>\n",
       "    <tr>\n",
       "      <th>None</th>\n",
       "      <td>75.36</td>\n",
       "      <td>92.87</td>\n",
       "      <td>56.81</td>\n",
       "      <td>89.41</td>\n",
       "      <td>25.67</td>\n",
       "    </tr>\n",
       "    <tr>\n",
       "      <th>SeLaVi</th>\n",
       "      <td>84.88</td>\n",
       "      <td>92.78</td>\n",
       "      <td>56.37</td>\n",
       "      <td>88.93</td>\n",
       "      <td>33.77</td>\n",
       "    </tr>\n",
       "    <tr>\n",
       "      <th>RSPNet</th>\n",
       "      <td>85.59</td>\n",
       "      <td>93.51</td>\n",
       "      <td>53.75</td>\n",
       "      <td>89.88</td>\n",
       "      <td>36.22</td>\n",
       "    </tr>\n",
       "    <tr>\n",
       "      <th>VideoMoCo</th>\n",
       "      <td>85.83</td>\n",
       "      <td>94.09</td>\n",
       "      <td>58.75</td>\n",
       "      <td>90.54</td>\n",
       "      <td>43.61</td>\n",
       "    </tr>\n",
       "    <tr>\n",
       "      <th>Pretext-contrast</th>\n",
       "      <td>86.60</td>\n",
       "      <td>93.86</td>\n",
       "      <td>54.03</td>\n",
       "      <td>90.31</td>\n",
       "      <td>34.29</td>\n",
       "    </tr>\n",
       "    <tr>\n",
       "      <th>CTP</th>\n",
       "      <td>89.77</td>\n",
       "      <td>94.31</td>\n",
       "      <td>60.16</td>\n",
       "      <td>92.17</td>\n",
       "      <td>42.84</td>\n",
       "    </tr>\n",
       "    <tr>\n",
       "      <th>TCLR</th>\n",
       "      <td>90.77</td>\n",
       "      <td>94.11</td>\n",
       "      <td>59.64</td>\n",
       "      <td>91.49</td>\n",
       "      <td>36.18</td>\n",
       "    </tr>\n",
       "    <tr>\n",
       "      <th>GDT</th>\n",
       "      <td>91.14</td>\n",
       "      <td>93.89</td>\n",
       "      <td>57.78</td>\n",
       "      <td>90.36</td>\n",
       "      <td>37.26</td>\n",
       "    </tr>\n",
       "    <tr>\n",
       "      <th>Supervised</th>\n",
       "      <td>94.08</td>\n",
       "      <td>93.89</td>\n",
       "      <td>61.02</td>\n",
       "      <td>91.77</td>\n",
       "      <td>47.67</td>\n",
       "    </tr>\n",
       "  </tbody>\n",
       "</table>\n",
       "</div>"
      ],
      "text/plain": [
       "                 UCF101    NTU Something-something FineGym EPIC (Verb)\n",
       "None              75.36  92.87               56.81   89.41       25.67\n",
       "SeLaVi            84.88  92.78               56.37   88.93       33.77\n",
       "RSPNet            85.59  93.51               53.75   89.88       36.22\n",
       "VideoMoCo         85.83  94.09               58.75   90.54       43.61\n",
       "Pretext-contrast  86.60  93.86               54.03   90.31       34.29\n",
       "CTP               89.77  94.31               60.16   92.17       42.84\n",
       "TCLR              90.77  94.11               59.64   91.49       36.18\n",
       "GDT               91.14  93.89               57.78   90.36       37.26\n",
       "Supervised        94.08  93.89               61.02   91.77       47.67"
      ]
     },
     "execution_count": 8,
     "metadata": {},
     "output_type": "execute_result"
    }
   ],
   "source": [
    "df"
   ]
  },
  {
   "cell_type": "markdown",
   "id": "501d40a1-dce1-4ff0-a990-156e7f3bd91e",
   "metadata": {},
   "source": [
    "### Column-wise normalized"
   ]
  },
  {
   "cell_type": "code",
   "execution_count": 9,
   "id": "853ae2b0-0a0d-41e9-ad5b-4a1d788b52e1",
   "metadata": {},
   "outputs": [],
   "source": [
    "norm_df=(df-df.loc[\"None\"])/(df.loc[\"Supervised\"]-df.loc[\"None\"])"
   ]
  },
  {
   "cell_type": "code",
   "execution_count": 10,
   "id": "ae4947b2-4654-45a2-9eec-5fb628efba9b",
   "metadata": {},
   "outputs": [
    {
     "data": {
      "text/html": [
       "<div>\n",
       "<style scoped>\n",
       "    .dataframe tbody tr th:only-of-type {\n",
       "        vertical-align: middle;\n",
       "    }\n",
       "\n",
       "    .dataframe tbody tr th {\n",
       "        vertical-align: top;\n",
       "    }\n",
       "\n",
       "    .dataframe thead tr th {\n",
       "        text-align: left;\n",
       "    }\n",
       "</style>\n",
       "<table border=\"1\" class=\"dataframe\">\n",
       "  <thead>\n",
       "    <tr>\n",
       "      <th></th>\n",
       "      <th>UCF101</th>\n",
       "      <th>NTU</th>\n",
       "      <th>Something-something</th>\n",
       "      <th>FineGym</th>\n",
       "      <th>EPIC (Verb)</th>\n",
       "    </tr>\n",
       "  </thead>\n",
       "  <tbody>\n",
       "    <tr>\n",
       "      <th>None</th>\n",
       "      <td>0.000000</td>\n",
       "      <td>0.000000</td>\n",
       "      <td>0.000000</td>\n",
       "      <td>0.000000</td>\n",
       "      <td>0.000000</td>\n",
       "    </tr>\n",
       "    <tr>\n",
       "      <th>SeLaVi</th>\n",
       "      <td>0.508547</td>\n",
       "      <td>-0.088235</td>\n",
       "      <td>-0.104513</td>\n",
       "      <td>-0.203390</td>\n",
       "      <td>0.368182</td>\n",
       "    </tr>\n",
       "    <tr>\n",
       "      <th>RSPNet</th>\n",
       "      <td>0.546474</td>\n",
       "      <td>0.627451</td>\n",
       "      <td>-0.726841</td>\n",
       "      <td>0.199153</td>\n",
       "      <td>0.479545</td>\n",
       "    </tr>\n",
       "    <tr>\n",
       "      <th>VideoMoCo</th>\n",
       "      <td>0.559295</td>\n",
       "      <td>1.196078</td>\n",
       "      <td>0.460808</td>\n",
       "      <td>0.478814</td>\n",
       "      <td>0.815455</td>\n",
       "    </tr>\n",
       "    <tr>\n",
       "      <th>Pretext-contrast</th>\n",
       "      <td>0.600427</td>\n",
       "      <td>0.970588</td>\n",
       "      <td>-0.660333</td>\n",
       "      <td>0.381356</td>\n",
       "      <td>0.391818</td>\n",
       "    </tr>\n",
       "    <tr>\n",
       "      <th>CTP</th>\n",
       "      <td>0.769765</td>\n",
       "      <td>1.411765</td>\n",
       "      <td>0.795724</td>\n",
       "      <td>1.169492</td>\n",
       "      <td>0.780455</td>\n",
       "    </tr>\n",
       "    <tr>\n",
       "      <th>TCLR</th>\n",
       "      <td>0.823184</td>\n",
       "      <td>1.215686</td>\n",
       "      <td>0.672209</td>\n",
       "      <td>0.881356</td>\n",
       "      <td>0.477727</td>\n",
       "    </tr>\n",
       "    <tr>\n",
       "      <th>GDT</th>\n",
       "      <td>0.842949</td>\n",
       "      <td>1.000000</td>\n",
       "      <td>0.230404</td>\n",
       "      <td>0.402542</td>\n",
       "      <td>0.526818</td>\n",
       "    </tr>\n",
       "    <tr>\n",
       "      <th>Supervised</th>\n",
       "      <td>1.000000</td>\n",
       "      <td>1.000000</td>\n",
       "      <td>1.000000</td>\n",
       "      <td>1.000000</td>\n",
       "      <td>1.000000</td>\n",
       "    </tr>\n",
       "  </tbody>\n",
       "</table>\n",
       "</div>"
      ],
      "text/plain": [
       "                    UCF101       NTU Something-something   FineGym EPIC (Verb)\n",
       "None              0.000000  0.000000            0.000000  0.000000    0.000000\n",
       "SeLaVi            0.508547 -0.088235           -0.104513 -0.203390    0.368182\n",
       "RSPNet            0.546474  0.627451           -0.726841  0.199153    0.479545\n",
       "VideoMoCo         0.559295  1.196078            0.460808  0.478814    0.815455\n",
       "Pretext-contrast  0.600427  0.970588           -0.660333  0.381356    0.391818\n",
       "CTP               0.769765  1.411765            0.795724  1.169492    0.780455\n",
       "TCLR              0.823184  1.215686            0.672209  0.881356    0.477727\n",
       "GDT               0.842949  1.000000            0.230404  0.402542    0.526818\n",
       "Supervised        1.000000  1.000000            1.000000  1.000000    1.000000"
      ]
     },
     "execution_count": 10,
     "metadata": {},
     "output_type": "execute_result"
    }
   ],
   "source": [
    "norm_df"
   ]
  },
  {
   "cell_type": "code",
   "execution_count": 11,
   "id": "c8af030c-dc3e-4e5d-8377-f281adeb90dd",
   "metadata": {},
   "outputs": [],
   "source": [
    "def heatmap(df, titlesize=20, labelsize=15, tickssize=13):\n",
    "    fig, ax = plt.subplots(1, 1, figsize=(7, 6))\n",
    "\n",
    "    sns.heatmap(df, cmap=\"YlGnBu\", ax=ax)\n",
    "\n",
    "    ax.set_title(\"Action classification\", fontsize=titlesize)\n",
    "\n",
    "    ax.set_xlabel(\"Dataset\")\n",
    "    ax.set_ylabel(\"Method\")\n",
    "    \n",
    "    ax.yaxis.label.set_size(labelsize)\n",
    "    ax.xaxis.label.set_size(labelsize)\n",
    "\n",
    "    ax.tick_params(axis='x', labelsize=tickssize)\n",
    "    ax.tick_params(axis='y', labelsize=tickssize)\n",
    "\n",
    "    plt.show()"
   ]
  },
  {
   "cell_type": "code",
   "execution_count": 12,
   "id": "9e491bb5-3ae0-4f64-a758-5b0fcf1b1d6e",
   "metadata": {},
   "outputs": [
    {
     "data": {
      "image/png": "[encoded data removed]",
      "text/plain": [
       "<Figure size 504x432 with 2 Axes>"
      ]
     },
     "metadata": {
      "needs_background": "light"
     },
     "output_type": "display_data"
    }
   ],
   "source": [
    "heatmap(norm_df)"
   ]
  },
  {
   "cell_type": "markdown",
   "id": "fdcd24f0-53a7-4548-beb4-d7b2d9f6093d",
   "metadata": {},
   "source": [
    "### Normalizing between 0-1"
   ]
  },
  {
   "cell_type": "code",
   "execution_count": 13,
   "id": "25a1fa28-45a3-4e1c-8b93-84143946b914",
   "metadata": {},
   "outputs": [],
   "source": [
    "normalized_df=(df-df.min())/(df.max()-df.min())"
   ]
  },
  {
   "cell_type": "code",
   "execution_count": 14,
   "id": "143380df-ae5d-47ca-acec-7a15066615dc",
   "metadata": {},
   "outputs": [
    {
     "data": {
      "text/html": [
       "<div>\n",
       "<style scoped>\n",
       "    .dataframe tbody tr th:only-of-type {\n",
       "        vertical-align: middle;\n",
       "    }\n",
       "\n",
       "    .dataframe tbody tr th {\n",
       "        vertical-align: top;\n",
       "    }\n",
       "\n",
       "    .dataframe thead tr th {\n",
       "        text-align: left;\n",
       "    }\n",
       "</style>\n",
       "<table border=\"1\" class=\"dataframe\">\n",
       "  <thead>\n",
       "    <tr>\n",
       "      <th></th>\n",
       "      <th>UCF101</th>\n",
       "      <th>NTU</th>\n",
       "      <th>Something-something</th>\n",
       "      <th>FineGym</th>\n",
       "      <th>EPIC (Verb)</th>\n",
       "    </tr>\n",
       "  </thead>\n",
       "  <tbody>\n",
       "    <tr>\n",
       "      <th>None</th>\n",
       "      <td>0.000000</td>\n",
       "      <td>0.058824</td>\n",
       "      <td>0.420908</td>\n",
       "      <td>0.148148</td>\n",
       "      <td>0.000000</td>\n",
       "    </tr>\n",
       "    <tr>\n",
       "      <th>SeLaVi</th>\n",
       "      <td>0.508547</td>\n",
       "      <td>0.000000</td>\n",
       "      <td>0.360385</td>\n",
       "      <td>0.000000</td>\n",
       "      <td>0.368182</td>\n",
       "    </tr>\n",
       "    <tr>\n",
       "      <th>RSPNet</th>\n",
       "      <td>0.546474</td>\n",
       "      <td>0.477124</td>\n",
       "      <td>0.000000</td>\n",
       "      <td>0.293210</td>\n",
       "      <td>0.479545</td>\n",
       "    </tr>\n",
       "    <tr>\n",
       "      <th>VideoMoCo</th>\n",
       "      <td>0.559295</td>\n",
       "      <td>0.856209</td>\n",
       "      <td>0.687758</td>\n",
       "      <td>0.496914</td>\n",
       "      <td>0.815455</td>\n",
       "    </tr>\n",
       "    <tr>\n",
       "      <th>Pretext-contrast</th>\n",
       "      <td>0.600427</td>\n",
       "      <td>0.705882</td>\n",
       "      <td>0.038514</td>\n",
       "      <td>0.425926</td>\n",
       "      <td>0.391818</td>\n",
       "    </tr>\n",
       "    <tr>\n",
       "      <th>CTP</th>\n",
       "      <td>0.769765</td>\n",
       "      <td>1.000000</td>\n",
       "      <td>0.881706</td>\n",
       "      <td>1.000000</td>\n",
       "      <td>0.780455</td>\n",
       "    </tr>\n",
       "    <tr>\n",
       "      <th>TCLR</th>\n",
       "      <td>0.823184</td>\n",
       "      <td>0.869281</td>\n",
       "      <td>0.810179</td>\n",
       "      <td>0.790123</td>\n",
       "      <td>0.477727</td>\n",
       "    </tr>\n",
       "    <tr>\n",
       "      <th>GDT</th>\n",
       "      <td>0.842949</td>\n",
       "      <td>0.725490</td>\n",
       "      <td>0.554333</td>\n",
       "      <td>0.441358</td>\n",
       "      <td>0.526818</td>\n",
       "    </tr>\n",
       "    <tr>\n",
       "      <th>Supervised</th>\n",
       "      <td>1.000000</td>\n",
       "      <td>0.725490</td>\n",
       "      <td>1.000000</td>\n",
       "      <td>0.876543</td>\n",
       "      <td>1.000000</td>\n",
       "    </tr>\n",
       "  </tbody>\n",
       "</table>\n",
       "</div>"
      ],
      "text/plain": [
       "                    UCF101       NTU Something-something   FineGym EPIC (Verb)\n",
       "None              0.000000  0.058824            0.420908  0.148148    0.000000\n",
       "SeLaVi            0.508547  0.000000            0.360385  0.000000    0.368182\n",
       "RSPNet            0.546474  0.477124            0.000000  0.293210    0.479545\n",
       "VideoMoCo         0.559295  0.856209            0.687758  0.496914    0.815455\n",
       "Pretext-contrast  0.600427  0.705882            0.038514  0.425926    0.391818\n",
       "CTP               0.769765  1.000000            0.881706  1.000000    0.780455\n",
       "TCLR              0.823184  0.869281            0.810179  0.790123    0.477727\n",
       "GDT               0.842949  0.725490            0.554333  0.441358    0.526818\n",
       "Supervised        1.000000  0.725490            1.000000  0.876543    1.000000"
      ]
     },
     "execution_count": 14,
     "metadata": {},
     "output_type": "execute_result"
    }
   ],
   "source": [
    "normalized_df"
   ]
  },
  {
   "cell_type": "code",
   "execution_count": 15,
   "id": "b4980b98-195c-499b-a7b2-8f34726c3389",
   "metadata": {},
   "outputs": [
    {
     "data": {
      "image/png": "[encoded data removed]",
      "text/plain": [
       "<Figure size 504x432 with 2 Axes>"
      ]
     },
     "metadata": {
      "needs_background": "light"
     },
     "output_type": "display_data"
    }
   ],
   "source": [
    "heatmap(normalized_df)"
   ]
  },
  {
   "cell_type": "code",
   "execution_count": 20,
   "id": "aa69f92c-a78a-4ae8-b8e6-b267656d4644",
   "metadata": {},
   "outputs": [
    {
     "data": {
      "text/plain": [
       "UCF101                 0.082945\n",
       "NTU                    0.126099\n",
       "Something-something    0.126459\n",
       "FineGym                0.112671\n",
       "EPIC (Verb)            0.087004\n",
       "dtype: float64"
      ]
     },
     "execution_count": 20,
     "metadata": {},
     "output_type": "execute_result"
    }
   ],
   "source": [
    "normalized_df.var()"
   ]
  },
  {
   "cell_type": "code",
   "execution_count": 17,
   "id": "05dbdecd-904d-40b8-804d-9d64624a9404",
   "metadata": {},
   "outputs": [
    {
     "data": {
      "text/plain": [
       "UCF101                 29.067150\n",
       "NTU                     0.295186\n",
       "Something-something     6.683750\n",
       "FineGym                 1.182775\n",
       "EPIC (Verb)            42.110111\n",
       "dtype: float64"
      ]
     },
     "execution_count": 17,
     "metadata": {},
     "output_type": "execute_result"
    }
   ],
   "source": [
    "df.var()"
   ]
  },
  {
   "cell_type": "code",
   "execution_count": 18,
   "id": "c8771f80-063a-4e29-84d7-3e7500fccc49",
   "metadata": {},
   "outputs": [
    {
     "data": {
      "text/plain": [
       "UCF101                 0.627849\n",
       "NTU                    0.602033\n",
       "Something-something    0.528198\n",
       "FineGym                0.496914\n",
       "EPIC (Verb)            0.537778\n",
       "dtype: float64"
      ]
     },
     "execution_count": 18,
     "metadata": {},
     "output_type": "execute_result"
    }
   ],
   "source": [
    "normalized_df.mean()"
   ]
  },
  {
   "cell_type": "code",
   "execution_count": null,
   "id": "a92d2b7e-66c1-47b2-ad28-1fa8830d84e8",
   "metadata": {},
   "outputs": [],
   "source": []
  }
 ],
 "metadata": {
  "kernelspec": {
   "display_name": "Python 3 (ipykernel)",
   "language": "python",
   "name": "python3"
  },
  "language_info": {
   "codemirror_mode": {
    "name": "ipython",
    "version": 3
   },
   "file_extension": ".py",
   "mimetype": "text/x-python",
   "name": "python",
   "nbconvert_exporter": "python",
   "pygments_lexer": "ipython3",
   "version": "3.9.7"
  }
 },
 "nbformat": 4,
 "nbformat_minor": 5
}
