{
 "cells": [
  {
   "cell_type": "code",
   "execution_count": 1,
   "id": "115ea0af-0254-478d-a9dc-1404978d6678",
   "metadata": {},
   "outputs": [],
   "source": [
    "%load_ext autoreload\n",
    "%autoreload 2"
   ]
  },
  {
   "cell_type": "code",
   "execution_count": 2,
   "id": "93f5352e-9279-4b9e-9b2b-34648896e077",
   "metadata": {},
   "outputs": [],
   "source": [
    "from os.path import join, abspath\n",
    "import numpy as np\n",
    "import pandas as pd\n",
    "import matplotlib.pyplot as plt\n",
    "import seaborn as sns"
   ]
  },
  {
   "cell_type": "code",
   "execution_count": 3,
   "id": "21c976c9-3f3b-4aaa-9341-47f74239e3d7",
   "metadata": {},
   "outputs": [],
   "source": [
    "import sys\n",
    "sys.path.insert(0, abspath(\"./../../\"))"
   ]
  },
  {
   "cell_type": "code",
   "execution_count": 41,
   "id": "f86ccd6f-fb34-423a-af3a-84cb171cad80",
   "metadata": {},
   "outputs": [],
   "source": [
    "from utils.pandas import apply_filters\n",
    "from utils.plt import configure_ax"
   ]
  },
  {
   "cell_type": "code",
   "execution_count": 5,
   "id": "cd8dd4d5-f9e3-49b8-8fd7-15f59f236a47",
   "metadata": {},
   "outputs": [],
   "source": [
    "plt.rcParams.update({\n",
    "    \"text.usetex\": True,\n",
    "    \"font.family\": \"serif\",\n",
    "    \"font.serif\": [\"Computer Modern Roman\"],\n",
    "})"
   ]
  },
  {
   "cell_type": "markdown",
   "id": "6a8bbf4a-df5b-4e44-9aff-a24e6371b791",
   "metadata": {},
   "source": [
    "### Load result file"
   ]
  },
  {
   "cell_type": "code",
   "execution_count": 9,
   "id": "659bf2d9-bd86-49ae-a47d-96116d91dd45",
   "metadata": {},
   "outputs": [],
   "source": [
    "csv_path = \"../../results/action_temporality.csv\""
   ]
  },
  {
   "cell_type": "code",
   "execution_count": 23,
   "id": "a67ff0f0-7947-4699-9f1d-40be3ad89b9f",
   "metadata": {},
   "outputs": [],
   "source": [
    "df = pd.read_csv(csv_path)\n",
    "df.dropna(inplace=True)"
   ]
  },
  {
   "cell_type": "code",
   "execution_count": 26,
   "id": "f05d004a-58ea-4cf1-a1fb-3086f029e1ed",
   "metadata": {},
   "outputs": [],
   "source": [
    "for c in set(df.columns) - {\"Frames\", \"Kinetics\"}:\n",
    "    df[c] = df[c].apply(lambda x: x.split(\"\\u200b\")[0]).astype(float)"
   ]
  },
  {
   "cell_type": "code",
   "execution_count": 27,
   "id": "27f112a5-4213-458b-80ad-6fff55bb58ed",
   "metadata": {},
   "outputs": [
    {
     "data": {
      "text/html": [
       "<div>\n",
       "<style scoped>\n",
       "    .dataframe tbody tr th:only-of-type {\n",
       "        vertical-align: middle;\n",
       "    }\n",
       "\n",
       "    .dataframe tbody tr th {\n",
       "        vertical-align: top;\n",
       "    }\n",
       "\n",
       "    .dataframe thead th {\n",
       "        text-align: right;\n",
       "    }\n",
       "</style>\n",
       "<table border=\"1\" class=\"dataframe\">\n",
       "  <thead>\n",
       "    <tr style=\"text-align: right;\">\n",
       "      <th></th>\n",
       "      <th>Frames</th>\n",
       "      <th>UCF</th>\n",
       "      <th>SS</th>\n",
       "      <th>Gym99</th>\n",
       "      <th>NTU</th>\n",
       "      <th>EPIC (verbs)</th>\n",
       "      <th>Kinetics</th>\n",
       "    </tr>\n",
       "  </thead>\n",
       "  <tbody>\n",
       "    <tr>\n",
       "      <th>0</th>\n",
       "      <td>1</td>\n",
       "      <td>80.04</td>\n",
       "      <td>18.69</td>\n",
       "      <td>60.61</td>\n",
       "      <td>56.88</td>\n",
       "      <td>28.33</td>\n",
       "      <td>0</td>\n",
       "    </tr>\n",
       "    <tr>\n",
       "      <th>1</th>\n",
       "      <td>8</td>\n",
       "      <td>91.22</td>\n",
       "      <td>40.89</td>\n",
       "      <td>83.71</td>\n",
       "      <td>90.45</td>\n",
       "      <td>36.06</td>\n",
       "      <td>0</td>\n",
       "    </tr>\n",
       "    <tr>\n",
       "      <th>2</th>\n",
       "      <td>16</td>\n",
       "      <td>93.58</td>\n",
       "      <td>52.88</td>\n",
       "      <td>88.11</td>\n",
       "      <td>93.89</td>\n",
       "      <td>40.22</td>\n",
       "      <td>0</td>\n",
       "    </tr>\n",
       "    <tr>\n",
       "      <th>3</th>\n",
       "      <td>32</td>\n",
       "      <td>94.01</td>\n",
       "      <td>61.05</td>\n",
       "      <td>91.77</td>\n",
       "      <td>94.90</td>\n",
       "      <td>47.67</td>\n",
       "      <td>0</td>\n",
       "    </tr>\n",
       "  </tbody>\n",
       "</table>\n",
       "</div>"
      ],
      "text/plain": [
       "   Frames    UCF     SS  Gym99    NTU  EPIC (verbs)  Kinetics\n",
       "0       1  80.04  18.69  60.61  56.88         28.33         0\n",
       "1       8  91.22  40.89  83.71  90.45         36.06         0\n",
       "2      16  93.58  52.88  88.11  93.89         40.22         0\n",
       "3      32  94.01  61.05  91.77  94.90         47.67         0"
      ]
     },
     "execution_count": 27,
     "metadata": {},
     "output_type": "execute_result"
    }
   ],
   "source": [
    "df"
   ]
  },
  {
   "cell_type": "markdown",
   "id": "9a5ffd4c-b55b-4550-a1ed-33de54a5ef4e",
   "metadata": {},
   "source": [
    "### Plot"
   ]
  },
  {
   "cell_type": "code",
   "execution_count": 34,
   "id": "9316625d-c24f-4304-8c79-c953272e88aa",
   "metadata": {},
   "outputs": [
    {
     "data": {
      "image/png": "[encoded data removed]",
      "text/plain": [
       "<Figure size 864x576 with 1 Axes>"
      ]
     },
     "metadata": {
      "needs_background": "light"
     },
     "output_type": "display_data"
    }
   ],
   "source": [
    "\n",
    "legendsize = 18\n",
    "\n",
    "fig, ax = plt.subplots(figsize=(12, 8))\n",
    "\n",
    "\n",
    "ax.grid()\n",
    "\n",
    "for d in set(df.columns) - {\"Frames\"}:\n",
    "    # sns.lineplot(data=df, x=\"Frames\", y=d, ax=ax, label=d)\n",
    "    ax.plot(df[\"Frames\"], df[d], label=d, marker=\"o\", markersize=8,)\n",
    "    \n",
    "ax.legend(fontsize=legendsize)\n",
    "plt.show()"
   ]
  },
  {
   "cell_type": "code",
   "execution_count": 38,
   "id": "defa97a5-dfb1-46a8-80db-a51469929840",
   "metadata": {},
   "outputs": [],
   "source": [
    "delta_df = df.copy()\n",
    "for d in set(df.columns) - {\"Frames\"}:\n",
    "    delta_df[d] = df[d] - df.loc[0, d]"
   ]
  },
  {
   "cell_type": "code",
   "execution_count": 39,
   "id": "8fa7cbc0-7066-4cc1-9b4d-ad004527e045",
   "metadata": {},
   "outputs": [
    {
     "data": {
      "text/html": [
       "<div>\n",
       "<style scoped>\n",
       "    .dataframe tbody tr th:only-of-type {\n",
       "        vertical-align: middle;\n",
       "    }\n",
       "\n",
       "    .dataframe tbody tr th {\n",
       "        vertical-align: top;\n",
       "    }\n",
       "\n",
       "    .dataframe thead th {\n",
       "        text-align: right;\n",
       "    }\n",
       "</style>\n",
       "<table border=\"1\" class=\"dataframe\">\n",
       "  <thead>\n",
       "    <tr style=\"text-align: right;\">\n",
       "      <th></th>\n",
       "      <th>Frames</th>\n",
       "      <th>UCF</th>\n",
       "      <th>SS</th>\n",
       "      <th>Gym99</th>\n",
       "      <th>NTU</th>\n",
       "      <th>EPIC (verbs)</th>\n",
       "      <th>Kinetics</th>\n",
       "    </tr>\n",
       "  </thead>\n",
       "  <tbody>\n",
       "    <tr>\n",
       "      <th>0</th>\n",
       "      <td>1</td>\n",
       "      <td>0.00</td>\n",
       "      <td>0.00</td>\n",
       "      <td>0.00</td>\n",
       "      <td>0.00</td>\n",
       "      <td>0.00</td>\n",
       "      <td>0</td>\n",
       "    </tr>\n",
       "    <tr>\n",
       "      <th>1</th>\n",
       "      <td>8</td>\n",
       "      <td>11.18</td>\n",
       "      <td>22.20</td>\n",
       "      <td>23.10</td>\n",
       "      <td>33.57</td>\n",
       "      <td>7.73</td>\n",
       "      <td>0</td>\n",
       "    </tr>\n",
       "    <tr>\n",
       "      <th>2</th>\n",
       "      <td>16</td>\n",
       "      <td>13.54</td>\n",
       "      <td>34.19</td>\n",
       "      <td>27.50</td>\n",
       "      <td>37.01</td>\n",
       "      <td>11.89</td>\n",
       "      <td>0</td>\n",
       "    </tr>\n",
       "    <tr>\n",
       "      <th>3</th>\n",
       "      <td>32</td>\n",
       "      <td>13.97</td>\n",
       "      <td>42.36</td>\n",
       "      <td>31.16</td>\n",
       "      <td>38.02</td>\n",
       "      <td>19.34</td>\n",
       "      <td>0</td>\n",
       "    </tr>\n",
       "  </tbody>\n",
       "</table>\n",
       "</div>"
      ],
      "text/plain": [
       "   Frames    UCF     SS  Gym99    NTU  EPIC (verbs)  Kinetics\n",
       "0       1   0.00   0.00   0.00   0.00          0.00         0\n",
       "1       8  11.18  22.20  23.10  33.57          7.73         0\n",
       "2      16  13.54  34.19  27.50  37.01         11.89         0\n",
       "3      32  13.97  42.36  31.16  38.02         19.34         0"
      ]
     },
     "execution_count": 39,
     "metadata": {},
     "output_type": "execute_result"
    }
   ],
   "source": [
    "delta_df"
   ]
  },
  {
   "cell_type": "code",
   "execution_count": 72,
   "id": "1c35a19d-2b30-406a-a87c-36ed5b4c8075",
   "metadata": {},
   "outputs": [
    {
     "data": {
      "image/png": "[encoded data removed]",
      "text/plain": [
       "<Figure size 936x720 with 1 Axes>"
      ]
     },
     "metadata": {
      "needs_background": "light"
     },
     "output_type": "display_data"
    }
   ],
   "source": [
    "H, W = 10, 13\n",
    "\n",
    "fig, ax = plt.subplots(figsize=(W, H))\n",
    "\n",
    "for d in set(df.columns) - {\"Frames\"}:\n",
    "    ax.plot(delta_df[\"Frames\"], delta_df[d], label=d, marker=\"o\", markersize=10, linewidth=2.0)\n",
    "    \n",
    "ax.set_title(r\"Action recognition with varying number of frames\")\n",
    "ax.set_xlabel(\"Frames\")\n",
    "# ax.set_ylabel(\"$\\Delta(m_{n}, m_{1})$: $m_n$ is performance with $n$ frames\")\n",
    "ax.set_ylabel(\"($m_{n} - m_{1})$: $m_n$ is performance with $n$ frames\")\n",
    "ax.set_xticks(ticks=[1, 8, 16, 32])\n",
    "configure_ax(ax=ax, H=H, W=W)\n",
    "\n",
    "plt.savefig(\"../../results/plots/action_temporality_v1.pdf\", bbox_inches=\"tight\")\n",
    "plt.show()"
   ]
  },
  {
   "cell_type": "code",
   "execution_count": 78,
   "id": "b8dfa7b8-fe43-4577-b5e0-599fc7cb2c19",
   "metadata": {},
   "outputs": [
    {
     "data": {
      "text/html": [
       "<div>\n",
       "<style scoped>\n",
       "    .dataframe tbody tr th:only-of-type {\n",
       "        vertical-align: middle;\n",
       "    }\n",
       "\n",
       "    .dataframe tbody tr th {\n",
       "        vertical-align: top;\n",
       "    }\n",
       "\n",
       "    .dataframe thead th {\n",
       "        text-align: right;\n",
       "    }\n",
       "</style>\n",
       "<table border=\"1\" class=\"dataframe\">\n",
       "  <thead>\n",
       "    <tr style=\"text-align: right;\">\n",
       "      <th></th>\n",
       "      <th>Frames</th>\n",
       "      <th>UCF</th>\n",
       "      <th>SS</th>\n",
       "      <th>Gym99</th>\n",
       "      <th>NTU</th>\n",
       "      <th>EPIC (verbs)</th>\n",
       "      <th>Kinetics</th>\n",
       "    </tr>\n",
       "  </thead>\n",
       "  <tbody>\n",
       "    <tr>\n",
       "      <th>0</th>\n",
       "      <td>1</td>\n",
       "      <td>80.04</td>\n",
       "      <td>18.69</td>\n",
       "      <td>60.61</td>\n",
       "      <td>56.88</td>\n",
       "      <td>28.33</td>\n",
       "      <td>0</td>\n",
       "    </tr>\n",
       "    <tr>\n",
       "      <th>1</th>\n",
       "      <td>8</td>\n",
       "      <td>91.22</td>\n",
       "      <td>40.89</td>\n",
       "      <td>83.71</td>\n",
       "      <td>90.45</td>\n",
       "      <td>36.06</td>\n",
       "      <td>0</td>\n",
       "    </tr>\n",
       "    <tr>\n",
       "      <th>2</th>\n",
       "      <td>16</td>\n",
       "      <td>93.58</td>\n",
       "      <td>52.88</td>\n",
       "      <td>88.11</td>\n",
       "      <td>93.89</td>\n",
       "      <td>40.22</td>\n",
       "      <td>0</td>\n",
       "    </tr>\n",
       "    <tr>\n",
       "      <th>3</th>\n",
       "      <td>32</td>\n",
       "      <td>94.01</td>\n",
       "      <td>61.05</td>\n",
       "      <td>91.77</td>\n",
       "      <td>94.90</td>\n",
       "      <td>47.67</td>\n",
       "      <td>0</td>\n",
       "    </tr>\n",
       "  </tbody>\n",
       "</table>\n",
       "</div>"
      ],
      "text/plain": [
       "   Frames    UCF     SS  Gym99    NTU  EPIC (verbs)  Kinetics\n",
       "0       1  80.04  18.69  60.61  56.88         28.33         0\n",
       "1       8  91.22  40.89  83.71  90.45         36.06         0\n",
       "2      16  93.58  52.88  88.11  93.89         40.22         0\n",
       "3      32  94.01  61.05  91.77  94.90         47.67         0"
      ]
     },
     "execution_count": 78,
     "metadata": {},
     "output_type": "execute_result"
    }
   ],
   "source": [
    "df"
   ]
  },
  {
   "cell_type": "code",
   "execution_count": 80,
   "id": "b4e61441-1cd4-427a-bc6d-c5e2d624ea4e",
   "metadata": {},
   "outputs": [
    {
     "data": {
      "text/html": [
       "<div>\n",
       "<style scoped>\n",
       "    .dataframe tbody tr th:only-of-type {\n",
       "        vertical-align: middle;\n",
       "    }\n",
       "\n",
       "    .dataframe tbody tr th {\n",
       "        vertical-align: top;\n",
       "    }\n",
       "\n",
       "    .dataframe thead th {\n",
       "        text-align: right;\n",
       "    }\n",
       "</style>\n",
       "<table border=\"1\" class=\"dataframe\">\n",
       "  <thead>\n",
       "    <tr style=\"text-align: right;\">\n",
       "      <th></th>\n",
       "      <th>UCF</th>\n",
       "      <th>SS</th>\n",
       "      <th>Gym99</th>\n",
       "      <th>NTU</th>\n",
       "      <th>EPIC (verbs)</th>\n",
       "      <th>Kinetics</th>\n",
       "    </tr>\n",
       "    <tr>\n",
       "      <th>Frames</th>\n",
       "      <th></th>\n",
       "      <th></th>\n",
       "      <th></th>\n",
       "      <th></th>\n",
       "      <th></th>\n",
       "      <th></th>\n",
       "    </tr>\n",
       "  </thead>\n",
       "  <tbody>\n",
       "    <tr>\n",
       "      <th>1</th>\n",
       "      <td>80.04</td>\n",
       "      <td>18.69</td>\n",
       "      <td>60.61</td>\n",
       "      <td>56.88</td>\n",
       "      <td>28.33</td>\n",
       "      <td>0</td>\n",
       "    </tr>\n",
       "    <tr>\n",
       "      <th>8</th>\n",
       "      <td>91.22</td>\n",
       "      <td>40.89</td>\n",
       "      <td>83.71</td>\n",
       "      <td>90.45</td>\n",
       "      <td>36.06</td>\n",
       "      <td>0</td>\n",
       "    </tr>\n",
       "    <tr>\n",
       "      <th>16</th>\n",
       "      <td>93.58</td>\n",
       "      <td>52.88</td>\n",
       "      <td>88.11</td>\n",
       "      <td>93.89</td>\n",
       "      <td>40.22</td>\n",
       "      <td>0</td>\n",
       "    </tr>\n",
       "    <tr>\n",
       "      <th>32</th>\n",
       "      <td>94.01</td>\n",
       "      <td>61.05</td>\n",
       "      <td>91.77</td>\n",
       "      <td>94.90</td>\n",
       "      <td>47.67</td>\n",
       "      <td>0</td>\n",
       "    </tr>\n",
       "  </tbody>\n",
       "</table>\n",
       "</div>"
      ],
      "text/plain": [
       "          UCF     SS  Gym99    NTU  EPIC (verbs)  Kinetics\n",
       "Frames                                                    \n",
       "1       80.04  18.69  60.61  56.88         28.33         0\n",
       "8       91.22  40.89  83.71  90.45         36.06         0\n",
       "16      93.58  52.88  88.11  93.89         40.22         0\n",
       "32      94.01  61.05  91.77  94.90         47.67         0"
      ]
     },
     "execution_count": 80,
     "metadata": {},
     "output_type": "execute_result"
    }
   ],
   "source": [
    "df.set_index(\"Frames\")"
   ]
  },
  {
   "cell_type": "code",
   "execution_count": null,
   "id": "96bc0a4b-ed1c-450d-bcc6-369a4287eb60",
   "metadata": {},
   "outputs": [],
   "source": []
  },
  {
   "cell_type": "code",
   "execution_count": 82,
   "id": "c770f0b4-bec3-4792-9b19-7b85ba1973b9",
   "metadata": {},
   "outputs": [],
   "source": [
    "diff_df = df.set_index(\"Frames\")\n",
    "diff_df = diff_df.diff(periods=1)\n",
    "diff_df = diff_df.fillna(0)"
   ]
  },
  {
   "cell_type": "code",
   "execution_count": 83,
   "id": "6264627b-38b1-4f82-a864-1f89f08e14a5",
   "metadata": {},
   "outputs": [
    {
     "data": {
      "text/html": [
       "<div>\n",
       "<style scoped>\n",
       "    .dataframe tbody tr th:only-of-type {\n",
       "        vertical-align: middle;\n",
       "    }\n",
       "\n",
       "    .dataframe tbody tr th {\n",
       "        vertical-align: top;\n",
       "    }\n",
       "\n",
       "    .dataframe thead th {\n",
       "        text-align: right;\n",
       "    }\n",
       "</style>\n",
       "<table border=\"1\" class=\"dataframe\">\n",
       "  <thead>\n",
       "    <tr style=\"text-align: right;\">\n",
       "      <th></th>\n",
       "      <th>UCF</th>\n",
       "      <th>SS</th>\n",
       "      <th>Gym99</th>\n",
       "      <th>NTU</th>\n",
       "      <th>EPIC (verbs)</th>\n",
       "      <th>Kinetics</th>\n",
       "    </tr>\n",
       "    <tr>\n",
       "      <th>Frames</th>\n",
       "      <th></th>\n",
       "      <th></th>\n",
       "      <th></th>\n",
       "      <th></th>\n",
       "      <th></th>\n",
       "      <th></th>\n",
       "    </tr>\n",
       "  </thead>\n",
       "  <tbody>\n",
       "    <tr>\n",
       "      <th>1</th>\n",
       "      <td>0.00</td>\n",
       "      <td>0.00</td>\n",
       "      <td>0.00</td>\n",
       "      <td>0.00</td>\n",
       "      <td>0.00</td>\n",
       "      <td>0.0</td>\n",
       "    </tr>\n",
       "    <tr>\n",
       "      <th>8</th>\n",
       "      <td>11.18</td>\n",
       "      <td>22.20</td>\n",
       "      <td>23.10</td>\n",
       "      <td>33.57</td>\n",
       "      <td>7.73</td>\n",
       "      <td>0.0</td>\n",
       "    </tr>\n",
       "    <tr>\n",
       "      <th>16</th>\n",
       "      <td>2.36</td>\n",
       "      <td>11.99</td>\n",
       "      <td>4.40</td>\n",
       "      <td>3.44</td>\n",
       "      <td>4.16</td>\n",
       "      <td>0.0</td>\n",
       "    </tr>\n",
       "    <tr>\n",
       "      <th>32</th>\n",
       "      <td>0.43</td>\n",
       "      <td>8.17</td>\n",
       "      <td>3.66</td>\n",
       "      <td>1.01</td>\n",
       "      <td>7.45</td>\n",
       "      <td>0.0</td>\n",
       "    </tr>\n",
       "  </tbody>\n",
       "</table>\n",
       "</div>"
      ],
      "text/plain": [
       "          UCF     SS  Gym99    NTU  EPIC (verbs)  Kinetics\n",
       "Frames                                                    \n",
       "1        0.00   0.00   0.00   0.00          0.00       0.0\n",
       "8       11.18  22.20  23.10  33.57          7.73       0.0\n",
       "16       2.36  11.99   4.40   3.44          4.16       0.0\n",
       "32       0.43   8.17   3.66   1.01          7.45       0.0"
      ]
     },
     "execution_count": 83,
     "metadata": {},
     "output_type": "execute_result"
    }
   ],
   "source": [
    "diff_df"
   ]
  },
  {
   "cell_type": "code",
   "execution_count": 68,
   "id": "1dd47d67-733a-439c-8841-3fd5122f182b",
   "metadata": {},
   "outputs": [
    {
     "data": {
      "text/plain": [
       "array([-3.26733671e-02,  1.49562463e+00,  7.93862688e+01])"
      ]
     },
     "execution_count": 68,
     "metadata": {},
     "output_type": "execute_result"
    }
   ],
   "source": [
    "np.polyfit(x=df[\"Frames\"].values, y=df[\"UCF\"].values, deg=2)"
   ]
  },
  {
   "cell_type": "code",
   "execution_count": 64,
   "id": "231b2a85-b4e6-4da5-bc55-10aff2faa483",
   "metadata": {},
   "outputs": [
    {
     "data": {
      "text/plain": [
       "array([-0.06116741,  3.35406287, 16.14964724])"
      ]
     },
     "execution_count": 64,
     "metadata": {},
     "output_type": "execute_result"
    }
   ],
   "source": [
    "np.polyfit(x=df[\"Frames\"].values, y=df[\"SS\"].values, deg=2)"
   ]
  },
  {
   "cell_type": "code",
   "execution_count": 65,
   "id": "5a095ad8-ea78-4bb3-86bd-33ff3303d6a7",
   "metadata": {},
   "outputs": [
    {
     "data": {
      "text/plain": [
       "array([-0.06169646,  2.96645485, 59.52345328])"
      ]
     },
     "execution_count": 65,
     "metadata": {},
     "output_type": "execute_result"
    }
   ],
   "source": [
    "np.polyfit(x=df[\"Frames\"].values, y=df[\"Gym99\"].values, deg=2)"
   ]
  },
  {
   "cell_type": "code",
   "execution_count": 66,
   "id": "a7bc007f-6d87-4e4f-a747-68f4a1d13217",
   "metadata": {},
   "outputs": [
    {
     "data": {
      "text/plain": [
       "array([-1.26945583e-02,  1.02666809e+00,  2.77085249e+01])"
      ]
     },
     "execution_count": 66,
     "metadata": {},
     "output_type": "execute_result"
    }
   ],
   "source": [
    "np.polyfit(x=df[\"Frames\"].values, y=df[\"EPIC (verbs)\"].values, deg=2)"
   ]
  },
  {
   "cell_type": "code",
   "execution_count": null,
   "id": "c431032b-e633-4b56-8b22-56fed30b6c65",
   "metadata": {},
   "outputs": [],
   "source": []
  }
 ],
 "metadata": {
  "kernelspec": {
   "display_name": "Python 3 (ipykernel)",
   "language": "python",
   "name": "python3"
  },
  "language_info": {
   "codemirror_mode": {
    "name": "ipython",
    "version": 3
   },
   "file_extension": ".py",
   "mimetype": "text/x-python",
   "name": "python",
   "nbconvert_exporter": "python",
   "pygments_lexer": "ipython3",
   "version": "3.9.7"
  }
 },
 "nbformat": 4,
 "nbformat_minor": 5
}
