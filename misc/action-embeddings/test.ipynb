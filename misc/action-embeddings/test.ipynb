{
 "cells": [
  {
   "cell_type": "code",
   "execution_count": 1,
   "id": "b3e9726f-d56a-4983-9d65-4042709c1b30",
   "metadata": {},
   "outputs": [],
   "source": [
    "%load_ext autoreload\n",
    "%autoreload 2"
   ]
  },
  {
   "cell_type": "code",
   "execution_count": 2,
   "id": "637497b2-f0a5-4c98-ab98-f074ac71f70b",
   "metadata": {},
   "outputs": [],
   "source": [
    "# !export PYTHONPATH=/Users/piyush/projects/ViDA-SSL/\n",
    "import sys\n",
    "sys.path.append(\"/Users/piyush/projects/ViDA-SSL/\")"
   ]
  },
  {
   "cell_type": "code",
   "execution_count": 3,
   "id": "14632c25-2683-4de3-9b85-6645c6b7991d",
   "metadata": {},
   "outputs": [],
   "source": [
    "from os.path import join\n",
    "from tqdm import tqdm\n",
    "import numpy as np\n",
    "import pandas as pd\n",
    "import matplotlib.pyplot as plt\n",
    "from collections import defaultdict\n",
    "\n",
    "import torch\n",
    "from fast_pytorch_kmeans import KMeans\n",
    "from transformers import AutoTokenizer, AutoModel\n",
    "\n",
    "from misc.local_utils import get_phrase_embedding\n",
    "from utils.viz import bokeh_2d_scatter, bokeh_2d_scatter_new\n",
    "from datasets.ntu import NTU\n",
    "from datasets.epic import EPIC\n",
    "from datasets.something_something import SomethingSomething\n",
    "from datasets.finegym import FineGym\n",
    "from datasets.ucf import UCF\n",
    "from datasets.kinetics import Kinetics"
   ]
  },
  {
   "cell_type": "markdown",
   "id": "43b4825a-9f73-4fdc-bedf-96d3d7c0c810",
   "metadata": {},
   "source": [
    "### Load BERT model"
   ]
  },
  {
   "cell_type": "code",
   "execution_count": 4,
   "id": "18a96255-17b1-4340-a732-d9fb2052b067",
   "metadata": {},
   "outputs": [
    {
     "name": "stderr",
     "output_type": "stream",
     "text": [
      "/Users/piyush/miniforge3/envs/video/lib/python3.9/site-packages/transformers/configuration_utils.py:336: UserWarning: Passing `gradient_checkpointing` to a config initialization is deprecated and will be removed in v5 Transformers. Using `model.gradient_checkpointing_enable()` instead, or if you are using the `Trainer` API, pass `gradient_checkpointing=True` in your `TrainingArguments`.\n",
      "  warnings.warn(\n",
      "Some weights of the model checkpoint at bert-base-cased were not used when initializing BertModel: ['cls.predictions.transform.LayerNorm.weight', 'cls.seq_relationship.weight', 'cls.predictions.transform.dense.weight', 'cls.predictions.bias', 'cls.predictions.transform.LayerNorm.bias', 'cls.seq_relationship.bias', 'cls.predictions.decoder.weight', 'cls.predictions.transform.dense.bias']\n",
      "- This IS expected if you are initializing BertModel from the checkpoint of a model trained on another task or with another architecture (e.g. initializing a BertForSequenceClassification model from a BertForPreTraining model).\n",
      "- This IS NOT expected if you are initializing BertModel from the checkpoint of a model that you expect to be exactly identical (initializing a BertForSequenceClassification model from a BertForSequenceClassification model).\n"
     ]
    }
   ],
   "source": [
    "tokenizer = AutoTokenizer.from_pretrained(\"bert-base-cased\")\n",
    "model = AutoModel.from_pretrained(\"bert-base-cased\", output_hidden_states=True)"
   ]
  },
  {
   "cell_type": "code",
   "execution_count": 5,
   "id": "c18f956c-748f-4389-855b-85760a1d1588",
   "metadata": {},
   "outputs": [],
   "source": [
    "def get_sentence_embedding(model, tokenizer, sentence):\n",
    "    encoded = tokenizer.encode_plus(sentence, return_tensors=\"pt\")\n",
    "\n",
    "    with torch.no_grad():\n",
    "        output = model(**encoded)\n",
    "    \n",
    "    last_hidden_state = output.last_hidden_state\n",
    "    assert last_hidden_state.shape[0] == 1\n",
    "    assert last_hidden_state.shape[-1] == 768\n",
    "    \n",
    "    # only pick the [CLS] token embedding (sentence embedding)\n",
    "    sentence_embedding = last_hidden_state[0, 0]\n",
    "    \n",
    "    return sentence_embedding"
   ]
  },
  {
   "cell_type": "markdown",
   "id": "35eba695-a4df-49a1-80a2-c02989074ffb",
   "metadata": {},
   "source": [
    "### Load dataset"
   ]
  },
  {
   "cell_type": "code",
   "execution_count": 6,
   "id": "f1121c67-a8e5-45ae-be75-e1e99c5fb859",
   "metadata": {},
   "outputs": [],
   "source": [
    "dataset_args = {\n",
    "    \"name\": \"UCF\",\n",
    "    \"args\": {\"data_dir\": \"../../data/UCF-101/\"},\n",
    "    \"color\": \"red\",\n",
    "    \"filename\": \"classes_cleaned.txt\",\n",
    "}"
   ]
  },
  {
   "cell_type": "code",
   "execution_count": 7,
   "id": "834b52c9-8d5c-4f0b-b057-0a36a31e10c8",
   "metadata": {},
   "outputs": [],
   "source": [
    "dataset = eval(f\"{dataset_args['name']}(**{dataset_args['args']})\")\n",
    "class_label_dict = dataset._load_annotations(filename=dataset_args[\"filename\"])"
   ]
  },
  {
   "cell_type": "markdown",
   "id": "29b71e97-eacf-4a5a-9406-05ae87661482",
   "metadata": {},
   "source": [
    "### Get embedding for sample action"
   ]
  },
  {
   "cell_type": "code",
   "execution_count": 8,
   "id": "52edb0fc-40e4-48aa-8fcd-564924af13ff",
   "metadata": {},
   "outputs": [],
   "source": [
    "sample_action = class_label_dict[\"100\"]"
   ]
  },
  {
   "cell_type": "code",
   "execution_count": 9,
   "id": "103c0f91-29d6-489d-860f-8df34a614159",
   "metadata": {},
   "outputs": [
    {
     "data": {
      "text/plain": [
       "'Writing On Board'"
      ]
     },
     "execution_count": 9,
     "metadata": {},
     "output_type": "execute_result"
    }
   ],
   "source": [
    "sample_action"
   ]
  },
  {
   "cell_type": "code",
   "execution_count": 10,
   "id": "7d6120ba-9093-4a4a-9ec9-68cdfc863852",
   "metadata": {},
   "outputs": [],
   "source": [
    "sample_action_embedding = get_sentence_embedding(model, tokenizer, sample_action)"
   ]
  },
  {
   "cell_type": "code",
   "execution_count": 11,
   "id": "09d01182-355d-4d0a-bf7f-ff32b13e1462",
   "metadata": {},
   "outputs": [
    {
     "data": {
      "text/plain": [
       "torch.Size([768])"
      ]
     },
     "execution_count": 11,
     "metadata": {},
     "output_type": "execute_result"
    }
   ],
   "source": [
    "sample_action_embedding.shape"
   ]
  },
  {
   "cell_type": "markdown",
   "id": "df0b1922-780f-424e-954f-476a87f14ed3",
   "metadata": {},
   "source": [
    "### Get embeddings for all actions"
   ]
  },
  {
   "cell_type": "code",
   "execution_count": 12,
   "id": "c0e23cfd-4128-4b7e-bebe-3808933d7903",
   "metadata": {},
   "outputs": [
    {
     "name": "stdout",
     "output_type": "stream",
     "text": [
      "huggingface/tokenizers: The current process just got forked, after parallelism has already been used. Disabling parallelism to avoid deadlocks...\n",
      "To disable this warning, you can either:\n",
      "\t- Avoid using `tokenizers` before the fork if possible\n",
      "\t- Explicitly set the environment variable TOKENIZERS_PARALLELISM=(true | false)\n"
     ]
    },
    {
     "name": "stderr",
     "output_type": "stream",
     "text": [
      "Extracting BERT embeddings: 100%|██████████████████████████████████████████████████████████| 101/101 [00:04<00:00, 24.88it/s]\n"
     ]
    }
   ],
   "source": [
    "class_label_embeddings = {\n",
    "    k: get_sentence_embedding(model, tokenizer, v) \\\n",
    "    for k, v in tqdm(class_label_dict.items(), desc=\"Extracting BERT embeddings\")\n",
    "}"
   ]
  },
  {
   "cell_type": "code",
   "execution_count": 15,
   "id": "e0218917-4c8e-4549-9fe7-cf98b03ef42e",
   "metadata": {},
   "outputs": [
    {
     "data": {
      "text/plain": [
       "torch.Size([768])"
      ]
     },
     "execution_count": 15,
     "metadata": {},
     "output_type": "execute_result"
    }
   ],
   "source": [
    "class_label_embeddings[\"1\"].shape"
   ]
  },
  {
   "cell_type": "code",
   "execution_count": null,
   "id": "1108864b-282a-4966-aa7f-ae9a746f54fb",
   "metadata": {},
   "outputs": [],
   "source": []
  }
 ],
 "metadata": {
  "kernelspec": {
   "display_name": "Python 3 (ipykernel)",
   "language": "python",
   "name": "python3"
  },
  "language_info": {
   "codemirror_mode": {
    "name": "ipython",
    "version": 3
   },
   "file_extension": ".py",
   "mimetype": "text/x-python",
   "name": "python",
   "nbconvert_exporter": "python",
   "pygments_lexer": "ipython3",
   "version": "3.9.7"
  }
 },
 "nbformat": 4,
 "nbformat_minor": 5
}
