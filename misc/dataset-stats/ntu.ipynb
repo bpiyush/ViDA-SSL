{
 "cells": [
  {
   "cell_type": "markdown",
   "id": "db700dec-45fe-4732-bf70-30ba46236e5c",
   "metadata": {},
   "source": [
    "##### Note: This has been run on `diva` machine"
   ]
  },
  {
   "cell_type": "code",
   "execution_count": 1,
   "id": "1e06254d-3084-426c-87db-b14709fd579c",
   "metadata": {},
   "outputs": [],
   "source": [
    "%load_ext autoreload\n",
    "%autoreload 2"
   ]
  },
  {
   "cell_type": "code",
   "execution_count": 2,
   "id": "35523f89-09d4-456c-bd28-fc884a84002f",
   "metadata": {},
   "outputs": [],
   "source": [
    "import sys\n",
    "# sys.path.append(\"/Users/piyush/projects/ViDA-SSL/\")\n",
    "sys.path.append(\"/home/pbagad/projects/ViDA-SSL/\")"
   ]
  },
  {
   "cell_type": "code",
   "execution_count": 3,
   "id": "0177a40c-ab1b-4e14-a017-c3d17ee71e66",
   "metadata": {},
   "outputs": [],
   "source": [
    "from os.path import join\n",
    "from glob import glob\n",
    "from tqdm import tqdm\n",
    "\n",
    "import numpy as np\n",
    "import pandas as pd\n",
    "import matplotlib.pyplot as plt\n",
    "import seaborn as sns\n",
    "from torchvision.io import read_video_timestamps\n",
    "\n",
    "from utils.io import load_json, load_txt"
   ]
  },
  {
   "cell_type": "code",
   "execution_count": 4,
   "id": "50d78d72-dd65-463f-b421-8687b1e9ddd2",
   "metadata": {},
   "outputs": [],
   "source": [
    "DATA_DIR = \"/ssd/fmthoker/ntu/\"\n",
    "# DATA_DIR = \"../../data/NTU/\""
   ]
  },
  {
   "cell_type": "code",
   "execution_count": 9,
   "id": "05113ec5-ae9f-4077-960a-3cedf0bbb81d",
   "metadata": {},
   "outputs": [],
   "source": [
    "# train_split_path = join(DATA_DIR, \"splits/ntu_60_cross_subject_TrainTestlist/trainlist01.txt\")\n",
    "# test_split_path = join(DATA_DIR, \"splits/ntu_60_cross_subject_TrainTestlist/testlist01.txt\")\n",
    "\n",
    "train_split_path = join(DATA_DIR, \"ntu_60_annotations/ntu_60_cross_subject_TrainTestlist/trainlist01.txt\")\n",
    "test_split_path = join(DATA_DIR, \"ntu_60_annotations/ntu_60_cross_subject_TrainTestlist/testlist01.txt\")"
   ]
  },
  {
   "cell_type": "code",
   "execution_count": 10,
   "id": "a488c898-203e-4d0c-8066-3dd133fb701b",
   "metadata": {},
   "outputs": [],
   "source": [
    "train_split = load_txt(train_split_path)\n",
    "test_split = load_txt(test_split_path)\n",
    "\n",
    "combined = train_split + test_split"
   ]
  },
  {
   "cell_type": "code",
   "execution_count": 11,
   "id": "ecfa75eb-5ec0-4aee-959b-71016690f1c1",
   "metadata": {},
   "outputs": [
    {
     "data": {
      "text/plain": [
       "(40320, 16560, 56880)"
      ]
     },
     "execution_count": 11,
     "metadata": {},
     "output_type": "execute_result"
    }
   ],
   "source": [
    "len(train_split), len(test_split), len(combined)"
   ]
  },
  {
   "cell_type": "code",
   "execution_count": 12,
   "id": "c3d5f242-ff2e-4654-a6b9-135924bb7a63",
   "metadata": {},
   "outputs": [
    {
     "data": {
      "text/plain": [
       "'touch_back__backache_/S017C003P017R001A046_rgb.avi '"
      ]
     },
     "execution_count": 12,
     "metadata": {},
     "output_type": "execute_result"
    }
   ],
   "source": [
    "train_split[0]"
   ]
  },
  {
   "cell_type": "code",
   "execution_count": 13,
   "id": "ed6f3d7d-0866-423e-9dc0-8a56b9a4dd49",
   "metadata": {},
   "outputs": [],
   "source": [
    "original_videos_dir = join(DATA_DIR, \"original_videos\")"
   ]
  },
  {
   "cell_type": "code",
   "execution_count": 14,
   "id": "74d47af1-9c1f-4fbc-8067-6e87448354f2",
   "metadata": {},
   "outputs": [
    {
     "data": {
      "text/plain": [
       "'touch_back__backache_/S017C003P017R001A046_rgb.avi '"
      ]
     },
     "execution_count": 14,
     "metadata": {},
     "output_type": "execute_result"
    }
   ],
   "source": [
    "combined[0]"
   ]
  },
  {
   "cell_type": "code",
   "execution_count": 15,
   "id": "5a815c76-ddcf-46e7-888b-47b753667ff2",
   "metadata": {
    "collapsed": true,
    "jupyter": {
     "outputs_hidden": true
    },
    "tags": []
   },
   "outputs": [
    {
     "name": "stderr",
     "output_type": "stream",
     "text": [
      "Extracting video durations: 100%|██████████| 56880/56880 [06:34<00:00, 144.01it/s]\n"
     ]
    }
   ],
   "source": [
    "durations = []\n",
    "\n",
    "for v in tqdm(combined, desc=\"Extracting video durations\"):\n",
    "    video_path = join(original_videos_dir, v.split()[0])\n",
    "    frame_ids, fps = read_video_timestamps(video_path)\n",
    "    duration = len(frame_ids) / fps\n",
    "    durations.append(duration)"
   ]
  },
  {
   "cell_type": "code",
   "execution_count": 16,
   "id": "58a00599-2cec-422b-adb3-92bb663da48a",
   "metadata": {},
   "outputs": [
    {
     "data": {
      "text/plain": [
       "(2.8170511017346467, 1.0742042635633822)"
      ]
     },
     "execution_count": 16,
     "metadata": {},
     "output_type": "execute_result"
    }
   ],
   "source": [
    "np.mean(durations), np.std(durations)"
   ]
  },
  {
   "cell_type": "code",
   "execution_count": 20,
   "id": "f8f293ac-430b-4c29-beb7-458c11015af1",
   "metadata": {},
   "outputs": [
    {
     "data": {
      "image/png": "[encoded data removed]",
      "text/plain": [
       "<Figure size 576x360 with 1 Axes>"
      ]
     },
     "metadata": {
      "needs_background": "light"
     },
     "output_type": "display_data"
    }
   ],
   "source": [
    "fig, ax = plt.subplots(1, 1, figsize=(8, 5))\n",
    "ax.hist(durations, color=\"skyblue\", alpha=0.5)\n",
    "ax.grid()\n",
    "ax.set_title(\"NTU video duration\")\n",
    "ax.set_xlabel(\"Time in secs\")\n",
    "ax.set_ylabel(\"Count\")\n",
    "ax.axvline(x=np.mean(durations), color=\"red\", label=f\"Mean ({np.mean(durations):.3f})\")\n",
    "ax.fill_betweenx(ax.get_ylim(), np.mean(durations) - np.std(durations), np.mean(durations) + np.std(durations), alpha=0.1, color=\"red\", label=f\"Std ({np.std(durations):.3f})\")\n",
    "ax.legend()\n",
    "\n",
    "plt.show()"
   ]
  },
  {
   "cell_type": "markdown",
   "id": "7340cd94-c031-4096-bc01-a33f8981d916",
   "metadata": {},
   "source": [
    "### Label distribution"
   ]
  },
  {
   "cell_type": "code",
   "execution_count": 14,
   "id": "f911568a-66b4-4b67-af05-fcc855a4dbb5",
   "metadata": {},
   "outputs": [
    {
     "data": {
      "text/plain": [
       "56880"
      ]
     },
     "execution_count": 14,
     "metadata": {},
     "output_type": "execute_result"
    }
   ],
   "source": [
    "len(combined)"
   ]
  },
  {
   "cell_type": "code",
   "execution_count": 18,
   "id": "0d68c83b-1956-4106-9918-9eb9095cc8b5",
   "metadata": {},
   "outputs": [
    {
     "data": {
      "text/plain": [
       "'jump_up/S003C002P016R002A027_rgb.avi '"
      ]
     },
     "execution_count": 18,
     "metadata": {},
     "output_type": "execute_result"
    }
   ],
   "source": [
    "combined[1000]"
   ]
  },
  {
   "cell_type": "code",
   "execution_count": 20,
   "id": "26f2f381-fede-49ed-8f55-99f700136a5c",
   "metadata": {},
   "outputs": [],
   "source": [
    "df = pd.DataFrame(None)\n",
    "df[\"file\"] = combined\n",
    "df[\"class\"] = df[\"file\"].apply(lambda x: x.split(\"/\")[0])"
   ]
  },
  {
   "cell_type": "code",
   "execution_count": 32,
   "id": "059fd34e-da81-4ef7-8ffe-87ce9020b572",
   "metadata": {},
   "outputs": [],
   "source": [
    "sort_df = df.iloc[(-df.groupby('class')[\"class\"].transform('size')).argsort(kind='mergesort')]"
   ]
  },
  {
   "cell_type": "code",
   "execution_count": 35,
   "id": "d79c812b-218c-4d2b-ae99-d2a3a7e8dd91",
   "metadata": {},
   "outputs": [
    {
     "data": {
      "image/png": "[encoded data removed]",
      "text/plain": [
       "<Figure size 1296x360 with 1 Axes>"
      ]
     },
     "metadata": {
      "needs_background": "light"
     },
     "output_type": "display_data"
    }
   ],
   "source": [
    "fig, ax = plt.subplots(1, 1, figsize=(18, 5))\n",
    "\n",
    "ax.grid()\n",
    "sns.countplot(data=sort_df, x=f\"class\", ax=ax, label=\"NTU-60\", color=\"pink\")\n",
    "ax.set_title(\"Label distribution for NTU-60\", fontsize=20)\n",
    "ax.legend(fontsize=15)\n",
    "ax.set_xticks([])\n",
    "\n",
    "plt.show()"
   ]
  },
  {
   "cell_type": "code",
   "execution_count": 36,
   "id": "af1922df-b103-436f-b42c-16de8e31832c",
   "metadata": {},
   "outputs": [
    {
     "data": {
      "text/plain": [
       "touch_back__backache_                          948\n",
       "jump_up                                        948\n",
       "wear_jacket                                    948\n",
       "reach_into_pocket                              948\n",
       "make_a_phone_call_answer_phone                 948\n",
       "kicking_something                              948\n",
       "staggering                                     948\n",
       "use_a_fan__with_hand_or_paper__feeling_warm    948\n",
       "take_off_jacket                                948\n",
       "taking_a_selfie                                948\n",
       "shake_head                                     948\n",
       "pointing_to_something_with_finger              948\n",
       "sitting_down                                   948\n",
       "pickup                                         948\n",
       "wear_on_glasses                                948\n",
       "touch_neck__neckache_                          948\n",
       "nod_head_bow                                   948\n",
       "take_off_glasses                               948\n",
       "pushing_other_person                           948\n",
       "touch_head__headache_                          948\n",
       "rub_two_hands_together                         948\n",
       "handshaking                                    948\n",
       "walking_towards_each_other                     948\n",
       "punching_slapping_other_person                 948\n",
       "eat_meal_snack                                 948\n",
       "standing_up__from_sitting_position_            948\n",
       "sneeze_cough                                   948\n",
       "typing_on_a_keyboard                           948\n",
       "brushing_teeth                                 948\n",
       "kicking_other_person                           948\n",
       "walking_apart_from_each_other                  948\n",
       "hugging_other_person                           948\n",
       "tear_up_paper                                  948\n",
       "wear_a_shoe                                    948\n",
       "clapping                                       948\n",
       "falling                                        948\n",
       "reading                                        948\n",
       "put_on_a_hat_cap                               948\n",
       "take_off_a_hat_cap                             948\n",
       "point_finger_at_the_other_person               948\n",
       "check_time__from_watch_                        948\n",
       "take_off_a_shoe                                948\n",
       "wipe_face                                      948\n",
       "pat_on_back_of_other_person                    948\n",
       "brushing_hair                                  948\n",
       "hopping__one_foot_jumping_                     948\n",
       "cheer_up                                       948\n",
       "hand_waving                                    948\n",
       "giving_something_to_other_person               948\n",
       "touch_chest__stomachache_heart_pain_           948\n",
       "salute                                         948\n",
       "throw                                          948\n",
       "drop                                           948\n",
       "drink_water                                    948\n",
       "nausea_or_vomiting_condition                   948\n",
       "put_the_palms_together                         948\n",
       "touch_other_person_s_pocket                    948\n",
       "writing                                        948\n",
       "cross_hands_in_front__say_stop_                948\n",
       "playing_with_phone_tablet                      948\n",
       "Name: class, dtype: int64"
      ]
     },
     "execution_count": 36,
     "metadata": {},
     "output_type": "execute_result"
    }
   ],
   "source": [
    "df[\"class\"].value_counts()"
   ]
  },
  {
   "cell_type": "code",
   "execution_count": null,
   "id": "4fa29f06-56eb-42ae-b255-39c2a836122f",
   "metadata": {},
   "outputs": [],
   "source": []
  }
 ],
 "metadata": {
  "kernelspec": {
   "display_name": "Python 3 (ipykernel)",
   "language": "python",
   "name": "python3"
  },
  "language_info": {
   "codemirror_mode": {
    "name": "ipython",
    "version": 3
   },
   "file_extension": ".py",
   "mimetype": "text/x-python",
   "name": "python",
   "nbconvert_exporter": "python",
   "pygments_lexer": "ipython3",
   "version": "3.9.7"
  }
 },
 "nbformat": 4,
 "nbformat_minor": 5
}
