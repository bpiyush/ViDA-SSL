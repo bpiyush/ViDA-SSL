{
 "cells": [
  {
   "cell_type": "code",
   "execution_count": 1,
   "id": "3847fb79-ffd7-40f5-a231-abb4d0962e0c",
   "metadata": {},
   "outputs": [],
   "source": [
    "%load_ext autoreload\n",
    "%autoreload 2"
   ]
  },
  {
   "cell_type": "code",
   "execution_count": 2,
   "id": "5ca1cc98-f3e6-4bfe-a730-1e11a34e5604",
   "metadata": {},
   "outputs": [],
   "source": [
    "import sys\n",
    "sys.path.append(\"/Users/piyush/projects/ViDA-SSL/\")"
   ]
  },
  {
   "cell_type": "code",
   "execution_count": 43,
   "id": "2f72d3c8-357b-4922-b089-b4f0d46b8cae",
   "metadata": {},
   "outputs": [],
   "source": [
    "from os.path import join\n",
    "\n",
    "import numpy as np\n",
    "import pandas as pd\n",
    "import matplotlib.pyplot as plt\n",
    "import seaborn as sns\n",
    "\n",
    "from utils.io import load_json, load_txt"
   ]
  },
  {
   "cell_type": "code",
   "execution_count": 71,
   "id": "cd7a7dd2-cb93-4464-9051-add8373d58cb",
   "metadata": {},
   "outputs": [],
   "source": [
    "plt.rcParams.update({\n",
    "    \"text.usetex\": True,\n",
    "    \"font.family\": \"serif\",\n",
    "    \"font.serif\": [\"Computer Modern Roman\"],\n",
    "})"
   ]
  },
  {
   "cell_type": "code",
   "execution_count": 4,
   "id": "9e9effe8-4d58-431e-8084-521ebf29141c",
   "metadata": {},
   "outputs": [],
   "source": [
    "annot_path = \"/Users/piyush/projects/ViDA-SSL/data/FineGym/annotations\"\\\n",
    "    \"/action-temporal-localization/finegym_annotation_info_v1.0.json\"\n",
    "train_split_file = \"/Users/piyush/projects/ViDA-SSL/data/FineGym/splits/gym99_train.txt\"\n",
    "val_split_file = \"/Users/piyush/projects/ViDA-SSL/data/FineGym/splits/gym99_val.txt\""
   ]
  },
  {
   "cell_type": "code",
   "execution_count": 5,
   "id": "1b4fe167-a7dc-4012-819f-75d846565bba",
   "metadata": {},
   "outputs": [],
   "source": [
    "annot = load_json(annot_path)"
   ]
  },
  {
   "cell_type": "code",
   "execution_count": 6,
   "id": "c5637ab4-539b-44d2-8715-a2d6ad9ddcf4",
   "metadata": {},
   "outputs": [
    {
     "data": {
      "text/plain": [
       "303"
      ]
     },
     "execution_count": 6,
     "metadata": {},
     "output_type": "execute_result"
    }
   ],
   "source": [
    "len(annot)"
   ]
  },
  {
   "cell_type": "code",
   "execution_count": 7,
   "id": "f50f514f-8e55-4d55-b42e-84655a206900",
   "metadata": {},
   "outputs": [],
   "source": [
    "events = []\n",
    "stages = []\n",
    "segment_times = []\n",
    "\n",
    "subactions = dict()\n",
    "\n",
    "for vkey in annot:\n",
    "    edict = annot[vkey]\n",
    "    for ekey in edict:\n",
    "        events.append(annot[vkey][ekey][\"event\"])\n",
    "\n",
    "        segments = edict[ekey][\"segments\"]\n",
    "        if segments is not None:\n",
    "            for skey in segments:\n",
    "                stages.append(segments[skey][\"stages\"])\n",
    "                \n",
    "                tstamps = segments[skey][\"timestamps\"]\n",
    "                segment_times.extend([x[1] - x[0] for x in tstamps])"
   ]
  },
  {
   "cell_type": "code",
   "execution_count": 8,
   "id": "208dec5c-75a9-4a44-9986-8f002ba6c8a6",
   "metadata": {},
   "outputs": [
    {
     "data": {
      "text/plain": [
       "36764"
      ]
     },
     "execution_count": 8,
     "metadata": {},
     "output_type": "execute_result"
    }
   ],
   "source": [
    "len(segment_times)"
   ]
  },
  {
   "cell_type": "code",
   "execution_count": 9,
   "id": "e387944d-84a0-400e-85dc-acfbe10b071d",
   "metadata": {},
   "outputs": [
    {
     "data": {
      "text/plain": [
       "1.545762974649113"
      ]
     },
     "execution_count": 9,
     "metadata": {},
     "output_type": "execute_result"
    }
   ],
   "source": [
    "np.mean(segment_times)"
   ]
  },
  {
   "cell_type": "markdown",
   "id": "9e61fec2-51c7-42e7-a9c3-171130e0df10",
   "metadata": {},
   "source": [
    "### Duration"
   ]
  },
  {
   "cell_type": "code",
   "execution_count": 13,
   "id": "b63bc776-4d6c-40a5-96ec-4ce9cf0e01c2",
   "metadata": {},
   "outputs": [],
   "source": [
    "subaction_times = dict()\n",
    "\n",
    "video_keys = annot.keys()\n",
    "\n",
    "for vkey in video_keys:\n",
    "    \n",
    "    event_keys = annot[vkey].keys()\n",
    "    \n",
    "    for ekey in event_keys:\n",
    "        \n",
    "        subact_dict = annot[vkey][ekey][\"segments\"]\n",
    "        if subact_dict is not None:\n",
    "            for skey, sval in subact_dict.items():\n",
    "                instance_key = f\"{vkey}_{ekey}_{skey}\"\n",
    "                subaction_times[instance_key] = sval[\"timestamps\"]"
   ]
  },
  {
   "cell_type": "code",
   "execution_count": 14,
   "id": "709ec1be-526c-4648-a44a-3c5b9e239224",
   "metadata": {},
   "outputs": [
    {
     "data": {
      "text/plain": [
       "32697"
      ]
     },
     "execution_count": 14,
     "metadata": {},
     "output_type": "execute_result"
    }
   ],
   "source": [
    "len(subaction_times)"
   ]
  },
  {
   "cell_type": "code",
   "execution_count": 15,
   "id": "365d36ad-a221-489c-a8f9-686c322a00a5",
   "metadata": {},
   "outputs": [
    {
     "data": {
      "text/plain": [
       "['0LtLS9wROrk_E_002407_002435_A_0003_0005',\n",
       " '0LtLS9wROrk_E_002407_002435_A_0006_0008',\n",
       " '0LtLS9wROrk_E_002407_002435_A_0012_0013',\n",
       " '0LtLS9wROrk_E_002407_002435_A_0015_0017',\n",
       " '0LtLS9wROrk_E_002407_002435_A_0019_0021',\n",
       " '0LtLS9wROrk_E_002407_002435_A_0021_0023',\n",
       " '0LtLS9wROrk_E_002407_002435_A_0023_0028',\n",
       " '0LtLS9wROrk_E_002451_002529_A_0019_0021',\n",
       " '0LtLS9wROrk_E_002451_002529_A_0022_0023',\n",
       " '0LtLS9wROrk_E_002451_002529_A_0033_0034']"
      ]
     },
     "execution_count": 15,
     "metadata": {},
     "output_type": "execute_result"
    }
   ],
   "source": [
    "list(subaction_times.keys())[:10]"
   ]
  },
  {
   "cell_type": "code",
   "execution_count": 16,
   "id": "224c9cd5-4e05-471b-9320-547f3e7c84ec",
   "metadata": {},
   "outputs": [
    {
     "data": {
      "text/plain": [
       "[[15.59, 17.27]]"
      ]
     },
     "execution_count": 16,
     "metadata": {},
     "output_type": "execute_result"
    }
   ],
   "source": [
    "subaction_times[\"0LtLS9wROrk_E_002407_002435_A_0015_0017\"]"
   ]
  },
  {
   "cell_type": "markdown",
   "id": "b945cfd5-d27a-42c7-952b-a0dec2df37c8",
   "metadata": {},
   "source": [
    "### Load split files"
   ]
  },
  {
   "cell_type": "code",
   "execution_count": 35,
   "id": "d90b4cb7-4fe8-458a-aad1-44e8d093ecd4",
   "metadata": {},
   "outputs": [],
   "source": [
    "train_split = load_txt(train_split_file)\n",
    "train_ids = [x.split()[0] for x in train_split]\n",
    "train_labels = [x.split()[1] for x in train_split]\n",
    "\n",
    "val_split = load_txt(val_split_file)\n",
    "val_ids = [x.split()[0] for x in val_split]\n",
    "val_labels = [x.split()[1] for x in val_split]"
   ]
  },
  {
   "cell_type": "code",
   "execution_count": 36,
   "id": "84eef05e-a837-4166-bcfb-554fdedfcc86",
   "metadata": {},
   "outputs": [
    {
     "data": {
      "text/plain": [
       "(20484, 8521, 20484)"
      ]
     },
     "execution_count": 36,
     "metadata": {},
     "output_type": "execute_result"
    }
   ],
   "source": [
    "len(train_ids), len(val_ids), len(train_labels)"
   ]
  },
  {
   "cell_type": "code",
   "execution_count": 19,
   "id": "f3958a4f-5188-4297-a835-12a9539160a8",
   "metadata": {},
   "outputs": [
    {
     "data": {
      "text/plain": [
       "(True, True)"
      ]
     },
     "execution_count": 19,
     "metadata": {},
     "output_type": "execute_result"
    }
   ],
   "source": [
    "train_ids[0] in subaction_times, \\\n",
    "val_ids[0] in subaction_times"
   ]
  },
  {
   "cell_type": "code",
   "execution_count": 37,
   "id": "db28bbd2-8e05-429e-933c-92575e83fb74",
   "metadata": {},
   "outputs": [],
   "source": [
    "split_ids = train_ids + val_ids\n",
    "split_labels = train_labels + val_labels"
   ]
  },
  {
   "cell_type": "markdown",
   "id": "b6c15bc3-3ef3-4e4f-a427-9a4ecc3371c7",
   "metadata": {},
   "source": [
    "### Filter based on given split"
   ]
  },
  {
   "cell_type": "code",
   "execution_count": 21,
   "id": "b538ae9b-bf19-43c2-aef2-10332ae855cd",
   "metadata": {},
   "outputs": [],
   "source": [
    "split_subaction_times = {k:v for k, v in subaction_times.items() if k in split_ids}"
   ]
  },
  {
   "cell_type": "code",
   "execution_count": 22,
   "id": "9cf36da1-38c8-41a3-9119-1b13ff9e6ce3",
   "metadata": {},
   "outputs": [
    {
     "data": {
      "text/plain": [
       "29005"
      ]
     },
     "execution_count": 22,
     "metadata": {},
     "output_type": "execute_result"
    }
   ],
   "source": [
    "len(split_subaction_times)"
   ]
  },
  {
   "cell_type": "code",
   "execution_count": 23,
   "id": "ddca64c6-9aeb-461b-a057-34fde7958072",
   "metadata": {},
   "outputs": [],
   "source": [
    "total_times = []\n",
    "for key, value in split_subaction_times.items():\n",
    "    total_times.extend([x[1] - x[0] for x in value])"
   ]
  },
  {
   "cell_type": "code",
   "execution_count": 24,
   "id": "350ee0b3-7268-40b9-8e3a-0118a0115bb5",
   "metadata": {},
   "outputs": [
    {
     "data": {
      "text/plain": [
       "32045"
      ]
     },
     "execution_count": 24,
     "metadata": {},
     "output_type": "execute_result"
    }
   ],
   "source": [
    "len(total_times)"
   ]
  },
  {
   "cell_type": "code",
   "execution_count": 25,
   "id": "293b93f7-0623-4f86-9669-9a872f9a4f8e",
   "metadata": {},
   "outputs": [
    {
     "data": {
      "text/plain": [
       "1.5071196754563894"
      ]
     },
     "execution_count": 25,
     "metadata": {},
     "output_type": "execute_result"
    }
   ],
   "source": [
    "np.mean(total_times)"
   ]
  },
  {
   "cell_type": "code",
   "execution_count": 26,
   "id": "d1b2f872-79da-4f5c-9691-ae657b0df752",
   "metadata": {},
   "outputs": [
    {
     "data": {
      "text/plain": [
       "29005"
      ]
     },
     "execution_count": 26,
     "metadata": {},
     "output_type": "execute_result"
    }
   ],
   "source": [
    "len(split_subaction_times.keys())"
   ]
  },
  {
   "cell_type": "code",
   "execution_count": 27,
   "id": "e5d539f8-e9f7-47ae-9e2e-7ed22926c6ca",
   "metadata": {},
   "outputs": [
    {
     "data": {
      "text/plain": [
       "'0LtLS9wROrk_E_002407_002435_A_0003_0005'"
      ]
     },
     "execution_count": 27,
     "metadata": {},
     "output_type": "execute_result"
    }
   ],
   "source": [
    "list(split_subaction_times.keys())[0]"
   ]
  },
  {
   "cell_type": "code",
   "execution_count": 28,
   "id": "a328e458-cfb0-4534-935a-84ce13888a45",
   "metadata": {},
   "outputs": [
    {
     "data": {
      "text/plain": [
       "29005"
      ]
     },
     "execution_count": 28,
     "metadata": {},
     "output_type": "execute_result"
    }
   ],
   "source": [
    "len(split_ids)"
   ]
  },
  {
   "cell_type": "code",
   "execution_count": 29,
   "id": "5ab54813-58ee-462f-806d-f11fbfb9a9d7",
   "metadata": {},
   "outputs": [
    {
     "data": {
      "text/plain": [
       "'A0xAXXysHUo_E_002184_002237_A_0035_0036'"
      ]
     },
     "execution_count": 29,
     "metadata": {},
     "output_type": "execute_result"
    }
   ],
   "source": [
    "split_ids[0]"
   ]
  },
  {
   "cell_type": "markdown",
   "id": "0223e578-4916-4541-b14f-89afeb5f02a3",
   "metadata": {},
   "source": [
    "### Label distribution"
   ]
  },
  {
   "cell_type": "code",
   "execution_count": 34,
   "id": "05410105-70a9-46a5-b0cc-2b701b7e5b50",
   "metadata": {},
   "outputs": [
    {
     "data": {
      "text/plain": [
       "(29005, 180, 4307, 551)"
      ]
     },
     "execution_count": 34,
     "metadata": {},
     "output_type": "execute_result"
    }
   ],
   "source": [
    "len(np.unique(split_ids)), \\\n",
    "len(np.unique([x.split(\"_E_\")[0] for x in split_ids])), \\\n",
    "len(np.unique([x.split(\"_E_\")[-1].split(\"_A_\")[0] for x in split_ids])), \\\n",
    "len(np.unique([x.split(\"_A_\")[-1] for x in split_ids]))"
   ]
  },
  {
   "cell_type": "code",
   "execution_count": 42,
   "id": "a43b9e03-aa7f-4e88-bb0f-776a51f025e7",
   "metadata": {},
   "outputs": [
    {
     "data": {
      "text/plain": [
       "(29005, 99)"
      ]
     },
     "execution_count": 42,
     "metadata": {},
     "output_type": "execute_result"
    }
   ],
   "source": [
    "len(split_labels), len(np.unique(split_labels))"
   ]
  },
  {
   "cell_type": "code",
   "execution_count": 45,
   "id": "ab9fb343-9b69-441b-a0d3-c310a2969605",
   "metadata": {},
   "outputs": [],
   "source": [
    "df = pd.DataFrame(None)\n",
    "df[\"id\"] = split_ids\n",
    "df[\"label\"] = split_labels"
   ]
  },
  {
   "cell_type": "code",
   "execution_count": 54,
   "id": "877fbd55-7e2a-4b48-aef8-11e6a431e201",
   "metadata": {},
   "outputs": [
    {
     "data": {
      "text/plain": [
       "Index(['95', '79', '67', '94', '76', '43', '47', '68', '59', '64', '40', '55',\n",
       "       '1', '62', '8', '15', '2', '38', '78', '89', '35', '6', '74', '96',\n",
       "       '88', '46', '34', '63', '91', '52', '66', '61', '50', '60', '28', '10',\n",
       "       '71', '58', '37', '41', '86', '30', '98', '32', '92', '24', '31', '25',\n",
       "       '21', '22', '7', '75', '83', '9', '3', '85', '77', '44', '51', '69',\n",
       "       '17', '18', '16', '90', '84', '53', '87', '4', '33', '27', '36', '14',\n",
       "       '81', '11', '49', '80', '26', '82', '12', '20', '97', '56', '13', '73',\n",
       "       '5', '57', '42', '93', '45', '65', '39', '72', '54', '48', '70', '0',\n",
       "       '19', '23', '29'],\n",
       "      dtype='object')"
      ]
     },
     "execution_count": 54,
     "metadata": {},
     "output_type": "execute_result"
    }
   ],
   "source": [
    "df.label.value_counts().index"
   ]
  },
  {
   "cell_type": "code",
   "execution_count": 61,
   "id": "be8f1914-56fd-4f35-8f39-7ec7b3f9a3e1",
   "metadata": {},
   "outputs": [
    {
     "data": {
      "text/plain": [
       "0        -88\n",
       "1       -163\n",
       "2       -809\n",
       "3       -565\n",
       "4       -809\n",
       "        ... \n",
       "29000    -77\n",
       "29001    -77\n",
       "29002    -77\n",
       "29003    -77\n",
       "29004    -77\n",
       "Name: label, Length: 29005, dtype: int64"
      ]
     },
     "execution_count": 61,
     "metadata": {},
     "output_type": "execute_result"
    }
   ],
   "source": [
    "-df.groupby('label').label.transform('size')"
   ]
  },
  {
   "cell_type": "code",
   "execution_count": 65,
   "id": "b54d0150-485f-49f6-b84e-bb65c874fc81",
   "metadata": {},
   "outputs": [],
   "source": [
    "sort_df = df.iloc[(-df.groupby('label').label.transform('size')).argsort(kind='mergesort')]"
   ]
  },
  {
   "cell_type": "code",
   "execution_count": 72,
   "id": "f2a906b9-24a6-492b-8519-d6253637940e",
   "metadata": {},
   "outputs": [
    {
     "data": {
      "image/png": "[encoded data removed]",
      "text/plain": [
       "<Figure size 1296x360 with 1 Axes>"
      ]
     },
     "metadata": {
      "needs_background": "light"
     },
     "output_type": "display_data"
    }
   ],
   "source": [
    "fig, ax = plt.subplots(1, 1, figsize=(18, 5))\n",
    "\n",
    "ax.grid()\n",
    "sns.countplot(data=sort_df, x=f\"label\", ax=ax, label=\"FineGym-99\", color=\"pink\")\n",
    "ax.set_title(\"Label distribution for FineGym-99\", fontsize=20)\n",
    "ax.legend(fontsize=15)\n",
    "ax.set_xticks([])\n",
    "\n",
    "plt.show()"
   ]
  },
  {
   "cell_type": "code",
   "execution_count": null,
   "id": "448743b4-4b2a-449b-8e0b-542ae0a5ae0a",
   "metadata": {},
   "outputs": [],
   "source": []
  }
 ],
 "metadata": {
  "kernelspec": {
   "display_name": "Python 3 (ipykernel)",
   "language": "python",
   "name": "python3"
  },
  "language_info": {
   "codemirror_mode": {
    "name": "ipython",
    "version": 3
   },
   "file_extension": ".py",
   "mimetype": "text/x-python",
   "name": "python",
   "nbconvert_exporter": "python",
   "pygments_lexer": "ipython3",
   "version": "3.9.7"
  }
 },
 "nbformat": 4,
 "nbformat_minor": 5
}
