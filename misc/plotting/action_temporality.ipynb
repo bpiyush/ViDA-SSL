{
 "cells": [
  {
   "cell_type": "code",
   "execution_count": 1,
   "id": "115ea0af-0254-478d-a9dc-1404978d6678",
   "metadata": {},
   "outputs": [],
   "source": [
    "%load_ext autoreload\n",
    "%autoreload 2"
   ]
  },
  {
   "cell_type": "code",
   "execution_count": 2,
   "id": "93f5352e-9279-4b9e-9b2b-34648896e077",
   "metadata": {},
   "outputs": [],
   "source": [
    "from os.path import join, abspath\n",
    "import numpy as np\n",
    "import pandas as pd\n",
    "import matplotlib.pyplot as plt\n",
    "import seaborn as sns\n",
    "from sklearn.linear_model import LinearRegression"
   ]
  },
  {
   "cell_type": "code",
   "execution_count": 3,
   "id": "21c976c9-3f3b-4aaa-9341-47f74239e3d7",
   "metadata": {},
   "outputs": [],
   "source": [
    "import sys\n",
    "sys.path.insert(0, abspath(\"./../../\"))"
   ]
  },
  {
   "cell_type": "code",
   "execution_count": 4,
   "id": "f86ccd6f-fb34-423a-af3a-84cb171cad80",
   "metadata": {},
   "outputs": [],
   "source": [
    "from utils.pandas import apply_filters\n",
    "from utils.plt import configure_ax\n",
    "\n",
    "from utils_local import read_spreadsheet"
   ]
  },
  {
   "cell_type": "code",
   "execution_count": 5,
   "id": "cd8dd4d5-f9e3-49b8-8fd7-15f59f236a47",
   "metadata": {},
   "outputs": [],
   "source": [
    "plt.rcParams.update({\n",
    "    \"text.usetex\": True,\n",
    "    \"font.family\": \"serif\",\n",
    "    \"font.serif\": [\"Computer Modern Roman\"],\n",
    "})"
   ]
  },
  {
   "cell_type": "markdown",
   "id": "6a8bbf4a-df5b-4e44-9aff-a24e6371b791",
   "metadata": {},
   "source": [
    "### Load result file"
   ]
  },
  {
   "cell_type": "code",
   "execution_count": 6,
   "id": "a67ff0f0-7947-4699-9f1d-40be3ad89b9f",
   "metadata": {},
   "outputs": [],
   "source": [
    "df = read_spreadsheet(gid_key=\"temporality\")\n",
    "df.dropna(inplace=True)"
   ]
  },
  {
   "cell_type": "code",
   "execution_count": 7,
   "id": "bae3dfe3-4455-405a-af91-2781ac763459",
   "metadata": {},
   "outputs": [
    {
     "data": {
      "text/html": [
       "<div>\n",
       "<style scoped>\n",
       "    .dataframe tbody tr th:only-of-type {\n",
       "        vertical-align: middle;\n",
       "    }\n",
       "\n",
       "    .dataframe tbody tr th {\n",
       "        vertical-align: top;\n",
       "    }\n",
       "\n",
       "    .dataframe thead th {\n",
       "        text-align: right;\n",
       "    }\n",
       "</style>\n",
       "<table border=\"1\" class=\"dataframe\">\n",
       "  <thead>\n",
       "    <tr style=\"text-align: right;\">\n",
       "      <th></th>\n",
       "      <th>Frames</th>\n",
       "      <th>UCF-101</th>\n",
       "      <th>SS-v2</th>\n",
       "      <th>Gym-99</th>\n",
       "      <th>NTU-60</th>\n",
       "      <th>EPIC-Kitchens-100</th>\n",
       "      <th>Kinetics-400</th>\n",
       "      <th>Charades</th>\n",
       "      <th>AVA</th>\n",
       "      <th>HMDB-51</th>\n",
       "    </tr>\n",
       "  </thead>\n",
       "  <tbody>\n",
       "    <tr>\n",
       "      <th>0</th>\n",
       "      <td>1</td>\n",
       "      <td>80.04​</td>\n",
       "      <td>18.69​</td>\n",
       "      <td>60.61​</td>\n",
       "      <td>56.88​</td>\n",
       "      <td>28.33​</td>\n",
       "      <td>37.99</td>\n",
       "      <td>9.541</td>\n",
       "      <td>13.385</td>\n",
       "      <td>45.29</td>\n",
       "    </tr>\n",
       "    <tr>\n",
       "      <th>1</th>\n",
       "      <td>8</td>\n",
       "      <td>91.22​</td>\n",
       "      <td>40.89​</td>\n",
       "      <td>83.71​</td>\n",
       "      <td>90.45​</td>\n",
       "      <td>36.06​</td>\n",
       "      <td>56.47</td>\n",
       "      <td>12.562</td>\n",
       "      <td>15.586</td>\n",
       "      <td>57.45</td>\n",
       "    </tr>\n",
       "    <tr>\n",
       "      <th>2</th>\n",
       "      <td>16</td>\n",
       "      <td>93.58​</td>\n",
       "      <td>52.88​</td>\n",
       "      <td>88.11​</td>\n",
       "      <td>93.89​</td>\n",
       "      <td>40.22​</td>\n",
       "      <td>60.82</td>\n",
       "      <td>14.617</td>\n",
       "      <td>17.081</td>\n",
       "      <td>65.49</td>\n",
       "    </tr>\n",
       "    <tr>\n",
       "      <th>3</th>\n",
       "      <td>32</td>\n",
       "      <td>94.01​</td>\n",
       "      <td>61.05​</td>\n",
       "      <td>91.77​</td>\n",
       "      <td>94.90​</td>\n",
       "      <td>47.67​</td>\n",
       "      <td>61.31</td>\n",
       "      <td>23.098</td>\n",
       "      <td>17.938</td>\n",
       "      <td>68.50</td>\n",
       "    </tr>\n",
       "  </tbody>\n",
       "</table>\n",
       "</div>"
      ],
      "text/plain": [
       "   Frames UCF-101   SS-v2  Gym-99  NTU-60 EPIC-Kitchens-100  Kinetics-400  \\\n",
       "0       1  80.04​  18.69​  60.61​  56.88​            28.33​         37.99   \n",
       "1       8  91.22​  40.89​  83.71​  90.45​            36.06​         56.47   \n",
       "2      16  93.58​  52.88​  88.11​  93.89​            40.22​         60.82   \n",
       "3      32  94.01​  61.05​  91.77​  94.90​            47.67​         61.31   \n",
       "\n",
       "   Charades     AVA  HMDB-51  \n",
       "0     9.541  13.385    45.29  \n",
       "1    12.562  15.586    57.45  \n",
       "2    14.617  17.081    65.49  \n",
       "3    23.098  17.938    68.50  "
      ]
     },
     "execution_count": 7,
     "metadata": {},
     "output_type": "execute_result"
    }
   ],
   "source": [
    "df"
   ]
  },
  {
   "cell_type": "code",
   "execution_count": 8,
   "id": "f05d004a-58ea-4cf1-a1fb-3086f029e1ed",
   "metadata": {},
   "outputs": [
    {
     "ename": "AttributeError",
     "evalue": "'float' object has no attribute 'split'",
     "output_type": "error",
     "traceback": [
      "\u001b[0;31m---------------------------------------------------------------------------\u001b[0m",
      "\u001b[0;31mAttributeError\u001b[0m                            Traceback (most recent call last)",
      "\u001b[0;32m/var/folders/nw/93_by3716yn881ckngw_vmp40000gn/T/ipykernel_3531/3533965869.py\u001b[0m in \u001b[0;36m<module>\u001b[0;34m\u001b[0m\n\u001b[1;32m      1\u001b[0m \u001b[0;32mfor\u001b[0m \u001b[0mc\u001b[0m \u001b[0;32min\u001b[0m \u001b[0mset\u001b[0m\u001b[0;34m(\u001b[0m\u001b[0mdf\u001b[0m\u001b[0;34m.\u001b[0m\u001b[0mcolumns\u001b[0m\u001b[0;34m)\u001b[0m \u001b[0;34m-\u001b[0m \u001b[0;34m{\u001b[0m\u001b[0;34m\"Frames\"\u001b[0m\u001b[0;34m,\u001b[0m \u001b[0;34m\"K400\"\u001b[0m\u001b[0;34m}\u001b[0m\u001b[0;34m:\u001b[0m\u001b[0;34m\u001b[0m\u001b[0;34m\u001b[0m\u001b[0m\n\u001b[0;32m----> 2\u001b[0;31m     \u001b[0mdf\u001b[0m\u001b[0;34m[\u001b[0m\u001b[0mc\u001b[0m\u001b[0;34m]\u001b[0m \u001b[0;34m=\u001b[0m \u001b[0mdf\u001b[0m\u001b[0;34m[\u001b[0m\u001b[0mc\u001b[0m\u001b[0;34m]\u001b[0m\u001b[0;34m.\u001b[0m\u001b[0mapply\u001b[0m\u001b[0;34m(\u001b[0m\u001b[0;32mlambda\u001b[0m \u001b[0mx\u001b[0m\u001b[0;34m:\u001b[0m \u001b[0mx\u001b[0m\u001b[0;34m.\u001b[0m\u001b[0msplit\u001b[0m\u001b[0;34m(\u001b[0m\u001b[0;34m\"\\u200b\"\u001b[0m\u001b[0;34m)\u001b[0m\u001b[0;34m[\u001b[0m\u001b[0;36m0\u001b[0m\u001b[0;34m]\u001b[0m\u001b[0;34m)\u001b[0m\u001b[0;34m.\u001b[0m\u001b[0mastype\u001b[0m\u001b[0;34m(\u001b[0m\u001b[0mfloat\u001b[0m\u001b[0;34m)\u001b[0m\u001b[0;34m\u001b[0m\u001b[0;34m\u001b[0m\u001b[0m\n\u001b[0m",
      "\u001b[0;32m~/miniforge3/envs/video/lib/python3.9/site-packages/pandas/core/series.py\u001b[0m in \u001b[0;36mapply\u001b[0;34m(self, func, convert_dtype, args, **kwargs)\u001b[0m\n\u001b[1;32m   4355\u001b[0m         \u001b[0mdtype\u001b[0m\u001b[0;34m:\u001b[0m \u001b[0mfloat64\u001b[0m\u001b[0;34m\u001b[0m\u001b[0;34m\u001b[0m\u001b[0m\n\u001b[1;32m   4356\u001b[0m         \"\"\"\n\u001b[0;32m-> 4357\u001b[0;31m         \u001b[0;32mreturn\u001b[0m \u001b[0mSeriesApply\u001b[0m\u001b[0;34m(\u001b[0m\u001b[0mself\u001b[0m\u001b[0;34m,\u001b[0m \u001b[0mfunc\u001b[0m\u001b[0;34m,\u001b[0m \u001b[0mconvert_dtype\u001b[0m\u001b[0;34m,\u001b[0m \u001b[0margs\u001b[0m\u001b[0;34m,\u001b[0m \u001b[0mkwargs\u001b[0m\u001b[0;34m)\u001b[0m\u001b[0;34m.\u001b[0m\u001b[0mapply\u001b[0m\u001b[0;34m(\u001b[0m\u001b[0;34m)\u001b[0m\u001b[0;34m\u001b[0m\u001b[0;34m\u001b[0m\u001b[0m\n\u001b[0m\u001b[1;32m   4358\u001b[0m \u001b[0;34m\u001b[0m\u001b[0m\n\u001b[1;32m   4359\u001b[0m     def _reduce(\n",
      "\u001b[0;32m~/miniforge3/envs/video/lib/python3.9/site-packages/pandas/core/apply.py\u001b[0m in \u001b[0;36mapply\u001b[0;34m(self)\u001b[0m\n\u001b[1;32m   1041\u001b[0m             \u001b[0;32mreturn\u001b[0m \u001b[0mself\u001b[0m\u001b[0;34m.\u001b[0m\u001b[0mapply_str\u001b[0m\u001b[0;34m(\u001b[0m\u001b[0;34m)\u001b[0m\u001b[0;34m\u001b[0m\u001b[0;34m\u001b[0m\u001b[0m\n\u001b[1;32m   1042\u001b[0m \u001b[0;34m\u001b[0m\u001b[0m\n\u001b[0;32m-> 1043\u001b[0;31m         \u001b[0;32mreturn\u001b[0m \u001b[0mself\u001b[0m\u001b[0;34m.\u001b[0m\u001b[0mapply_standard\u001b[0m\u001b[0;34m(\u001b[0m\u001b[0;34m)\u001b[0m\u001b[0;34m\u001b[0m\u001b[0;34m\u001b[0m\u001b[0m\n\u001b[0m\u001b[1;32m   1044\u001b[0m \u001b[0;34m\u001b[0m\u001b[0m\n\u001b[1;32m   1045\u001b[0m     \u001b[0;32mdef\u001b[0m \u001b[0magg\u001b[0m\u001b[0;34m(\u001b[0m\u001b[0mself\u001b[0m\u001b[0;34m)\u001b[0m\u001b[0;34m:\u001b[0m\u001b[0;34m\u001b[0m\u001b[0;34m\u001b[0m\u001b[0m\n",
      "\u001b[0;32m~/miniforge3/envs/video/lib/python3.9/site-packages/pandas/core/apply.py\u001b[0m in \u001b[0;36mapply_standard\u001b[0;34m(self)\u001b[0m\n\u001b[1;32m   1097\u001b[0m                 \u001b[0;31m# List[Union[Callable[..., Any], str]]]]]\"; expected\u001b[0m\u001b[0;34m\u001b[0m\u001b[0;34m\u001b[0m\u001b[0m\n\u001b[1;32m   1098\u001b[0m                 \u001b[0;31m# \"Callable[[Any], Any]\"\u001b[0m\u001b[0;34m\u001b[0m\u001b[0;34m\u001b[0m\u001b[0m\n\u001b[0;32m-> 1099\u001b[0;31m                 mapped = lib.map_infer(\n\u001b[0m\u001b[1;32m   1100\u001b[0m                     \u001b[0mvalues\u001b[0m\u001b[0;34m,\u001b[0m\u001b[0;34m\u001b[0m\u001b[0;34m\u001b[0m\u001b[0m\n\u001b[1;32m   1101\u001b[0m                     \u001b[0mf\u001b[0m\u001b[0;34m,\u001b[0m  \u001b[0;31m# type: ignore[arg-type]\u001b[0m\u001b[0;34m\u001b[0m\u001b[0;34m\u001b[0m\u001b[0m\n",
      "\u001b[0;32m~/miniforge3/envs/video/lib/python3.9/site-packages/pandas/_libs/lib.pyx\u001b[0m in \u001b[0;36mpandas._libs.lib.map_infer\u001b[0;34m()\u001b[0m\n",
      "\u001b[0;32m/var/folders/nw/93_by3716yn881ckngw_vmp40000gn/T/ipykernel_3531/3533965869.py\u001b[0m in \u001b[0;36m<lambda>\u001b[0;34m(x)\u001b[0m\n\u001b[1;32m      1\u001b[0m \u001b[0;32mfor\u001b[0m \u001b[0mc\u001b[0m \u001b[0;32min\u001b[0m \u001b[0mset\u001b[0m\u001b[0;34m(\u001b[0m\u001b[0mdf\u001b[0m\u001b[0;34m.\u001b[0m\u001b[0mcolumns\u001b[0m\u001b[0;34m)\u001b[0m \u001b[0;34m-\u001b[0m \u001b[0;34m{\u001b[0m\u001b[0;34m\"Frames\"\u001b[0m\u001b[0;34m,\u001b[0m \u001b[0;34m\"K400\"\u001b[0m\u001b[0;34m}\u001b[0m\u001b[0;34m:\u001b[0m\u001b[0;34m\u001b[0m\u001b[0;34m\u001b[0m\u001b[0m\n\u001b[0;32m----> 2\u001b[0;31m     \u001b[0mdf\u001b[0m\u001b[0;34m[\u001b[0m\u001b[0mc\u001b[0m\u001b[0;34m]\u001b[0m \u001b[0;34m=\u001b[0m \u001b[0mdf\u001b[0m\u001b[0;34m[\u001b[0m\u001b[0mc\u001b[0m\u001b[0;34m]\u001b[0m\u001b[0;34m.\u001b[0m\u001b[0mapply\u001b[0m\u001b[0;34m(\u001b[0m\u001b[0;32mlambda\u001b[0m \u001b[0mx\u001b[0m\u001b[0;34m:\u001b[0m \u001b[0mx\u001b[0m\u001b[0;34m.\u001b[0m\u001b[0msplit\u001b[0m\u001b[0;34m(\u001b[0m\u001b[0;34m\"\\u200b\"\u001b[0m\u001b[0;34m)\u001b[0m\u001b[0;34m[\u001b[0m\u001b[0;36m0\u001b[0m\u001b[0;34m]\u001b[0m\u001b[0;34m)\u001b[0m\u001b[0;34m.\u001b[0m\u001b[0mastype\u001b[0m\u001b[0;34m(\u001b[0m\u001b[0mfloat\u001b[0m\u001b[0;34m)\u001b[0m\u001b[0;34m\u001b[0m\u001b[0;34m\u001b[0m\u001b[0m\n\u001b[0m",
      "\u001b[0;31mAttributeError\u001b[0m: 'float' object has no attribute 'split'"
     ]
    }
   ],
   "source": [
    "for c in set(df.columns) - {\"Frames\", \"K400\"}:\n",
    "    df[c] = df[c].apply(lambda x: x.split(\"\\u200b\")[0]).astype(float)"
   ]
  },
  {
   "cell_type": "code",
   "execution_count": 9,
   "id": "27f112a5-4213-458b-80ad-6fff55bb58ed",
   "metadata": {},
   "outputs": [
    {
     "data": {
      "text/html": [
       "<div>\n",
       "<style scoped>\n",
       "    .dataframe tbody tr th:only-of-type {\n",
       "        vertical-align: middle;\n",
       "    }\n",
       "\n",
       "    .dataframe tbody tr th {\n",
       "        vertical-align: top;\n",
       "    }\n",
       "\n",
       "    .dataframe thead th {\n",
       "        text-align: right;\n",
       "    }\n",
       "</style>\n",
       "<table border=\"1\" class=\"dataframe\">\n",
       "  <thead>\n",
       "    <tr style=\"text-align: right;\">\n",
       "      <th></th>\n",
       "      <th>Frames</th>\n",
       "      <th>UCF101</th>\n",
       "      <th>SSv2</th>\n",
       "      <th>Gym99</th>\n",
       "      <th>NTU60</th>\n",
       "      <th>EPIC (V)</th>\n",
       "      <th>K400</th>\n",
       "    </tr>\n",
       "  </thead>\n",
       "  <tbody>\n",
       "    <tr>\n",
       "      <th>0</th>\n",
       "      <td>1</td>\n",
       "      <td>80.04</td>\n",
       "      <td>18.69</td>\n",
       "      <td>60.61</td>\n",
       "      <td>56.88</td>\n",
       "      <td>28.33</td>\n",
       "      <td>37.99</td>\n",
       "    </tr>\n",
       "    <tr>\n",
       "      <th>1</th>\n",
       "      <td>8</td>\n",
       "      <td>91.22</td>\n",
       "      <td>40.89</td>\n",
       "      <td>83.71</td>\n",
       "      <td>90.45</td>\n",
       "      <td>36.06</td>\n",
       "      <td>56.47</td>\n",
       "    </tr>\n",
       "    <tr>\n",
       "      <th>2</th>\n",
       "      <td>16</td>\n",
       "      <td>93.58</td>\n",
       "      <td>52.88</td>\n",
       "      <td>88.11</td>\n",
       "      <td>93.89</td>\n",
       "      <td>40.22</td>\n",
       "      <td>60.82</td>\n",
       "    </tr>\n",
       "    <tr>\n",
       "      <th>3</th>\n",
       "      <td>32</td>\n",
       "      <td>94.01</td>\n",
       "      <td>61.05</td>\n",
       "      <td>91.77</td>\n",
       "      <td>94.90</td>\n",
       "      <td>47.67</td>\n",
       "      <td>61.31</td>\n",
       "    </tr>\n",
       "  </tbody>\n",
       "</table>\n",
       "</div>"
      ],
      "text/plain": [
       "   Frames  UCF101   SSv2  Gym99  NTU60  EPIC (V)   K400\n",
       "0       1   80.04  18.69  60.61  56.88     28.33  37.99\n",
       "1       8   91.22  40.89  83.71  90.45     36.06  56.47\n",
       "2      16   93.58  52.88  88.11  93.89     40.22  60.82\n",
       "3      32   94.01  61.05  91.77  94.90     47.67  61.31"
      ]
     },
     "execution_count": 9,
     "metadata": {},
     "output_type": "execute_result"
    }
   ],
   "source": [
    "df"
   ]
  },
  {
   "cell_type": "markdown",
   "id": "9a5ffd4c-b55b-4550-a1ed-33de54a5ef4e",
   "metadata": {},
   "source": [
    "### Plot"
   ]
  },
  {
   "cell_type": "code",
   "execution_count": 10,
   "id": "9316625d-c24f-4304-8c79-c953272e88aa",
   "metadata": {},
   "outputs": [
    {
     "data": {
      "image/png": "[encoded data removed]",
      "text/plain": [
       "<Figure size 864x576 with 1 Axes>"
      ]
     },
     "metadata": {
      "needs_background": "light"
     },
     "output_type": "display_data"
    }
   ],
   "source": [
    "H, W = 10, 13\n",
    "\n",
    "legendsize = 18\n",
    "\n",
    "fig, ax = plt.subplots(figsize=(12, 8))\n",
    "\n",
    "ax.grid()\n",
    "\n",
    "for d in df.columns:\n",
    "    if d == \"Frames\":\n",
    "        continue\n",
    "    ax.plot(df[\"Frames\"], df[d], label=d, marker=\"o\", markersize=8,)\n",
    "    \n",
    "ax.legend(fontsize=legendsize)\n",
    "plt.show()"
   ]
  },
  {
   "cell_type": "code",
   "execution_count": 11,
   "id": "14a23bb3-8410-4814-b193-a4fa52f35ea6",
   "metadata": {},
   "outputs": [],
   "source": [
    "# H, W = 10, 13\n",
    "\n",
    "# legendsize = 18\n",
    "\n",
    "# fig, ax = plt.subplots(figsize=(12, 8))\n",
    "\n",
    "# ax.grid()\n",
    "\n",
    "# for d in df.columns:\n",
    "#     if d == \"Frames\":\n",
    "#         continue\n",
    "#     ax.plot(np.log2(df[\"Frames\"]), df[d].values, label=d, marker=\"o\", markersize=8,)\n",
    "    \n",
    "# ax.legend(fontsize=legendsize)\n",
    "# plt.show()"
   ]
  },
  {
   "cell_type": "code",
   "execution_count": 12,
   "id": "55cdadf6-28d8-4f85-85cf-2eaaa2f8d5c5",
   "metadata": {},
   "outputs": [
    {
     "data": {
      "text/plain": [
       "1.0694117231531128"
      ]
     },
     "execution_count": 12,
     "metadata": {},
     "output_type": "execute_result"
    }
   ],
   "source": [
    "np.gradient(np.log2(df[\"Frames\"]), df[d].values).mean()"
   ]
  },
  {
   "cell_type": "code",
   "execution_count": 13,
   "id": "e3812003-a77f-4404-9467-63a003c24830",
   "metadata": {},
   "outputs": [
    {
     "data": {
      "text/html": [
       "<div>\n",
       "<style scoped>\n",
       "    .dataframe tbody tr th:only-of-type {\n",
       "        vertical-align: middle;\n",
       "    }\n",
       "\n",
       "    .dataframe tbody tr th {\n",
       "        vertical-align: top;\n",
       "    }\n",
       "\n",
       "    .dataframe thead th {\n",
       "        text-align: right;\n",
       "    }\n",
       "</style>\n",
       "<table border=\"1\" class=\"dataframe\">\n",
       "  <thead>\n",
       "    <tr style=\"text-align: right;\">\n",
       "      <th></th>\n",
       "      <th>Frames</th>\n",
       "      <th>UCF101</th>\n",
       "      <th>SSv2</th>\n",
       "      <th>Gym99</th>\n",
       "      <th>NTU60</th>\n",
       "      <th>EPIC (V)</th>\n",
       "      <th>K400</th>\n",
       "    </tr>\n",
       "  </thead>\n",
       "  <tbody>\n",
       "    <tr>\n",
       "      <th>0</th>\n",
       "      <td>1</td>\n",
       "      <td>80.04</td>\n",
       "      <td>18.69</td>\n",
       "      <td>60.61</td>\n",
       "      <td>56.88</td>\n",
       "      <td>28.33</td>\n",
       "      <td>37.99</td>\n",
       "    </tr>\n",
       "    <tr>\n",
       "      <th>1</th>\n",
       "      <td>8</td>\n",
       "      <td>91.22</td>\n",
       "      <td>40.89</td>\n",
       "      <td>83.71</td>\n",
       "      <td>90.45</td>\n",
       "      <td>36.06</td>\n",
       "      <td>56.47</td>\n",
       "    </tr>\n",
       "    <tr>\n",
       "      <th>2</th>\n",
       "      <td>16</td>\n",
       "      <td>93.58</td>\n",
       "      <td>52.88</td>\n",
       "      <td>88.11</td>\n",
       "      <td>93.89</td>\n",
       "      <td>40.22</td>\n",
       "      <td>60.82</td>\n",
       "    </tr>\n",
       "    <tr>\n",
       "      <th>3</th>\n",
       "      <td>32</td>\n",
       "      <td>94.01</td>\n",
       "      <td>61.05</td>\n",
       "      <td>91.77</td>\n",
       "      <td>94.90</td>\n",
       "      <td>47.67</td>\n",
       "      <td>61.31</td>\n",
       "    </tr>\n",
       "  </tbody>\n",
       "</table>\n",
       "</div>"
      ],
      "text/plain": [
       "   Frames  UCF101   SSv2  Gym99  NTU60  EPIC (V)   K400\n",
       "0       1   80.04  18.69  60.61  56.88     28.33  37.99\n",
       "1       8   91.22  40.89  83.71  90.45     36.06  56.47\n",
       "2      16   93.58  52.88  88.11  93.89     40.22  60.82\n",
       "3      32   94.01  61.05  91.77  94.90     47.67  61.31"
      ]
     },
     "execution_count": 13,
     "metadata": {},
     "output_type": "execute_result"
    }
   ],
   "source": [
    "df"
   ]
  },
  {
   "cell_type": "markdown",
   "id": "31028823-6347-450a-b086-1b47f31703ff",
   "metadata": {},
   "source": [
    "### Compute metric"
   ]
  },
  {
   "cell_type": "code",
   "execution_count": 15,
   "id": "98c7bfd9-3478-4f7c-8e08-4c27e24bd862",
   "metadata": {},
   "outputs": [
    {
     "data": {
      "text/html": [
       "<div>\n",
       "<style scoped>\n",
       "    .dataframe tbody tr th:only-of-type {\n",
       "        vertical-align: middle;\n",
       "    }\n",
       "\n",
       "    .dataframe tbody tr th {\n",
       "        vertical-align: top;\n",
       "    }\n",
       "\n",
       "    .dataframe thead th {\n",
       "        text-align: right;\n",
       "    }\n",
       "</style>\n",
       "<table border=\"1\" class=\"dataframe\">\n",
       "  <thead>\n",
       "    <tr style=\"text-align: right;\">\n",
       "      <th></th>\n",
       "      <th>Frames</th>\n",
       "      <th>UCF101</th>\n",
       "      <th>SSv2</th>\n",
       "      <th>Gym99</th>\n",
       "      <th>NTU60</th>\n",
       "      <th>EPIC (V)</th>\n",
       "      <th>K400</th>\n",
       "    </tr>\n",
       "  </thead>\n",
       "  <tbody>\n",
       "    <tr>\n",
       "      <th>0</th>\n",
       "      <td>1</td>\n",
       "      <td>80.04</td>\n",
       "      <td>18.69</td>\n",
       "      <td>60.61</td>\n",
       "      <td>56.88</td>\n",
       "      <td>28.33</td>\n",
       "      <td>37.99</td>\n",
       "    </tr>\n",
       "    <tr>\n",
       "      <th>1</th>\n",
       "      <td>8</td>\n",
       "      <td>91.22</td>\n",
       "      <td>40.89</td>\n",
       "      <td>83.71</td>\n",
       "      <td>90.45</td>\n",
       "      <td>36.06</td>\n",
       "      <td>56.47</td>\n",
       "    </tr>\n",
       "    <tr>\n",
       "      <th>2</th>\n",
       "      <td>16</td>\n",
       "      <td>93.58</td>\n",
       "      <td>52.88</td>\n",
       "      <td>88.11</td>\n",
       "      <td>93.89</td>\n",
       "      <td>40.22</td>\n",
       "      <td>60.82</td>\n",
       "    </tr>\n",
       "    <tr>\n",
       "      <th>3</th>\n",
       "      <td>32</td>\n",
       "      <td>94.01</td>\n",
       "      <td>61.05</td>\n",
       "      <td>91.77</td>\n",
       "      <td>94.90</td>\n",
       "      <td>47.67</td>\n",
       "      <td>61.31</td>\n",
       "    </tr>\n",
       "  </tbody>\n",
       "</table>\n",
       "</div>"
      ],
      "text/plain": [
       "   Frames  UCF101   SSv2  Gym99  NTU60  EPIC (V)   K400\n",
       "0       1   80.04  18.69  60.61  56.88     28.33  37.99\n",
       "1       8   91.22  40.89  83.71  90.45     36.06  56.47\n",
       "2      16   93.58  52.88  88.11  93.89     40.22  60.82\n",
       "3      32   94.01  61.05  91.77  94.90     47.67  61.31"
      ]
     },
     "execution_count": 15,
     "metadata": {},
     "output_type": "execute_result"
    }
   ],
   "source": [
    "df"
   ]
  },
  {
   "cell_type": "code",
   "execution_count": 72,
   "id": "cf20111e-7286-452d-8f3e-ebfab7bb7efb",
   "metadata": {},
   "outputs": [],
   "source": [
    "frames = df[\"Frames\"].values\n",
    "datasets = set(df.columns) - {\"Frames\"}\n",
    "\n",
    "# compute mean of fractional change\n",
    "mfc = dict()\n",
    "\n",
    "# compute gradients\n",
    "grads = dict()\n",
    "\n",
    "# compute log-grad\n",
    "log_grads = dict()\n",
    "\n",
    "# compute second order gradients\n",
    "sog = dict()\n",
    "\n",
    "# compute % change\n",
    "pct_change = dict()\n",
    "\n",
    "deltas = dict()\n",
    "\n",
    "fraction = dict()\n",
    "\n",
    "for dataset in datasets:\n",
    "    yvalues = df[dataset].values\n",
    "    # mfc[dataset] = (yvalues[1:] / yvalues[:-1]).mean()\n",
    "    # mfc[dataset] = ((yvalues[1:] - yvalues[:-1]) / yvalues[0])\n",
    "    mfc[dataset] = ((yvalues[1:] - yvalues[0]) / yvalues[0])\n",
    "    \n",
    "    grads[dataset] = np.divide(yvalues[1:] - yvalues[:-1], frames[1:] - frames[:-1]).mean()\n",
    "    grads[dataset] = np.gradient(yvalues, frames).mean()\n",
    "    grads[dataset] = np.gradient(yvalues, frames)\n",
    "    grads[dataset] = np.divide(yvalues[1:] - yvalues[:-1], frames[1:] - frames[:-1])\n",
    "    grads[dataset] = np.divide(yvalues[1:] - yvalues[0], frames[1:] - frames[0])\n",
    "    \n",
    "    log_grads[dataset] = np.gradient(np.log2(yvalues), np.log2(frames)).mean()\n",
    "    \n",
    "    sog[dataset] = np.gradient(np.gradient(yvalues, frames), frames).mean()\n",
    "    \n",
    "    pct_change[dataset] = 100 * ((yvalues[1:] - yvalues[:-1])/ yvalues[:-1]).mean()\n",
    "    \n",
    "    X = 100 * ((yvalues[1:] - yvalues[:-1])/ yvalues[:-1])\n",
    "    # X *= frames[1:] - frames[:-1]\n",
    "    X /= frames[1:] - frames[:-1]\n",
    "    pct_change[dataset] = X.mean()\n",
    "    \n",
    "    # fraction[dataset] = (yvalues[1:]/ yvalues[:-1]).mean()\n",
    "    fraction[dataset] = (yvalues[1:]/ yvalues[:-1])"
   ]
  },
  {
   "cell_type": "code",
   "execution_count": 73,
   "id": "2eee601b-ed43-4fe6-9740-40b04c7a7b85",
   "metadata": {},
   "outputs": [
    {
     "data": {
      "text/html": [
       "<div>\n",
       "<style scoped>\n",
       "    .dataframe tbody tr th:only-of-type {\n",
       "        vertical-align: middle;\n",
       "    }\n",
       "\n",
       "    .dataframe tbody tr th {\n",
       "        vertical-align: top;\n",
       "    }\n",
       "\n",
       "    .dataframe thead th {\n",
       "        text-align: right;\n",
       "    }\n",
       "</style>\n",
       "<table border=\"1\" class=\"dataframe\">\n",
       "  <thead>\n",
       "    <tr style=\"text-align: right;\">\n",
       "      <th></th>\n",
       "      <th>Frames</th>\n",
       "      <th>UCF101</th>\n",
       "      <th>SSv2</th>\n",
       "      <th>Gym99</th>\n",
       "      <th>NTU60</th>\n",
       "      <th>EPIC (V)</th>\n",
       "      <th>K400</th>\n",
       "    </tr>\n",
       "  </thead>\n",
       "  <tbody>\n",
       "    <tr>\n",
       "      <th>0</th>\n",
       "      <td>1</td>\n",
       "      <td>80.04</td>\n",
       "      <td>18.69</td>\n",
       "      <td>60.61</td>\n",
       "      <td>56.88</td>\n",
       "      <td>28.33</td>\n",
       "      <td>37.99</td>\n",
       "    </tr>\n",
       "    <tr>\n",
       "      <th>1</th>\n",
       "      <td>8</td>\n",
       "      <td>91.22</td>\n",
       "      <td>40.89</td>\n",
       "      <td>83.71</td>\n",
       "      <td>90.45</td>\n",
       "      <td>36.06</td>\n",
       "      <td>56.47</td>\n",
       "    </tr>\n",
       "    <tr>\n",
       "      <th>2</th>\n",
       "      <td>16</td>\n",
       "      <td>93.58</td>\n",
       "      <td>52.88</td>\n",
       "      <td>88.11</td>\n",
       "      <td>93.89</td>\n",
       "      <td>40.22</td>\n",
       "      <td>60.82</td>\n",
       "    </tr>\n",
       "    <tr>\n",
       "      <th>3</th>\n",
       "      <td>32</td>\n",
       "      <td>94.01</td>\n",
       "      <td>61.05</td>\n",
       "      <td>91.77</td>\n",
       "      <td>94.90</td>\n",
       "      <td>47.67</td>\n",
       "      <td>61.31</td>\n",
       "    </tr>\n",
       "  </tbody>\n",
       "</table>\n",
       "</div>"
      ],
      "text/plain": [
       "   Frames  UCF101   SSv2  Gym99  NTU60  EPIC (V)   K400\n",
       "0       1   80.04  18.69  60.61  56.88     28.33  37.99\n",
       "1       8   91.22  40.89  83.71  90.45     36.06  56.47\n",
       "2      16   93.58  52.88  88.11  93.89     40.22  60.82\n",
       "3      32   94.01  61.05  91.77  94.90     47.67  61.31"
      ]
     },
     "execution_count": 73,
     "metadata": {},
     "output_type": "execute_result"
    }
   ],
   "source": [
    "df"
   ]
  },
  {
   "cell_type": "code",
   "execution_count": 77,
   "id": "6b81fe7d-ec42-4540-b705-85bfdd71e80f",
   "metadata": {},
   "outputs": [
    {
     "data": {
      "text/plain": [
       "1.2728556300741265"
      ]
     },
     "execution_count": 77,
     "metadata": {},
     "output_type": "execute_result"
    }
   ],
   "source": [
    "(36.06) / 28.33"
   ]
  },
  {
   "cell_type": "code",
   "execution_count": 75,
   "id": "87fa8ce1-0321-4ba1-ad66-4e25f78f0a00",
   "metadata": {},
   "outputs": [
    {
     "data": {
      "text/plain": [
       "{'EPIC (V)': array([0.27285563, 0.41969643, 0.68266855]),\n",
       " 'UCF101': array([0.13968016, 0.16916542, 0.17453773]),\n",
       " 'SSv2': array([1.18780096, 1.82932049, 2.26645265]),\n",
       " 'K400': array([0.4864438 , 0.60094762, 0.61384575]),\n",
       " 'NTU60': array([0.59018987, 0.65066807, 0.66842475]),\n",
       " 'Gym99': array([0.38112523, 0.45372051, 0.51410658])}"
      ]
     },
     "execution_count": 75,
     "metadata": {},
     "output_type": "execute_result"
    }
   ],
   "source": [
    "mfc"
   ]
  },
  {
   "cell_type": "code",
   "execution_count": 76,
   "id": "f1607b86-1f72-464f-bbe0-70a2b7de13b9",
   "metadata": {},
   "outputs": [
    {
     "data": {
      "text/plain": [
       "[('EPIC (V)', 0.458406871396635),\n",
       " ('UCF101', 0.16112776944860893),\n",
       " ('SSv2', 1.7611913679329405),\n",
       " ('K400', 0.5670790558919013),\n",
       " ('NTU60', 0.6364275668073136),\n",
       " ('Gym99', 0.4496507726997745)]"
      ]
     },
     "execution_count": 76,
     "metadata": {},
     "output_type": "execute_result"
    }
   ],
   "source": [
    "[(d, mfc[d].mean()) for d in mfc]"
   ]
  },
  {
   "cell_type": "code",
   "execution_count": 71,
   "id": "a8a8e003-7b61-4b9c-ae07-6405ab0c400f",
   "metadata": {},
   "outputs": [
    {
     "data": {
      "text/plain": [
       "[('EPIC (V)', 0.20490645958348042),\n",
       " ('UCF101', 0.01742878560719644),\n",
       " ('SSv2', 0.5393258426966291),\n",
       " ('K400', 0.0637009739405107),\n",
       " ('NTU60', 0.03911744022503519),\n",
       " ('Gym99', 0.06649067810592314)]"
      ]
     },
     "execution_count": 71,
     "metadata": {},
     "output_type": "execute_result"
    }
   ],
   "source": [
    "[(d, mfc[d][1:].mean()) for d in mfc]"
   ]
  },
  {
   "cell_type": "code",
   "execution_count": null,
   "id": "3336bb91-d44c-4ecb-97a0-1a413a2f1611",
   "metadata": {},
   "outputs": [],
   "source": []
  },
  {
   "cell_type": "code",
   "execution_count": null,
   "id": "f9fb21e6-c3be-46b9-abc5-246a4570455a",
   "metadata": {},
   "outputs": [],
   "source": []
  },
  {
   "cell_type": "code",
   "execution_count": 52,
   "id": "4baf6933-8347-4bd1-8cb2-eeb225424a69",
   "metadata": {},
   "outputs": [
    {
     "data": {
      "text/plain": [
       "{'EPIC (V)': array([1.10428571, 0.79266667, 0.62387097]),\n",
       " 'UCF101': array([1.59714286, 0.90266667, 0.45064516]),\n",
       " 'SSv2': array([3.17142857, 2.27933333, 1.36645161]),\n",
       " 'K400': array([2.64      , 1.522     , 0.75225806]),\n",
       " 'NTU60': array([4.79571429, 2.46733333, 1.22645161]),\n",
       " 'Gym99': array([3.3       , 1.83333333, 1.00516129])}"
      ]
     },
     "execution_count": 52,
     "metadata": {},
     "output_type": "execute_result"
    }
   ],
   "source": [
    "grads"
   ]
  },
  {
   "cell_type": "code",
   "execution_count": 54,
   "id": "867a0b5e-1af8-4cee-9cee-5b9c4538bddb",
   "metadata": {},
   "outputs": [
    {
     "data": {
      "text/plain": [
       "[('EPIC (V)', 0.8402744495647724),\n",
       " ('UCF101', 0.9834848950332816),\n",
       " ('SSv2', 2.272404505888377),\n",
       " ('K400', 1.6380860215053759),\n",
       " ('NTU60', 2.829833077316948),\n",
       " ('Gym99', 2.046164874551971)]"
      ]
     },
     "execution_count": 54,
     "metadata": {},
     "output_type": "execute_result"
    }
   ],
   "source": [
    "[(d, grads[d].mean()) for d in grads]"
   ]
  },
  {
   "cell_type": "code",
   "execution_count": null,
   "id": "54ea0272-8892-495b-9704-77409e848c0d",
   "metadata": {},
   "outputs": [],
   "source": []
  },
  {
   "cell_type": "code",
   "execution_count": 43,
   "id": "9741828c-5477-46a7-b04a-046b6576e129",
   "metadata": {},
   "outputs": [
    {
     "data": {
      "text/html": [
       "<div>\n",
       "<style scoped>\n",
       "    .dataframe tbody tr th:only-of-type {\n",
       "        vertical-align: middle;\n",
       "    }\n",
       "\n",
       "    .dataframe tbody tr th {\n",
       "        vertical-align: top;\n",
       "    }\n",
       "\n",
       "    .dataframe thead th {\n",
       "        text-align: right;\n",
       "    }\n",
       "</style>\n",
       "<table border=\"1\" class=\"dataframe\">\n",
       "  <thead>\n",
       "    <tr style=\"text-align: right;\">\n",
       "      <th></th>\n",
       "      <th>Frames</th>\n",
       "      <th>UCF101</th>\n",
       "      <th>SSv2</th>\n",
       "      <th>Gym99</th>\n",
       "      <th>NTU60</th>\n",
       "      <th>EPIC (V)</th>\n",
       "      <th>K400</th>\n",
       "    </tr>\n",
       "  </thead>\n",
       "  <tbody>\n",
       "    <tr>\n",
       "      <th>0</th>\n",
       "      <td>1</td>\n",
       "      <td>80.04</td>\n",
       "      <td>18.69</td>\n",
       "      <td>60.61</td>\n",
       "      <td>56.88</td>\n",
       "      <td>28.33</td>\n",
       "      <td>37.99</td>\n",
       "    </tr>\n",
       "    <tr>\n",
       "      <th>1</th>\n",
       "      <td>8</td>\n",
       "      <td>91.22</td>\n",
       "      <td>40.89</td>\n",
       "      <td>83.71</td>\n",
       "      <td>90.45</td>\n",
       "      <td>36.06</td>\n",
       "      <td>56.47</td>\n",
       "    </tr>\n",
       "    <tr>\n",
       "      <th>2</th>\n",
       "      <td>16</td>\n",
       "      <td>93.58</td>\n",
       "      <td>52.88</td>\n",
       "      <td>88.11</td>\n",
       "      <td>93.89</td>\n",
       "      <td>40.22</td>\n",
       "      <td>60.82</td>\n",
       "    </tr>\n",
       "    <tr>\n",
       "      <th>3</th>\n",
       "      <td>32</td>\n",
       "      <td>94.01</td>\n",
       "      <td>61.05</td>\n",
       "      <td>91.77</td>\n",
       "      <td>94.90</td>\n",
       "      <td>47.67</td>\n",
       "      <td>61.31</td>\n",
       "    </tr>\n",
       "  </tbody>\n",
       "</table>\n",
       "</div>"
      ],
      "text/plain": [
       "   Frames  UCF101   SSv2  Gym99  NTU60  EPIC (V)   K400\n",
       "0       1   80.04  18.69  60.61  56.88     28.33  37.99\n",
       "1       8   91.22  40.89  83.71  90.45     36.06  56.47\n",
       "2      16   93.58  52.88  88.11  93.89     40.22  60.82\n",
       "3      32   94.01  61.05  91.77  94.90     47.67  61.31"
      ]
     },
     "execution_count": 43,
     "metadata": {},
     "output_type": "execute_result"
    }
   ],
   "source": [
    "df"
   ]
  },
  {
   "cell_type": "code",
   "execution_count": 44,
   "id": "d099969a-f952-4f6d-b305-ef5b6a8da9a0",
   "metadata": {},
   "outputs": [
    {
     "data": {
      "text/plain": [
       "1.4864438010002632"
      ]
     },
     "execution_count": 44,
     "metadata": {},
     "output_type": "execute_result"
    }
   ],
   "source": [
    "56.47 / 37.99"
   ]
  },
  {
   "cell_type": "code",
   "execution_count": 42,
   "id": "cb5eae9d-cb25-434e-9ffa-0846ec9e2e0b",
   "metadata": {},
   "outputs": [
    {
     "data": {
      "text/plain": [
       "{'EPIC (V)': array([1.27285563, 1.11536328, 1.18523123]),\n",
       " 'UCF101': array([1.13968016, 1.02587152, 1.004595  ]),\n",
       " 'SSv2': array([2.18780096, 1.29322573, 1.15450076]),\n",
       " 'K400': array([1.4864438 , 1.07703205, 1.00805656]),\n",
       " 'NTU60': array([1.59018987, 1.03803206, 1.01075727]),\n",
       " 'Gym99': array([1.38112523, 1.05256242, 1.04153899])}"
      ]
     },
     "execution_count": 42,
     "metadata": {},
     "output_type": "execute_result"
    }
   ],
   "source": [
    "fraction"
   ]
  },
  {
   "cell_type": "code",
   "execution_count": 26,
   "id": "f1c48951-dbbf-4b85-b5ab-50b2e6b51bfd",
   "metadata": {},
   "outputs": [
    {
     "data": {
      "text/plain": [
       "{'EPIC (V)': 2.165891263907737,\n",
       " 'UCF101': 0.7825145306224289,\n",
       " 'SSv2': 7.199845503030318,\n",
       " 'K400': 2.65415043816641,\n",
       " 'NTU60': 2.991305870676778,\n",
       " 'Gym99': 2.1204316599629895}"
      ]
     },
     "execution_count": 26,
     "metadata": {},
     "output_type": "execute_result"
    }
   ],
   "source": [
    "pct_change"
   ]
  },
  {
   "cell_type": "code",
   "execution_count": 31,
   "id": "f0a3c7d9-e03f-4226-8d05-ec337ccf94c6",
   "metadata": {},
   "outputs": [
    {
     "data": {
      "text/plain": [
       "(array([ 1,  8, 16, 32]), array([60.61, 83.71, 88.11, 91.77]))"
      ]
     },
     "execution_count": 31,
     "metadata": {},
     "output_type": "execute_result"
    }
   ],
   "source": [
    "frames, yvalues"
   ]
  },
  {
   "cell_type": "code",
   "execution_count": 33,
   "id": "fa837191-d390-4786-8071-027d01177ce2",
   "metadata": {},
   "outputs": [
    {
     "data": {
      "text/plain": [
       "array([38.11252269,  5.25624179,  4.15389854])"
      ]
     },
     "execution_count": 33,
     "metadata": {},
     "output_type": "execute_result"
    }
   ],
   "source": [
    "100 * (np.diff(yvalues) / yvalues[:-1])"
   ]
  },
  {
   "cell_type": "code",
   "execution_count": 38,
   "id": "c8f1d506-4bc1-4e5f-8513-489dc73eef37",
   "metadata": {},
   "outputs": [
    {
     "data": {
      "text/plain": [
       "array([5.4446461 , 0.65703022, 0.25961866])"
      ]
     },
     "execution_count": 38,
     "metadata": {},
     "output_type": "execute_result"
    }
   ],
   "source": [
    "100 * (np.diff(yvalues) / yvalues[:-1]) / (frames[1:] - frames[:-1])"
   ]
  },
  {
   "cell_type": "code",
   "execution_count": null,
   "id": "4f0214c9-c348-4203-8eb4-9c5a05bc357a",
   "metadata": {},
   "outputs": [],
   "source": []
  },
  {
   "cell_type": "code",
   "execution_count": 20,
   "id": "59432e41-4640-45d9-b3f4-f9a263c71822",
   "metadata": {},
   "outputs": [
    {
     "data": {
      "text/plain": [
       "{'EPIC (V)': 0.17741839658592057,\n",
       " 'UCF101': 0.033644747052992655,\n",
       " 'SSv2': 0.31130965227569274,\n",
       " 'K400': 0.09736710336098783,\n",
       " 'NTU60': 0.0923253894380062,\n",
       " 'Gym99': 0.09363980521749446}"
      ]
     },
     "execution_count": 20,
     "metadata": {},
     "output_type": "execute_result"
    }
   ],
   "source": [
    "log_grads"
   ]
  },
  {
   "cell_type": "code",
   "execution_count": 69,
   "id": "f50b9cb7-0512-4bd4-b334-d84e9afefb5f",
   "metadata": {},
   "outputs": [
    {
     "data": {
      "text/plain": [
       "array([0.59018987, 0.03803206, 0.01075727])"
      ]
     },
     "execution_count": 69,
     "metadata": {},
     "output_type": "execute_result"
    }
   ],
   "source": [
    "(yvalues[1:] - yvalues[:-1]) / yvalues[:-1]"
   ]
  },
  {
   "cell_type": "code",
   "execution_count": 70,
   "id": "5b49cb99-5a48-4c67-b32e-c6f9c72153a1",
   "metadata": {},
   "outputs": [
    {
     "data": {
      "text/plain": [
       "{'EPIC (V)': 1.191150047245103,\n",
       " 'K400': 1.1905108045864896,\n",
       " 'UCF101': 1.0567155594183584,\n",
       " 'Gym99': 1.1584088766968954,\n",
       " 'SSv2': 1.5451758156910884,\n",
       " 'NTU60': 1.2129930681583747}"
      ]
     },
     "execution_count": 70,
     "metadata": {},
     "output_type": "execute_result"
    }
   ],
   "source": [
    "mfc"
   ]
  },
  {
   "cell_type": "code",
   "execution_count": 71,
   "id": "56147f56-f214-43be-99c3-1262daf0cbfc",
   "metadata": {},
   "outputs": [
    {
     "data": {
      "text/plain": [
       "{'EPIC (V)': 0.6966369047619049,\n",
       " 'K400': 1.0714583333333334,\n",
       " 'UCF101': 0.6396726190476189,\n",
       " 'Gym99': 1.3595833333333331,\n",
       " 'SSv2': 1.7269345238095237,\n",
       " 'NTU60': 1.7629464285714285}"
      ]
     },
     "execution_count": 71,
     "metadata": {},
     "output_type": "execute_result"
    }
   ],
   "source": [
    "grads"
   ]
  },
  {
   "cell_type": "code",
   "execution_count": 72,
   "id": "f58ed143-3430-40e8-8bb8-b38c38e4f2c0",
   "metadata": {},
   "outputs": [
    {
     "data": {
      "text/plain": [
       "{'EPIC (V)': -0.027365389384920665,\n",
       " 'K400': -0.1063511284722222,\n",
       " 'UCF101': -0.0647623387896825,\n",
       " 'Gym99': -0.13047656249999995,\n",
       " 'SSv2': -0.0997305927579365,\n",
       " 'NTU60': -0.2034583953373016}"
      ]
     },
     "execution_count": 72,
     "metadata": {},
     "output_type": "execute_result"
    }
   ],
   "source": [
    "sog"
   ]
  },
  {
   "cell_type": "code",
   "execution_count": 73,
   "id": "54390870-a699-4284-a124-7e36459e845d",
   "metadata": {},
   "outputs": [
    {
     "data": {
      "text/plain": [
       "{'EPIC (V)': 19.115004724510296,\n",
       " 'K400': 19.051080458648954,\n",
       " 'UCF101': 5.671555941835837,\n",
       " 'Gym99': 15.840887669689538,\n",
       " 'SSv2': 54.51758156910883,\n",
       " 'NTU60': 21.29930681583748}"
      ]
     },
     "execution_count": 73,
     "metadata": {},
     "output_type": "execute_result"
    }
   ],
   "source": [
    "pct_change"
   ]
  },
  {
   "cell_type": "code",
   "execution_count": 134,
   "id": "6a7800ed-c788-4355-a5fa-2077df0a8ccf",
   "metadata": {},
   "outputs": [],
   "source": [
    "LR = LinearRegression()"
   ]
  },
  {
   "cell_type": "code",
   "execution_count": null,
   "id": "19c26629-34da-470e-82da-b0e26c1f41a4",
   "metadata": {},
   "outputs": [],
   "source": []
  },
  {
   "cell_type": "code",
   "execution_count": 111,
   "id": "8ddc119e-1154-479a-82d0-e0464794bd70",
   "metadata": {},
   "outputs": [],
   "source": [
    "pct_change = dict()\n",
    "\n",
    "for dataset in datasets:\n",
    "    yvalues = df[dataset].values\n",
    "    \n",
    "    grads = np.divide(yvalues[1:] - yvalues[:-1], frames[1:] - frames[:-1])\n",
    "    grads = np.gradient(yvalues, frames)\n",
    "    \n",
    "    pct_change[dataset] = 100 * ((yvalues[1:] - yvalues[:-1])/ yvalues[:-1])\n",
    "    break"
   ]
  },
  {
   "cell_type": "code",
   "execution_count": 112,
   "id": "b70b0eb5-fbb4-4c34-88ed-1bd27a012b74",
   "metadata": {},
   "outputs": [
    {
     "data": {
      "text/plain": [
       "array([1.10428571, 0.83161905, 0.501875  , 0.465625  ])"
      ]
     },
     "execution_count": 112,
     "metadata": {},
     "output_type": "execute_result"
    }
   ],
   "source": [
    "grads"
   ]
  },
  {
   "cell_type": "code",
   "execution_count": 113,
   "id": "bbebc5cd-ac33-41dc-ad1d-01e7ad24c591",
   "metadata": {},
   "outputs": [
    {
     "data": {
      "text/plain": [
       "{'EPIC (V)': array([27.28556301, 11.53632834, 18.52312282])}"
      ]
     },
     "execution_count": 113,
     "metadata": {},
     "output_type": "execute_result"
    }
   ],
   "source": [
    "pct_change"
   ]
  },
  {
   "cell_type": "code",
   "execution_count": 114,
   "id": "10da6056-a97a-446b-b523-9e1eee7911cc",
   "metadata": {},
   "outputs": [
    {
     "data": {
      "text/plain": [
       "(array([ 1,  8, 16, 32]), array([28.33, 36.06, 40.22, 47.67]))"
      ]
     },
     "execution_count": 114,
     "metadata": {},
     "output_type": "execute_result"
    }
   ],
   "source": [
    "frames, yvalues"
   ]
  },
  {
   "cell_type": "code",
   "execution_count": 129,
   "id": "9ebba22f-7548-4d2e-85ed-82e98d79a3ad",
   "metadata": {},
   "outputs": [],
   "source": [
    "thetas = np.polyfit(frames, yvalues, deg=2)\n",
    "stationary_point = -0.5 * (thetas[1] / (thetas[2] + 0.00001))\n",
    "\n",
    "f = lambda x: np.dot(thetas, np.array([1.0, x, x ** 2]))"
   ]
  },
  {
   "cell_type": "code",
   "execution_count": 130,
   "id": "52b69d75-24f3-41e1-8547-952ba5e9c906",
   "metadata": {},
   "outputs": [
    {
     "data": {
      "text/plain": [
       "[28.722498414159382, 1781.5462423895199, 7109.796363721875, 28406.370159540234]"
      ]
     },
     "execution_count": 130,
     "metadata": {},
     "output_type": "execute_result"
    }
   ],
   "source": [
    "[f(x) for x in frames]"
   ]
  },
  {
   "cell_type": "code",
   "execution_count": null,
   "id": "51fdd8e1-3f71-4df3-9158-166de524e473",
   "metadata": {},
   "outputs": [],
   "source": [
    "linear_regressor = sklm.LinearRegression()"
   ]
  },
  {
   "cell_type": "code",
   "execution_count": 132,
   "id": "7b0a1eba-94d3-4792-8f71-9e6ec4af4c7c",
   "metadata": {},
   "outputs": [
    {
     "data": {
      "text/plain": [
       "array([28.33, 36.06, 40.22, 47.67])"
      ]
     },
     "execution_count": 132,
     "metadata": {},
     "output_type": "execute_result"
    }
   ],
   "source": [
    "yvalues"
   ]
  },
  {
   "cell_type": "code",
   "execution_count": 131,
   "id": "3936d0f4-eaca-4fed-9f04-019784edf81b",
   "metadata": {},
   "outputs": [
    {
     "ename": "SyntaxError",
     "evalue": "invalid syntax (1416132502.py, line 1)",
     "output_type": "error",
     "traceback": [
      "\u001b[0;36m  File \u001b[0;32m\"/var/folders/nw/93_by3716yn881ckngw_vmp40000gn/T/ipykernel_95512/1416132502.py\"\u001b[0;36m, line \u001b[0;32m1\u001b[0m\n\u001b[0;31m    thetas *\u001b[0m\n\u001b[0m             ^\u001b[0m\n\u001b[0;31mSyntaxError\u001b[0m\u001b[0;31m:\u001b[0m invalid syntax\n"
     ]
    }
   ],
   "source": [
    "thetas * "
   ]
  },
  {
   "cell_type": "code",
   "execution_count": 184,
   "id": "3357f743-e7ca-47f5-8b27-6658d3b28dd7",
   "metadata": {},
   "outputs": [],
   "source": [
    "x, y = frames, yvalues"
   ]
  },
  {
   "cell_type": "code",
   "execution_count": 185,
   "id": "0e2bcf2d-52df-4012-8192-9cd6021b9d96",
   "metadata": {},
   "outputs": [
    {
     "data": {
      "text/plain": [
       "(array([[ 1,  8, 16, 32]]), array([56.88, 90.45, 93.89, 94.9 ]))"
      ]
     },
     "execution_count": 185,
     "metadata": {},
     "output_type": "execute_result"
    }
   ],
   "source": [
    "np.reshape(x, (1, -1)), y"
   ]
  },
  {
   "cell_type": "code",
   "execution_count": 186,
   "id": "c3e9aec4-b105-4d16-92ab-dc9fda24d044",
   "metadata": {},
   "outputs": [
    {
     "data": {
      "text/plain": [
       "(array([ 1,  8, 16, 32]), array([56.88, 90.45, 93.89, 94.9 ]))"
      ]
     },
     "execution_count": 186,
     "metadata": {},
     "output_type": "execute_result"
    }
   ],
   "source": [
    "x, y"
   ]
  },
  {
   "cell_type": "code",
   "execution_count": 189,
   "id": "3661c7c6-74f1-4348-ab73-2ac637a2f757",
   "metadata": {},
   "outputs": [],
   "source": [
    "delta = 0.05\n",
    "\n",
    "Phi = np.ones((len(x), 2))\n",
    "Phi[:, 1] = np.log(x)\n",
    "\n",
    "thetas = np.dot(np.linalg.inv((np.matmul(Phi.T, Phi))), np.dot(Phi.T, y))\n",
    "\n",
    "stationary_point = delta / thetas[1]"
   ]
  },
  {
   "cell_type": "code",
   "execution_count": 204,
   "id": "e0afabaf-beac-415c-b349-abd698a7b3d5",
   "metadata": {},
   "outputs": [
    {
     "data": {
      "text/plain": [
       "[<matplotlib.lines.Line2D at 0x1580e7dc0>]"
      ]
     },
     "execution_count": 204,
     "metadata": {},
     "output_type": "execute_result"
    },
    {
     "data": {
      "image/png": "[encoded data removed]",
      "text/plain": [
       "<Figure size 432x288 with 1 Axes>"
      ]
     },
     "metadata": {
      "needs_background": "light"
     },
     "output_type": "display_data"
    }
   ],
   "source": [
    "plt.plot(x, y, \"o--\", color=\"b\")\n",
    "\n",
    "xdummy = np.arange(1, 40, 1)\n",
    "ydummy = [(thetas[0] + thetas[1] * np.log(x)) for x in xdummy]\n",
    "plt.plot(xdummy, ydummy, color=\"b\")"
   ]
  },
  {
   "cell_type": "code",
   "execution_count": 221,
   "id": "1f7de384-a78c-435a-b2a8-62a3382898e7",
   "metadata": {},
   "outputs": [
    {
     "data": {
      "text/plain": [
       "<matplotlib.legend.Legend at 0x1584352b0>"
      ]
     },
     "execution_count": 221,
     "metadata": {},
     "output_type": "execute_result"
    },
    {
     "data": {
      "image/png": "[encoded data removed]",
      "text/plain": [
       "<Figure size 432x360 with 1 Axes>"
      ]
     },
     "metadata": {
      "needs_background": "light"
     },
     "output_type": "display_data"
    }
   ],
   "source": [
    "grads = dict()\n",
    "\n",
    "fig, ax = plt.subplots(1, 1, figsize=(6, 5))\n",
    "\n",
    "for d in datasets:\n",
    "    x, y = frames, df[d].values\n",
    "    grads[d] = np.diff(y) / np.diff(x)\n",
    "    ax.plot(np.diff(x), grads[d], \"o-\", label=d)\n",
    "\n",
    "ax.legend(fontsize=14)"
   ]
  },
  {
   "cell_type": "code",
   "execution_count": 222,
   "id": "5595f673-5883-4d6a-a407-172e36cf576b",
   "metadata": {},
   "outputs": [
    {
     "data": {
      "text/plain": [
       "{'EPIC (V)': array([1.10428571, 0.52      , 0.465625  ]),\n",
       " 'K400': array([2.64    , 0.54375 , 0.030625]),\n",
       " 'UCF101': array([1.59714286, 0.295     , 0.026875  ]),\n",
       " 'Gym99': array([3.3    , 0.55   , 0.22875]),\n",
       " 'SSv2': array([3.17142857, 1.49875   , 0.510625  ]),\n",
       " 'NTU60': array([4.79571429, 0.43      , 0.063125  ])}"
      ]
     },
     "execution_count": 222,
     "metadata": {},
     "output_type": "execute_result"
    }
   ],
   "source": [
    "grads"
   ]
  },
  {
   "cell_type": "code",
   "execution_count": null,
   "id": "4a153cb7-da84-4a56-b4dc-1a618ab86b6d",
   "metadata": {},
   "outputs": [],
   "source": []
  },
  {
   "cell_type": "code",
   "execution_count": null,
   "id": "4f2fef99-dca2-444b-b448-89b03d88b008",
   "metadata": {},
   "outputs": [],
   "source": []
  },
  {
   "cell_type": "code",
   "execution_count": 219,
   "id": "28004e21-8f67-484a-8f18-1f155f1dd48f",
   "metadata": {},
   "outputs": [
    {
     "data": {
      "text/plain": [
       "array([ 7,  8, 16])"
      ]
     },
     "execution_count": 219,
     "metadata": {},
     "output_type": "execute_result"
    }
   ],
   "source": [
    "np.diff(x)"
   ]
  },
  {
   "cell_type": "code",
   "execution_count": 208,
   "id": "75c523d6-ca33-43b3-98f8-f77bc48eac55",
   "metadata": {},
   "outputs": [
    {
     "data": {
      "text/plain": [
       "array([4.79571429, 0.43      , 0.063125  ])"
      ]
     },
     "execution_count": 208,
     "metadata": {},
     "output_type": "execute_result"
    }
   ],
   "source": [
    "np.diff(y) / np.diff(x)"
   ]
  },
  {
   "cell_type": "code",
   "execution_count": 207,
   "id": "39b21e93-53f7-48eb-a2eb-8d637a9249bd",
   "metadata": {},
   "outputs": [
    {
     "data": {
      "text/plain": [
       "array([56.88, 90.45, 93.89, 94.9 ])"
      ]
     },
     "execution_count": 207,
     "metadata": {},
     "output_type": "execute_result"
    }
   ],
   "source": [
    "y"
   ]
  },
  {
   "cell_type": "code",
   "execution_count": 199,
   "id": "6986a4af-4873-43a5-bf95-65b0ddb09efe",
   "metadata": {},
   "outputs": [
    {
     "data": {
      "text/plain": [
       "array([1])"
      ]
     },
     "execution_count": 199,
     "metadata": {},
     "output_type": "execute_result"
    }
   ],
   "source": [
    "xdummy"
   ]
  },
  {
   "cell_type": "code",
   "execution_count": 198,
   "id": "1f653c80-e61c-4fb6-9918-8d6e281c6601",
   "metadata": {},
   "outputs": [
    {
     "data": {
      "text/plain": [
       "[59.8049999999999]"
      ]
     },
     "execution_count": 198,
     "metadata": {},
     "output_type": "execute_result"
    }
   ],
   "source": [
    "ydummy"
   ]
  },
  {
   "cell_type": "code",
   "execution_count": null,
   "id": "e21a6208-e4ce-4f93-b9ba-fd689c550df3",
   "metadata": {},
   "outputs": [],
   "source": []
  },
  {
   "cell_type": "code",
   "execution_count": 190,
   "id": "c83cddc2-6fc7-4d1a-931f-8f566af3d32f",
   "metadata": {},
   "outputs": [
    {
     "data": {
      "text/plain": [
       "(array([59.805     , 11.64976246]), 0.004291933006563125)"
      ]
     },
     "execution_count": 190,
     "metadata": {},
     "output_type": "execute_result"
    }
   ],
   "source": [
    "thetas, stationary_point"
   ]
  },
  {
   "cell_type": "code",
   "execution_count": 154,
   "id": "6700a678-0b41-4f59-bdcb-58349da6d79c",
   "metadata": {},
   "outputs": [],
   "source": [
    "deg = 2\n",
    "\n",
    "Phi = np.ones((len(x), deg + 1))\n",
    "for i in range(deg):\n",
    "    Phi[:, 1 + i] = np.reshape(np.power(x, i + 1), (1, -1))\n",
    "    \n",
    "thetas = np.dot(np.linalg.inv((np.matmul(Phi.T, Phi))), np.dot(Phi.T, y))"
   ]
  },
  {
   "cell_type": "code",
   "execution_count": 155,
   "id": "9043024f-afb0-4d56-9b63-ab7796fd1518",
   "metadata": {},
   "outputs": [
    {
     "data": {
      "text/plain": [
       "array([ 2.77085249e+01,  1.02666809e+00, -1.26945583e-02])"
      ]
     },
     "execution_count": 155,
     "metadata": {},
     "output_type": "execute_result"
    }
   ],
   "source": [
    "thetas"
   ]
  },
  {
   "cell_type": "code",
   "execution_count": 161,
   "id": "970a8661-a8d6-40d5-9d56-b4ea9e118eb4",
   "metadata": {},
   "outputs": [],
   "source": [
    "thetas = np.polyfit(yvalues, frames, deg=2)"
   ]
  },
  {
   "cell_type": "code",
   "execution_count": 164,
   "id": "3b8197d4-3565-4e9a-9bf0-e11fe78896b2",
   "metadata": {},
   "outputs": [
    {
     "data": {
      "text/plain": [
       "array([ 0.05309636, -2.41892082, 26.78682813])"
      ]
     },
     "execution_count": 164,
     "metadata": {},
     "output_type": "execute_result"
    }
   ],
   "source": [
    "thetas"
   ]
  },
  {
   "cell_type": "code",
   "execution_count": 165,
   "id": "e082d8a4-6632-4881-aeaf-572bdfe3852d",
   "metadata": {},
   "outputs": [
    {
     "data": {
      "text/plain": [
       "0.045151311009120336"
      ]
     },
     "execution_count": 165,
     "metadata": {},
     "output_type": "execute_result"
    }
   ],
   "source": [
    "-0.5 * (thetas[1] / thetas[-1])"
   ]
  },
  {
   "cell_type": "code",
   "execution_count": null,
   "id": "74c1d8f9-e9f3-4715-81d5-3688d5834978",
   "metadata": {},
   "outputs": [],
   "source": []
  },
  {
   "cell_type": "code",
   "execution_count": 143,
   "id": "b7029b58-f0b8-4590-a987-360e439e1361",
   "metadata": {},
   "outputs": [
    {
     "data": {
      "text/plain": [
       "array([[1.000e+00, 1.000e+00, 1.000e+00],\n",
       "       [1.000e+00, 8.000e+00, 6.400e+01],\n",
       "       [1.000e+00, 1.600e+01, 2.560e+02],\n",
       "       [1.000e+00, 3.200e+01, 1.024e+03]])"
      ]
     },
     "execution_count": 143,
     "metadata": {},
     "output_type": "execute_result"
    }
   ],
   "source": [
    "Phi"
   ]
  },
  {
   "cell_type": "code",
   "execution_count": null,
   "id": "a68a1dc2-5cbe-4e37-a365-89b8d6dc9049",
   "metadata": {},
   "outputs": [],
   "source": []
  },
  {
   "cell_type": "code",
   "execution_count": 140,
   "id": "43b6d78f-d84a-4f92-be99-464832c825b2",
   "metadata": {},
   "outputs": [
    {
     "data": {
      "text/plain": [
       "array([ 1,  8, 16, 32])"
      ]
     },
     "execution_count": 140,
     "metadata": {},
     "output_type": "execute_result"
    }
   ],
   "source": [
    "x"
   ]
  },
  {
   "cell_type": "code",
   "execution_count": null,
   "id": "0836eb24-72b1-428d-bd23-5a24b12fb460",
   "metadata": {},
   "outputs": [],
   "source": []
  },
  {
   "cell_type": "code",
   "execution_count": 128,
   "id": "0e85c06e-f130-4c02-b520-3bf4f281cfc9",
   "metadata": {},
   "outputs": [
    {
     "data": {
      "text/plain": [
       "array([-1.26945583e-02,  1.02666809e+00,  2.77085249e+01])"
      ]
     },
     "execution_count": 128,
     "metadata": {},
     "output_type": "execute_result"
    }
   ],
   "source": [
    "f(1)"
   ]
  },
  {
   "cell_type": "code",
   "execution_count": 116,
   "id": "69ffb5eb-1817-4ea6-ba87-9b6407bf8a11",
   "metadata": {},
   "outputs": [
    {
     "data": {
      "text/plain": [
       "-0.018526206798044467"
      ]
     },
     "execution_count": 116,
     "metadata": {},
     "output_type": "execute_result"
    }
   ],
   "source": [
    "stationary_point"
   ]
  },
  {
   "cell_type": "code",
   "execution_count": 110,
   "id": "1fb6980b-373d-4d4e-b229-6137d0b4a032",
   "metadata": {},
   "outputs": [
    {
     "data": {
      "text/plain": [
       "array([-0.093677  ,  4.19659965, 55.72734688])"
      ]
     },
     "execution_count": 110,
     "metadata": {},
     "output_type": "execute_result"
    }
   ],
   "source": [
    "thetas"
   ]
  },
  {
   "cell_type": "code",
   "execution_count": null,
   "id": "fbe62e36-d501-4089-9140-f02e30bdc9e0",
   "metadata": {},
   "outputs": [],
   "source": []
  },
  {
   "cell_type": "code",
   "execution_count": 97,
   "id": "4e159cc3-f3c5-46a8-914c-d01da0eba5c6",
   "metadata": {},
   "outputs": [
    {
     "data": {
      "text/plain": [
       "array([7.73, 4.16, 7.45])"
      ]
     },
     "execution_count": 97,
     "metadata": {},
     "output_type": "execute_result"
    }
   ],
   "source": [
    "yvalues[1:] - yvalues[:-1]"
   ]
  },
  {
   "cell_type": "code",
   "execution_count": 98,
   "id": "f07990c8-9343-40b6-a155-ae4ddd8dde9e",
   "metadata": {},
   "outputs": [
    {
     "data": {
      "text/plain": [
       "array([28.33, 36.06, 40.22, 47.67])"
      ]
     },
     "execution_count": 98,
     "metadata": {},
     "output_type": "execute_result"
    }
   ],
   "source": [
    "yvalues"
   ]
  },
  {
   "cell_type": "code",
   "execution_count": 92,
   "id": "3ea569c6-8b71-4e7a-9a33-66af2705e8e4",
   "metadata": {},
   "outputs": [
    {
     "data": {
      "text/plain": [
       "array([28.33, 36.06, 40.22])"
      ]
     },
     "execution_count": 92,
     "metadata": {},
     "output_type": "execute_result"
    }
   ],
   "source": [
    "yvalues[:-1]"
   ]
  },
  {
   "cell_type": "code",
   "execution_count": 88,
   "id": "e7109a12-2330-4f80-ada8-173ec44cc48d",
   "metadata": {},
   "outputs": [
    {
     "data": {
      "text/plain": [
       "0.459499893139567"
      ]
     },
     "execution_count": 88,
     "metadata": {},
     "output_type": "execute_result"
    }
   ],
   "source": [
    "100 * ((94.01 - 93.58) / 93.58)"
   ]
  },
  {
   "cell_type": "code",
   "execution_count": null,
   "id": "9ea58377-176b-419d-93c1-e71a648308a7",
   "metadata": {},
   "outputs": [],
   "source": []
  },
  {
   "cell_type": "code",
   "execution_count": 26,
   "id": "8c6078a6-b6ca-499b-92dc-88e4f30133f9",
   "metadata": {},
   "outputs": [
    {
     "data": {
      "text/plain": [
       "(array([ 1,  8, 16, 32]), array([80.04, 91.22, 93.58, 94.01]))"
      ]
     },
     "execution_count": 26,
     "metadata": {},
     "output_type": "execute_result"
    }
   ],
   "source": [
    "frames, yvalues"
   ]
  },
  {
   "cell_type": "code",
   "execution_count": 45,
   "id": "6ca9ab04-5635-4bfe-bcb8-2c7827c1068c",
   "metadata": {},
   "outputs": [
    {
     "data": {
      "text/plain": [
       "1.9812321428571427"
      ]
     },
     "execution_count": 45,
     "metadata": {},
     "output_type": "execute_result"
    }
   ],
   "source": [
    "np.gradient(yvalues, frames).mean()"
   ]
  },
  {
   "cell_type": "code",
   "execution_count": null,
   "id": "f69858a5-d742-4f4c-aecb-7880c048d011",
   "metadata": {},
   "outputs": [],
   "source": []
  },
  {
   "cell_type": "code",
   "execution_count": 28,
   "id": "e35b7e12-ef95-41ee-8478-3c97cddd626d",
   "metadata": {},
   "outputs": [],
   "source": [
    "# metric 1: mean of fractional change"
   ]
  },
  {
   "cell_type": "code",
   "execution_count": 33,
   "id": "6e7e237d-b0e2-47c9-a311-0878d55db94c",
   "metadata": {},
   "outputs": [
    {
     "data": {
      "text/plain": [
       "1.0567155594183584"
      ]
     },
     "execution_count": 33,
     "metadata": {},
     "output_type": "execute_result"
    }
   ],
   "source": []
  },
  {
   "cell_type": "code",
   "execution_count": 32,
   "id": "76d9fa3d-92b1-4bbe-b315-ee09f21abd32",
   "metadata": {},
   "outputs": [
    {
     "data": {
      "text/plain": [
       "1.0045949989313956"
      ]
     },
     "execution_count": 32,
     "metadata": {},
     "output_type": "execute_result"
    }
   ],
   "source": [
    "94.01 / 93.58"
   ]
  },
  {
   "cell_type": "code",
   "execution_count": null,
   "id": "110250b7-dd2e-4af7-a7a5-2088b88ad685",
   "metadata": {},
   "outputs": [],
   "source": [
    "mfc = "
   ]
  },
  {
   "cell_type": "code",
   "execution_count": null,
   "id": "6f83f25b-4f44-46a6-818a-d6cddedecbf4",
   "metadata": {},
   "outputs": [],
   "source": []
  },
  {
   "cell_type": "code",
   "execution_count": 27,
   "id": "e6c02121-ac46-4bbe-99e2-0d786fa76234",
   "metadata": {},
   "outputs": [
    {
     "data": {
      "text/html": [
       "<div>\n",
       "<style scoped>\n",
       "    .dataframe tbody tr th:only-of-type {\n",
       "        vertical-align: middle;\n",
       "    }\n",
       "\n",
       "    .dataframe tbody tr th {\n",
       "        vertical-align: top;\n",
       "    }\n",
       "\n",
       "    .dataframe thead th {\n",
       "        text-align: right;\n",
       "    }\n",
       "</style>\n",
       "<table border=\"1\" class=\"dataframe\">\n",
       "  <thead>\n",
       "    <tr style=\"text-align: right;\">\n",
       "      <th></th>\n",
       "      <th>Frames</th>\n",
       "      <th>UCF101</th>\n",
       "      <th>SSv2</th>\n",
       "      <th>Gym99</th>\n",
       "      <th>NTU60</th>\n",
       "      <th>EPIC (V)</th>\n",
       "      <th>K400</th>\n",
       "    </tr>\n",
       "  </thead>\n",
       "  <tbody>\n",
       "    <tr>\n",
       "      <th>0</th>\n",
       "      <td>NaN</td>\n",
       "      <td>79.040000</td>\n",
       "      <td>-0.766492</td>\n",
       "      <td>2.242911</td>\n",
       "      <td>-0.061541</td>\n",
       "      <td>-0.501934</td>\n",
       "      <td>0.340981</td>\n",
       "    </tr>\n",
       "    <tr>\n",
       "      <th>1</th>\n",
       "      <td>NaN</td>\n",
       "      <td>10.402500</td>\n",
       "      <td>-0.551743</td>\n",
       "      <td>1.047200</td>\n",
       "      <td>0.080516</td>\n",
       "      <td>-0.601327</td>\n",
       "      <td>0.566001</td>\n",
       "    </tr>\n",
       "    <tr>\n",
       "      <th>2</th>\n",
       "      <td>NaN</td>\n",
       "      <td>4.848750</td>\n",
       "      <td>-0.434922</td>\n",
       "      <td>0.666225</td>\n",
       "      <td>0.065600</td>\n",
       "      <td>-0.571626</td>\n",
       "      <td>0.512183</td>\n",
       "    </tr>\n",
       "    <tr>\n",
       "      <th>3</th>\n",
       "      <td>NaN</td>\n",
       "      <td>1.937813</td>\n",
       "      <td>-0.350601</td>\n",
       "      <td>0.503194</td>\n",
       "      <td>0.034107</td>\n",
       "      <td>-0.497682</td>\n",
       "      <td>0.286134</td>\n",
       "    </tr>\n",
       "  </tbody>\n",
       "</table>\n",
       "</div>"
      ],
      "text/plain": [
       "   Frames     UCF101      SSv2     Gym99     NTU60  EPIC (V)      K400\n",
       "0     NaN  79.040000 -0.766492  2.242911 -0.061541 -0.501934  0.340981\n",
       "1     NaN  10.402500 -0.551743  1.047200  0.080516 -0.601327  0.566001\n",
       "2     NaN   4.848750 -0.434922  0.666225  0.065600 -0.571626  0.512183\n",
       "3     NaN   1.937813 -0.350601  0.503194  0.034107 -0.497682  0.286134"
      ]
     },
     "execution_count": 27,
     "metadata": {},
     "output_type": "execute_result"
    }
   ],
   "source": [
    "df.rolling(1,axis=1).sum().pct_change(axis=1)"
   ]
  },
  {
   "cell_type": "code",
   "execution_count": null,
   "id": "ceecfd87-b0fd-4bb5-9814-ad5e19c9d04b",
   "metadata": {},
   "outputs": [],
   "source": []
  },
  {
   "cell_type": "code",
   "execution_count": null,
   "id": "007614a2-c175-4ee2-8cee-2ff13b96d4f4",
   "metadata": {},
   "outputs": [],
   "source": []
  },
  {
   "cell_type": "code",
   "execution_count": null,
   "id": "7b0fe1fd-4f94-4fd8-8eb7-10a62936d090",
   "metadata": {},
   "outputs": [],
   "source": []
  },
  {
   "cell_type": "markdown",
   "id": "9eeb4f98-26b2-46d3-8928-d4b5c73a01f3",
   "metadata": {
    "tags": []
   },
   "source": [
    "### Additional plots"
   ]
  },
  {
   "cell_type": "code",
   "execution_count": 18,
   "id": "defa97a5-dfb1-46a8-80db-a51469929840",
   "metadata": {},
   "outputs": [],
   "source": [
    "delta_df = df.copy()\n",
    "for d in set(df.columns) - {\"Frames\"}:\n",
    "    delta_df[d] = df[d] - df.loc[0, d]"
   ]
  },
  {
   "cell_type": "code",
   "execution_count": 19,
   "id": "8fa7cbc0-7066-4cc1-9b4d-ad004527e045",
   "metadata": {},
   "outputs": [
    {
     "data": {
      "text/html": [
       "<div>\n",
       "<style scoped>\n",
       "    .dataframe tbody tr th:only-of-type {\n",
       "        vertical-align: middle;\n",
       "    }\n",
       "\n",
       "    .dataframe tbody tr th {\n",
       "        vertical-align: top;\n",
       "    }\n",
       "\n",
       "    .dataframe thead th {\n",
       "        text-align: right;\n",
       "    }\n",
       "</style>\n",
       "<table border=\"1\" class=\"dataframe\">\n",
       "  <thead>\n",
       "    <tr style=\"text-align: right;\">\n",
       "      <th></th>\n",
       "      <th>Frames</th>\n",
       "      <th>UCF101</th>\n",
       "      <th>SSv2</th>\n",
       "      <th>Gym99</th>\n",
       "      <th>NTU60</th>\n",
       "      <th>EPIC (V)</th>\n",
       "      <th>K400</th>\n",
       "    </tr>\n",
       "  </thead>\n",
       "  <tbody>\n",
       "    <tr>\n",
       "      <th>0</th>\n",
       "      <td>1</td>\n",
       "      <td>0.00</td>\n",
       "      <td>0.00</td>\n",
       "      <td>0.00</td>\n",
       "      <td>0.00</td>\n",
       "      <td>0.00</td>\n",
       "      <td>0.00</td>\n",
       "    </tr>\n",
       "    <tr>\n",
       "      <th>1</th>\n",
       "      <td>8</td>\n",
       "      <td>11.18</td>\n",
       "      <td>22.20</td>\n",
       "      <td>23.10</td>\n",
       "      <td>33.57</td>\n",
       "      <td>7.73</td>\n",
       "      <td>18.48</td>\n",
       "    </tr>\n",
       "    <tr>\n",
       "      <th>2</th>\n",
       "      <td>16</td>\n",
       "      <td>13.54</td>\n",
       "      <td>34.19</td>\n",
       "      <td>27.50</td>\n",
       "      <td>37.01</td>\n",
       "      <td>11.89</td>\n",
       "      <td>22.83</td>\n",
       "    </tr>\n",
       "    <tr>\n",
       "      <th>3</th>\n",
       "      <td>32</td>\n",
       "      <td>13.97</td>\n",
       "      <td>42.36</td>\n",
       "      <td>31.16</td>\n",
       "      <td>38.02</td>\n",
       "      <td>19.34</td>\n",
       "      <td>23.32</td>\n",
       "    </tr>\n",
       "  </tbody>\n",
       "</table>\n",
       "</div>"
      ],
      "text/plain": [
       "   Frames  UCF101   SSv2  Gym99  NTU60  EPIC (V)   K400\n",
       "0       1    0.00   0.00   0.00   0.00      0.00   0.00\n",
       "1       8   11.18  22.20  23.10  33.57      7.73  18.48\n",
       "2      16   13.54  34.19  27.50  37.01     11.89  22.83\n",
       "3      32   13.97  42.36  31.16  38.02     19.34  23.32"
      ]
     },
     "execution_count": 19,
     "metadata": {},
     "output_type": "execute_result"
    }
   ],
   "source": [
    "delta_df"
   ]
  },
  {
   "cell_type": "code",
   "execution_count": 20,
   "id": "1c35a19d-2b30-406a-a87c-36ed5b4c8075",
   "metadata": {},
   "outputs": [
    {
     "data": {
      "image/png": "[encoded data removed]",
      "text/plain": [
       "<Figure size 936x720 with 1 Axes>"
      ]
     },
     "metadata": {
      "needs_background": "light"
     },
     "output_type": "display_data"
    }
   ],
   "source": [
    "H, W = 10, 13\n",
    "\n",
    "fig, ax = plt.subplots(figsize=(W, H))\n",
    "\n",
    "for d in df.columns:\n",
    "    if d == \"Frames\":\n",
    "        continue\n",
    "    ax.plot(delta_df[\"Frames\"], delta_df[d], label=d, marker=\"o\", markersize=10, linewidth=2.0)\n",
    "    \n",
    "ax.set_title(r\"Action recognition with varying number of frames\")\n",
    "ax.set_xlabel(\"Frames\")\n",
    "ax.set_ylabel(\"($m_{n} - m_{1})$: $m_n$ is performance with $n$ frames\")\n",
    "ax.set_xticks(ticks=[1, 8, 16, 32])\n",
    "configure_ax(ax=ax, H=H, W=W)\n",
    "\n",
    "plt.savefig(\"../../results/plots/action_temporality_v2.pdf\", bbox_inches=\"tight\")\n",
    "plt.show()"
   ]
  },
  {
   "cell_type": "code",
   "execution_count": 21,
   "id": "8b11efca-fb15-4070-8b34-f3c09697eb9a",
   "metadata": {},
   "outputs": [
    {
     "data": {
      "image/png": "[encoded data removed]",
      "text/plain": [
       "<Figure size 936x720 with 1 Axes>"
      ]
     },
     "metadata": {
      "needs_background": "light"
     },
     "output_type": "display_data"
    }
   ],
   "source": [
    "H, W = 10, 13\n",
    "\n",
    "fig, ax = plt.subplots(figsize=(W, H))\n",
    "\n",
    "for d in df.columns:\n",
    "    if d == \"Frames\":\n",
    "        continue\n",
    "    ax.plot(df[\"Frames\"], df[d], label=d, marker=\"o\", markersize=10, linewidth=2.0)\n",
    "    \n",
    "ax.set_title(r\"Action recognition with varying number of frames\")\n",
    "ax.set_xlabel(\"Frames\")\n",
    "ax.set_ylabel(\"Top-1\")\n",
    "ax.set_xticks(ticks=[1, 8, 16, 32])\n",
    "configure_ax(ax=ax, H=H, W=W)\n",
    "\n",
    "plt.savefig(\"../../results/plots/action_temporality_v3.pdf\", bbox_inches=\"tight\")\n",
    "plt.show()"
   ]
  },
  {
   "cell_type": "markdown",
   "id": "27868b74-228b-4e6d-a208-504df8fea949",
   "metadata": {
    "jp-MarkdownHeadingCollapsed": true,
    "tags": []
   },
   "source": [
    "### Junk"
   ]
  },
  {
   "cell_type": "code",
   "execution_count": 82,
   "id": "c770f0b4-bec3-4792-9b19-7b85ba1973b9",
   "metadata": {},
   "outputs": [],
   "source": [
    "diff_df = df.set_index(\"Frames\")\n",
    "diff_df = diff_df.diff(periods=1)\n",
    "diff_df = diff_df.fillna(0)"
   ]
  },
  {
   "cell_type": "code",
   "execution_count": 83,
   "id": "6264627b-38b1-4f82-a864-1f89f08e14a5",
   "metadata": {},
   "outputs": [
    {
     "data": {
      "text/html": [
       "<div>\n",
       "<style scoped>\n",
       "    .dataframe tbody tr th:only-of-type {\n",
       "        vertical-align: middle;\n",
       "    }\n",
       "\n",
       "    .dataframe tbody tr th {\n",
       "        vertical-align: top;\n",
       "    }\n",
       "\n",
       "    .dataframe thead th {\n",
       "        text-align: right;\n",
       "    }\n",
       "</style>\n",
       "<table border=\"1\" class=\"dataframe\">\n",
       "  <thead>\n",
       "    <tr style=\"text-align: right;\">\n",
       "      <th></th>\n",
       "      <th>UCF</th>\n",
       "      <th>SS</th>\n",
       "      <th>Gym99</th>\n",
       "      <th>NTU</th>\n",
       "      <th>EPIC (verbs)</th>\n",
       "      <th>Kinetics</th>\n",
       "    </tr>\n",
       "    <tr>\n",
       "      <th>Frames</th>\n",
       "      <th></th>\n",
       "      <th></th>\n",
       "      <th></th>\n",
       "      <th></th>\n",
       "      <th></th>\n",
       "      <th></th>\n",
       "    </tr>\n",
       "  </thead>\n",
       "  <tbody>\n",
       "    <tr>\n",
       "      <th>1</th>\n",
       "      <td>0.00</td>\n",
       "      <td>0.00</td>\n",
       "      <td>0.00</td>\n",
       "      <td>0.00</td>\n",
       "      <td>0.00</td>\n",
       "      <td>0.0</td>\n",
       "    </tr>\n",
       "    <tr>\n",
       "      <th>8</th>\n",
       "      <td>11.18</td>\n",
       "      <td>22.20</td>\n",
       "      <td>23.10</td>\n",
       "      <td>33.57</td>\n",
       "      <td>7.73</td>\n",
       "      <td>0.0</td>\n",
       "    </tr>\n",
       "    <tr>\n",
       "      <th>16</th>\n",
       "      <td>2.36</td>\n",
       "      <td>11.99</td>\n",
       "      <td>4.40</td>\n",
       "      <td>3.44</td>\n",
       "      <td>4.16</td>\n",
       "      <td>0.0</td>\n",
       "    </tr>\n",
       "    <tr>\n",
       "      <th>32</th>\n",
       "      <td>0.43</td>\n",
       "      <td>8.17</td>\n",
       "      <td>3.66</td>\n",
       "      <td>1.01</td>\n",
       "      <td>7.45</td>\n",
       "      <td>0.0</td>\n",
       "    </tr>\n",
       "  </tbody>\n",
       "</table>\n",
       "</div>"
      ],
      "text/plain": [
       "          UCF     SS  Gym99    NTU  EPIC (verbs)  Kinetics\n",
       "Frames                                                    \n",
       "1        0.00   0.00   0.00   0.00          0.00       0.0\n",
       "8       11.18  22.20  23.10  33.57          7.73       0.0\n",
       "16       2.36  11.99   4.40   3.44          4.16       0.0\n",
       "32       0.43   8.17   3.66   1.01          7.45       0.0"
      ]
     },
     "execution_count": 83,
     "metadata": {},
     "output_type": "execute_result"
    }
   ],
   "source": [
    "diff_df"
   ]
  },
  {
   "cell_type": "code",
   "execution_count": 68,
   "id": "1dd47d67-733a-439c-8841-3fd5122f182b",
   "metadata": {},
   "outputs": [
    {
     "data": {
      "text/plain": [
       "array([-3.26733671e-02,  1.49562463e+00,  7.93862688e+01])"
      ]
     },
     "execution_count": 68,
     "metadata": {},
     "output_type": "execute_result"
    }
   ],
   "source": [
    "np.polyfit(x=df[\"Frames\"].values, y=df[\"UCF\"].values, deg=2)"
   ]
  },
  {
   "cell_type": "code",
   "execution_count": 64,
   "id": "231b2a85-b4e6-4da5-bc55-10aff2faa483",
   "metadata": {},
   "outputs": [
    {
     "data": {
      "text/plain": [
       "array([-0.06116741,  3.35406287, 16.14964724])"
      ]
     },
     "execution_count": 64,
     "metadata": {},
     "output_type": "execute_result"
    }
   ],
   "source": [
    "np.polyfit(x=df[\"Frames\"].values, y=df[\"SS\"].values, deg=2)"
   ]
  },
  {
   "cell_type": "code",
   "execution_count": 65,
   "id": "5a095ad8-ea78-4bb3-86bd-33ff3303d6a7",
   "metadata": {},
   "outputs": [
    {
     "data": {
      "text/plain": [
       "array([-0.06169646,  2.96645485, 59.52345328])"
      ]
     },
     "execution_count": 65,
     "metadata": {},
     "output_type": "execute_result"
    }
   ],
   "source": [
    "np.polyfit(x=df[\"Frames\"].values, y=df[\"Gym99\"].values, deg=2)"
   ]
  },
  {
   "cell_type": "code",
   "execution_count": 66,
   "id": "a7bc007f-6d87-4e4f-a747-68f4a1d13217",
   "metadata": {},
   "outputs": [
    {
     "data": {
      "text/plain": [
       "array([-1.26945583e-02,  1.02666809e+00,  2.77085249e+01])"
      ]
     },
     "execution_count": 66,
     "metadata": {},
     "output_type": "execute_result"
    }
   ],
   "source": [
    "np.polyfit(x=df[\"Frames\"].values, y=df[\"EPIC (verbs)\"].values, deg=2)"
   ]
  },
  {
   "cell_type": "code",
   "execution_count": null,
   "id": "c431032b-e633-4b56-8b22-56fed30b6c65",
   "metadata": {},
   "outputs": [],
   "source": []
  }
 ],
 "metadata": {
  "kernelspec": {
   "display_name": "Python 3 (ipykernel)",
   "language": "python",
   "name": "python3"
  },
  "language_info": {
   "codemirror_mode": {
    "name": "ipython",
    "version": 3
   },
   "file_extension": ".py",
   "mimetype": "text/x-python",
   "name": "python",
   "nbconvert_exporter": "python",
   "pygments_lexer": "ipython3",
   "version": "3.9.7"
  }
 },
 "nbformat": 4,
 "nbformat_minor": 5
}
