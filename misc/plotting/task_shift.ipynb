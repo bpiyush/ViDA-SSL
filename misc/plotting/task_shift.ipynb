{
 "cells": [
  {
   "cell_type": "code",
   "execution_count": 1,
   "id": "f1a4b74f-4b8c-422e-956d-12a4ed9fb059",
   "metadata": {},
   "outputs": [],
   "source": [
    "%load_ext autoreload\n",
    "%autoreload 2"
   ]
  },
  {
   "cell_type": "code",
   "execution_count": 18,
   "id": "5db51b5c-72d3-4616-b5b7-ccdb75f373c6",
   "metadata": {},
   "outputs": [],
   "source": [
    "from os.path import join, abspath\n",
    "import numpy as np\n",
    "import pandas as pd\n",
    "import matplotlib.patches as mpatches\n",
    "import matplotlib.pyplot as plt\n",
    "import seaborn as sns\n",
    "\n",
    "from scipy import stats"
   ]
  },
  {
   "cell_type": "code",
   "execution_count": 20,
   "id": "0cc3abf4-1fac-464a-9e49-2706ab5b6add",
   "metadata": {},
   "outputs": [],
   "source": [
    "import sys\n",
    "sys.path.insert(0, abspath(\"../../\"))\n",
    "\n",
    "from utils_local import colors_v1"
   ]
  },
  {
   "cell_type": "code",
   "execution_count": 3,
   "id": "8c9d2954-7432-4f38-b82f-76296df339ad",
   "metadata": {},
   "outputs": [],
   "source": [
    "plt.rcParams.update({\n",
    "    \"text.usetex\": True,\n",
    "    \"font.family\": \"serif\",\n",
    "    \"font.serif\": [\"Computer Modern Roman\"],\n",
    "})"
   ]
  },
  {
   "cell_type": "code",
   "execution_count": 4,
   "id": "6f7e5809-6126-419d-9007-2a0558b32fe8",
   "metadata": {},
   "outputs": [],
   "source": [
    "csv_path = \"../../results/task_shift-26122021.csv\""
   ]
  },
  {
   "cell_type": "code",
   "execution_count": 5,
   "id": "17731db0-3d7d-4e95-be05-a54019908fd7",
   "metadata": {},
   "outputs": [],
   "source": [
    "df = pd.read_csv(csv_path)"
   ]
  },
  {
   "cell_type": "code",
   "execution_count": 6,
   "id": "6145918c-138b-419a-8a15-121fc421be65",
   "metadata": {},
   "outputs": [
    {
     "data": {
      "text/html": [
       "<div>\n",
       "<style scoped>\n",
       "    .dataframe tbody tr th:only-of-type {\n",
       "        vertical-align: middle;\n",
       "    }\n",
       "\n",
       "    .dataframe tbody tr th {\n",
       "        vertical-align: top;\n",
       "    }\n",
       "\n",
       "    .dataframe thead th {\n",
       "        text-align: right;\n",
       "    }\n",
       "</style>\n",
       "<table border=\"1\" class=\"dataframe\">\n",
       "  <thead>\n",
       "    <tr style=\"text-align: right;\">\n",
       "      <th></th>\n",
       "      <th>Method</th>\n",
       "      <th>Action recognition (Top-1)</th>\n",
       "      <th>Spatio-temporal (IoU@0.5)</th>\n",
       "      <th>Repetition (MAE)</th>\n",
       "      <th>AoT (Top-1)</th>\n",
       "    </tr>\n",
       "  </thead>\n",
       "  <tbody>\n",
       "    <tr>\n",
       "      <th>0</th>\n",
       "      <td>No pretraining</td>\n",
       "      <td>75.36</td>\n",
       "      <td>0.3273</td>\n",
       "      <td>0.2320</td>\n",
       "      <td>78.21</td>\n",
       "    </tr>\n",
       "    <tr>\n",
       "      <th>1</th>\n",
       "      <td>RSPNET</td>\n",
       "      <td>84.88</td>\n",
       "      <td>0.4401</td>\n",
       "      <td>0.1600</td>\n",
       "      <td>79.52</td>\n",
       "    </tr>\n",
       "    <tr>\n",
       "      <th>2</th>\n",
       "      <td>Video Moco</td>\n",
       "      <td>85.59</td>\n",
       "      <td>0.4374</td>\n",
       "      <td>0.1759</td>\n",
       "      <td>94.12</td>\n",
       "    </tr>\n",
       "    <tr>\n",
       "      <th>3</th>\n",
       "      <td>Pretext-Contrast</td>\n",
       "      <td>85.83</td>\n",
       "      <td>0.4619</td>\n",
       "      <td>0.1685</td>\n",
       "      <td>95.78</td>\n",
       "    </tr>\n",
       "    <tr>\n",
       "      <th>4</th>\n",
       "      <td>Selavi</td>\n",
       "      <td>86.60</td>\n",
       "      <td>0.4192</td>\n",
       "      <td>0.1512</td>\n",
       "      <td>94.83</td>\n",
       "    </tr>\n",
       "    <tr>\n",
       "      <th>5</th>\n",
       "      <td>TCLR</td>\n",
       "      <td>89.77</td>\n",
       "      <td>0.4764</td>\n",
       "      <td>0.1493</td>\n",
       "      <td>97.12</td>\n",
       "    </tr>\n",
       "    <tr>\n",
       "      <th>6</th>\n",
       "      <td>CTP</td>\n",
       "      <td>90.77</td>\n",
       "      <td>0.4646</td>\n",
       "      <td>0.1783</td>\n",
       "      <td>95.69</td>\n",
       "    </tr>\n",
       "    <tr>\n",
       "      <th>7</th>\n",
       "      <td>GDT</td>\n",
       "      <td>91.14</td>\n",
       "      <td>0.4629</td>\n",
       "      <td>0.1367</td>\n",
       "      <td>95.52</td>\n",
       "    </tr>\n",
       "    <tr>\n",
       "      <th>8</th>\n",
       "      <td>Supervised pretraining</td>\n",
       "      <td>94.08</td>\n",
       "      <td>0.4825</td>\n",
       "      <td>0.1366</td>\n",
       "      <td>95.71</td>\n",
       "    </tr>\n",
       "  </tbody>\n",
       "</table>\n",
       "</div>"
      ],
      "text/plain": [
       "                    Method  Action recognition (Top-1)  \\\n",
       "0          No pretraining                        75.36   \n",
       "1                   RSPNET                       84.88   \n",
       "2               Video Moco                       85.59   \n",
       "3         Pretext-Contrast                       85.83   \n",
       "4                   Selavi                       86.60   \n",
       "5                     TCLR                       89.77   \n",
       "6                      CTP                       90.77   \n",
       "7                      GDT                       91.14   \n",
       "8  Supervised pretraining                        94.08   \n",
       "\n",
       "   Spatio-temporal (IoU@0.5)  Repetition (MAE)  AoT (Top-1)  \n",
       "0                     0.3273            0.2320        78.21  \n",
       "1                     0.4401            0.1600        79.52  \n",
       "2                     0.4374            0.1759        94.12  \n",
       "3                     0.4619            0.1685        95.78  \n",
       "4                     0.4192            0.1512        94.83  \n",
       "5                     0.4764            0.1493        97.12  \n",
       "6                     0.4646            0.1783        95.69  \n",
       "7                     0.4629            0.1367        95.52  \n",
       "8                     0.4825            0.1366        95.71  "
      ]
     },
     "execution_count": 6,
     "metadata": {},
     "output_type": "execute_result"
    }
   ],
   "source": [
    "df"
   ]
  },
  {
   "cell_type": "code",
   "execution_count": 7,
   "id": "1e1d0dcc-207b-42b7-ab56-d9794b032a07",
   "metadata": {},
   "outputs": [],
   "source": [
    "df.loc[8, \"Method\"] = \"Supervised\""
   ]
  },
  {
   "cell_type": "code",
   "execution_count": 8,
   "id": "9e667077-2a27-481f-92e3-bcbdbd0586ed",
   "metadata": {},
   "outputs": [],
   "source": [
    "methods = df[\"Method\"].values\n",
    "tasks = set(df.columns) - {\"Method\"}\n",
    "\n",
    "flat_df = []\n",
    "for i, m in enumerate(methods):\n",
    "    for t in tasks:\n",
    "        flat_df.append([m, t, df.loc[i, t]])\n",
    "\n",
    "flat_df = pd.DataFrame(flat_df, columns=[\"Method\", \"Task\", \"Metric\"])"
   ]
  },
  {
   "cell_type": "code",
   "execution_count": 9,
   "id": "61e74695-009b-4832-ab59-56cd38624e17",
   "metadata": {},
   "outputs": [
    {
     "data": {
      "image/png": "[encoded data removed]",
      "text/plain": [
       "<Figure size 1152x288 with 4 Axes>"
      ]
     },
     "metadata": {
      "needs_background": "light"
     },
     "output_type": "display_data"
    }
   ],
   "source": [
    "g = sns.FacetGrid(flat_df, col=\"Task\", height=4)\n",
    "g.map(sns.barplot, \"Method\", \"Metric\", order=methods)\n",
    "plt.show()"
   ]
  },
  {
   "cell_type": "code",
   "execution_count": 10,
   "id": "4e72e267-1b3f-4e17-bdb8-936d4cc41ab0",
   "metadata": {},
   "outputs": [],
   "source": [
    "rank_df = df.copy()\n",
    "for t in tasks:\n",
    "    if \"MAE\" not in t:\n",
    "        rank_df[t] = df[t].argsort()\n",
    "    else:\n",
    "        rank_df[t] = (-1 * df[t]).argsort()"
   ]
  },
  {
   "cell_type": "code",
   "execution_count": 11,
   "id": "385ceea0-09bb-4813-9cf0-f552e6f68a6f",
   "metadata": {},
   "outputs": [],
   "source": [
    "rank_corr = dict()\n",
    "\n",
    "for t in tasks:\n",
    "    rank_corr[f\"AR-{t}\"] = stats.spearmanr(rank_df[\"Action recognition (Top-1)\"], rank_df[t]).correlation"
   ]
  },
  {
   "cell_type": "code",
   "execution_count": 12,
   "id": "3b213b7d-0817-47b3-a513-0e732f9fbee5",
   "metadata": {},
   "outputs": [
    {
     "data": {
      "text/plain": [
       "{'AR-Spatio-temporal (IoU@0.5)': 0.8166666666666667,\n",
       " 'AR-Action recognition (Top-1)': 1.0,\n",
       " 'AR-Repetition (MAE)': 0.7,\n",
       " 'AR-AoT (Top-1)': 0.6666666666666667}"
      ]
     },
     "execution_count": 12,
     "metadata": {},
     "output_type": "execute_result"
    }
   ],
   "source": [
    "rank_corr"
   ]
  },
  {
   "cell_type": "code",
   "execution_count": 24,
   "id": "c6d86011-dc58-4db5-a36f-aa6e6b07963a",
   "metadata": {},
   "outputs": [
    {
     "data": {
      "image/png": "[encoded data removed]",
      "text/plain": [
       "<Figure size 1440x360 with 4 Axes>"
      ]
     },
     "metadata": {
      "needs_background": "light"
     },
     "output_type": "display_data"
    }
   ],
   "source": [
    "titlesize = 20\n",
    "labelsize = 18\n",
    "\n",
    "fig, axes = plt.subplots(1, len(tasks), figsize=(20, 5))\n",
    "\n",
    "for i, t in enumerate(tasks):\n",
    "    ax = axes[i]\n",
    "    corr = rank_corr[f'AR-{t}']\n",
    "    \n",
    "    title, metric = t.split(\" (\")\n",
    "    metric = metric.split(\")\")[0]\n",
    "    ax.set_title(title + r\" ($ \\rho_{A} $\" + f\": {corr:.3f})\", fontsize=titlesize)\n",
    "    ax.grid()\n",
    "    \n",
    "    subdf = flat_df[flat_df[\"Task\"] == t]\n",
    "    label = None\n",
    "    sns.barplot(data=subdf, x=\"Method\", y=\"Metric\", ax=ax, palette=colors_v1, label=label)\n",
    "    \n",
    "    ax.set_ylabel(metric)\n",
    "    ax.tick_params(axis='x', rotation=90, labelsize=14)\n",
    "    ax.tick_params(axis='y', labelsize=14)\n",
    "    \n",
    "    if i == len(tasks) - 1:\n",
    "        labels = [x.get_text() for x in ax.get_xticklabels()]\n",
    "        colors = [x.get_facecolor() for x in ax.get_children() if isinstance(x, plt.Rectangle)]\n",
    "        patches = [mpatches.Patch(color=colors[i], label=labels[i]) for i in range(len(labels))]\n",
    "        ax.legend(handles=patches, ncol=len(patches), bbox_to_anchor=(1.0,-0.05), fontsize=14)\n",
    "\n",
    "    # ax.legend(loc=\"upper right\")\n",
    "    ax.set_xticks([])\n",
    "    ax.set_xlabel(ax.get_xlabel(), fontsize=14)\n",
    "    ax.set_ylabel(ax.get_ylabel(), fontsize=14)\n",
    "\n",
    "plt.savefig(\"../../results/plots/task-shift-1.pdf\", bbox_inches=\"tight\")\n",
    "plt.show()"
   ]
  },
  {
   "cell_type": "markdown",
   "id": "d0e20879-eb88-4753-a990-209e78ca5a25",
   "metadata": {},
   "source": [
    "## Junk"
   ]
  },
  {
   "cell_type": "code",
   "execution_count": 48,
   "id": "761b57fb-8eac-436c-87ec-9a921730660c",
   "metadata": {},
   "outputs": [],
   "source": [
    "def heatmap(\n",
    "        df,\n",
    "        figsize=(7, 6),\n",
    "        title=\"Action classification\",\n",
    "        titlesize=20,\n",
    "        labelsize=15,\n",
    "        tickssize=13,\n",
    "        save=False,\n",
    "        save_path=\"../../results/plots/sample.pdf\",\n",
    "        **kwargs,\n",
    "    ):\n",
    "    fig, ax = plt.subplots(1, 1, figsize=figsize)\n",
    "    \n",
    "    if \"cmap\" not in kwargs:\n",
    "        kwargs.update(dict(cmap=\"YlGnBu\"))\n",
    "    sns.heatmap(df, ax=ax, **kwargs)\n",
    "\n",
    "    ax.set_title(title, fontsize=titlesize)\n",
    "\n",
    "    ax.set_xlabel(\"Dataset\")\n",
    "    ax.set_ylabel(\"Method\")\n",
    "    \n",
    "    ax.yaxis.label.set_size(labelsize)\n",
    "    ax.xaxis.label.set_size(labelsize)\n",
    "\n",
    "    ax.tick_params(axis='x', labelsize=tickssize)\n",
    "    ax.tick_params(axis='y', labelsize=tickssize)\n",
    "    \n",
    "    if save:\n",
    "        plt.savefig(save_path, bbox_inches=\"tight\")\n",
    "\n",
    "    plt.show()"
   ]
  },
  {
   "cell_type": "code",
   "execution_count": 56,
   "id": "d41fb2ab-3282-4435-aaac-9ad49cbba97d",
   "metadata": {},
   "outputs": [
    {
     "data": {
      "image/png": "[encoded data removed]",
      "text/plain": [
       "<Figure size 504x432 with 2 Axes>"
      ]
     },
     "metadata": {
      "needs_background": "light"
     },
     "output_type": "display_data"
    }
   ],
   "source": [
    "norm_df = df.set_index(\"Method\")\n",
    "norm_df = (norm_df - norm_df.min()) / (norm_df.max() - norm_df.min())\n",
    "\n",
    "heatmap(norm_df, title=\"Transfer across tasks\")"
   ]
  },
  {
   "cell_type": "code",
   "execution_count": 59,
   "id": "0eb2901c-2f44-4e6c-b5e3-9bfb1e762f38",
   "metadata": {},
   "outputs": [
    {
     "data": {
      "text/plain": [
       "array([0.        , 0.50854701, 0.54647436, 0.55929487, 0.60042735,\n",
       "       0.76976496, 0.82318376, 0.84294872, 1.        ])"
      ]
     },
     "execution_count": 59,
     "metadata": {},
     "output_type": "execute_result"
    }
   ],
   "source": [
    "norm_df[\"Action recognition (Top-1)\"].values"
   ]
  },
  {
   "cell_type": "code",
   "execution_count": 61,
   "id": "0057883a-22aa-40c7-b3c4-7fb83a430bdd",
   "metadata": {},
   "outputs": [
    {
     "data": {
      "text/plain": [
       "array([0.        , 0.72680412, 0.70940722, 0.86726804, 0.59213918,\n",
       "       0.96069588, 0.88466495, 0.87371134, 1.        ])"
      ]
     },
     "execution_count": 61,
     "metadata": {},
     "output_type": "execute_result"
    }
   ],
   "source": [
    "norm_df[\"Spatio-temporal (IoU@0.5)\"].values"
   ]
  },
  {
   "cell_type": "code",
   "execution_count": 64,
   "id": "1943a767-070e-4fc2-9431-342096e6ef11",
   "metadata": {},
   "outputs": [
    {
     "data": {
      "text/plain": [
       "array([[1.        , 0.92527473],\n",
       "       [0.92527473, 1.        ]])"
      ]
     },
     "execution_count": 64,
     "metadata": {},
     "output_type": "execute_result"
    }
   ],
   "source": [
    "np.corrcoef(norm_df[\"Action recognition (Top-1)\"].values, norm_df[\"Spatio-temporal (IoU@0.5)\"].values)"
   ]
  },
  {
   "cell_type": "code",
   "execution_count": 77,
   "id": "fb5f1c3b-32dd-4f1c-ac2e-9ed11c5a8f21",
   "metadata": {},
   "outputs": [
    {
     "data": {
      "image/png": "[encoded data removed]",
      "text/plain": [
       "<Figure size 504x432 with 2 Axes>"
      ]
     },
     "metadata": {
      "needs_background": "light"
     },
     "output_type": "display_data"
    }
   ],
   "source": [
    "corr_df = pd.DataFrame(np.corrcoef(norm_df.T), index=tasks, columns=tasks)\n",
    "heatmap(corr_df)"
   ]
  },
  {
   "cell_type": "code",
   "execution_count": 68,
   "id": "56a13a36-d37e-4b72-993d-5aa9eb0c21dd",
   "metadata": {},
   "outputs": [
    {
     "data": {
      "text/plain": [
       "(9, 4)"
      ]
     },
     "execution_count": 68,
     "metadata": {},
     "output_type": "execute_result"
    }
   ],
   "source": [
    "norm_df.shape"
   ]
  },
  {
   "cell_type": "code",
   "execution_count": 76,
   "id": "be300d4a-c248-433a-a766-c4ea30c7f63c",
   "metadata": {},
   "outputs": [
    {
     "data": {
      "text/html": [
       "<div>\n",
       "<style scoped>\n",
       "    .dataframe tbody tr th:only-of-type {\n",
       "        vertical-align: middle;\n",
       "    }\n",
       "\n",
       "    .dataframe tbody tr th {\n",
       "        vertical-align: top;\n",
       "    }\n",
       "\n",
       "    .dataframe thead th {\n",
       "        text-align: right;\n",
       "    }\n",
       "</style>\n",
       "<table border=\"1\" class=\"dataframe\">\n",
       "  <thead>\n",
       "    <tr style=\"text-align: right;\">\n",
       "      <th></th>\n",
       "      <th>Spatio-temporal (IoU@0.5)</th>\n",
       "      <th>Repetition (MAE)</th>\n",
       "      <th>Action recognition (Top-1)</th>\n",
       "      <th>AoT (Top-1)</th>\n",
       "    </tr>\n",
       "  </thead>\n",
       "  <tbody>\n",
       "    <tr>\n",
       "      <th>Spatio-temporal (IoU@0.5)</th>\n",
       "      <td>1.000000</td>\n",
       "      <td>0.925275</td>\n",
       "      <td>-0.866820</td>\n",
       "      <td>0.775230</td>\n",
       "    </tr>\n",
       "    <tr>\n",
       "      <th>Repetition (MAE)</th>\n",
       "      <td>0.925275</td>\n",
       "      <td>1.000000</td>\n",
       "      <td>-0.841615</td>\n",
       "      <td>0.746348</td>\n",
       "    </tr>\n",
       "    <tr>\n",
       "      <th>Action recognition (Top-1)</th>\n",
       "      <td>-0.866820</td>\n",
       "      <td>-0.841615</td>\n",
       "      <td>1.000000</td>\n",
       "      <td>-0.634013</td>\n",
       "    </tr>\n",
       "    <tr>\n",
       "      <th>AoT (Top-1)</th>\n",
       "      <td>0.775230</td>\n",
       "      <td>0.746348</td>\n",
       "      <td>-0.634013</td>\n",
       "      <td>1.000000</td>\n",
       "    </tr>\n",
       "  </tbody>\n",
       "</table>\n",
       "</div>"
      ],
      "text/plain": [
       "                            Spatio-temporal (IoU@0.5)  Repetition (MAE)  \\\n",
       "Spatio-temporal (IoU@0.5)                    1.000000          0.925275   \n",
       "Repetition (MAE)                             0.925275          1.000000   \n",
       "Action recognition (Top-1)                  -0.866820         -0.841615   \n",
       "AoT (Top-1)                                  0.775230          0.746348   \n",
       "\n",
       "                            Action recognition (Top-1)  AoT (Top-1)  \n",
       "Spatio-temporal (IoU@0.5)                    -0.866820     0.775230  \n",
       "Repetition (MAE)                             -0.841615     0.746348  \n",
       "Action recognition (Top-1)                    1.000000    -0.634013  \n",
       "AoT (Top-1)                                  -0.634013     1.000000  "
      ]
     },
     "execution_count": 76,
     "metadata": {},
     "output_type": "execute_result"
    }
   ],
   "source": [
    "corr_df"
   ]
  },
  {
   "cell_type": "code",
   "execution_count": 78,
   "id": "bb60b52f-ff3f-4beb-b138-b6857597804b",
   "metadata": {},
   "outputs": [
    {
     "data": {
      "text/html": [
       "<div>\n",
       "<style scoped>\n",
       "    .dataframe tbody tr th:only-of-type {\n",
       "        vertical-align: middle;\n",
       "    }\n",
       "\n",
       "    .dataframe tbody tr th {\n",
       "        vertical-align: top;\n",
       "    }\n",
       "\n",
       "    .dataframe thead th {\n",
       "        text-align: right;\n",
       "    }\n",
       "</style>\n",
       "<table border=\"1\" class=\"dataframe\">\n",
       "  <thead>\n",
       "    <tr style=\"text-align: right;\">\n",
       "      <th></th>\n",
       "      <th>Action recognition (Top-1)</th>\n",
       "      <th>Spatio-temporal (IoU@0.5)</th>\n",
       "      <th>Repetition (MAE)</th>\n",
       "      <th>AoT (Top-1)</th>\n",
       "    </tr>\n",
       "    <tr>\n",
       "      <th>Method</th>\n",
       "      <th></th>\n",
       "      <th></th>\n",
       "      <th></th>\n",
       "      <th></th>\n",
       "    </tr>\n",
       "  </thead>\n",
       "  <tbody>\n",
       "    <tr>\n",
       "      <th>No pretraining</th>\n",
       "      <td>0.000000</td>\n",
       "      <td>0.000000</td>\n",
       "      <td>1.000000</td>\n",
       "      <td>0.000000</td>\n",
       "    </tr>\n",
       "    <tr>\n",
       "      <th>RSPNET</th>\n",
       "      <td>0.508547</td>\n",
       "      <td>0.726804</td>\n",
       "      <td>0.245283</td>\n",
       "      <td>0.069276</td>\n",
       "    </tr>\n",
       "    <tr>\n",
       "      <th>Video Moco</th>\n",
       "      <td>0.546474</td>\n",
       "      <td>0.709407</td>\n",
       "      <td>0.411950</td>\n",
       "      <td>0.841354</td>\n",
       "    </tr>\n",
       "    <tr>\n",
       "      <th>Pretext-Contrast</th>\n",
       "      <td>0.559295</td>\n",
       "      <td>0.867268</td>\n",
       "      <td>0.334382</td>\n",
       "      <td>0.929138</td>\n",
       "    </tr>\n",
       "    <tr>\n",
       "      <th>Selavi</th>\n",
       "      <td>0.600427</td>\n",
       "      <td>0.592139</td>\n",
       "      <td>0.153040</td>\n",
       "      <td>0.878900</td>\n",
       "    </tr>\n",
       "    <tr>\n",
       "      <th>TCLR</th>\n",
       "      <td>0.769765</td>\n",
       "      <td>0.960696</td>\n",
       "      <td>0.133124</td>\n",
       "      <td>1.000000</td>\n",
       "    </tr>\n",
       "    <tr>\n",
       "      <th>CTP</th>\n",
       "      <td>0.823184</td>\n",
       "      <td>0.884665</td>\n",
       "      <td>0.437107</td>\n",
       "      <td>0.924379</td>\n",
       "    </tr>\n",
       "    <tr>\n",
       "      <th>GDT</th>\n",
       "      <td>0.842949</td>\n",
       "      <td>0.873711</td>\n",
       "      <td>0.001048</td>\n",
       "      <td>0.915389</td>\n",
       "    </tr>\n",
       "    <tr>\n",
       "      <th>Supervised pretraining</th>\n",
       "      <td>1.000000</td>\n",
       "      <td>1.000000</td>\n",
       "      <td>0.000000</td>\n",
       "      <td>0.925436</td>\n",
       "    </tr>\n",
       "  </tbody>\n",
       "</table>\n",
       "</div>"
      ],
      "text/plain": [
       "                         Action recognition (Top-1)  \\\n",
       "Method                                                \n",
       "No pretraining                             0.000000   \n",
       "RSPNET                                     0.508547   \n",
       "Video Moco                                 0.546474   \n",
       "Pretext-Contrast                           0.559295   \n",
       "Selavi                                     0.600427   \n",
       "TCLR                                       0.769765   \n",
       "CTP                                        0.823184   \n",
       "GDT                                        0.842949   \n",
       "Supervised pretraining                     1.000000   \n",
       "\n",
       "                         Spatio-temporal (IoU@0.5)  Repetition (MAE)  \\\n",
       "Method                                                                 \n",
       "No pretraining                            0.000000          1.000000   \n",
       "RSPNET                                    0.726804          0.245283   \n",
       "Video Moco                                0.709407          0.411950   \n",
       "Pretext-Contrast                          0.867268          0.334382   \n",
       "Selavi                                    0.592139          0.153040   \n",
       "TCLR                                      0.960696          0.133124   \n",
       "CTP                                       0.884665          0.437107   \n",
       "GDT                                       0.873711          0.001048   \n",
       "Supervised pretraining                    1.000000          0.000000   \n",
       "\n",
       "                         AoT (Top-1)  \n",
       "Method                                \n",
       "No pretraining              0.000000  \n",
       "RSPNET                      0.069276  \n",
       "Video Moco                  0.841354  \n",
       "Pretext-Contrast            0.929138  \n",
       "Selavi                      0.878900  \n",
       "TCLR                        1.000000  \n",
       "CTP                         0.924379  \n",
       "GDT                         0.915389  \n",
       "Supervised pretraining      0.925436  "
      ]
     },
     "execution_count": 78,
     "metadata": {},
     "output_type": "execute_result"
    }
   ],
   "source": [
    "norm_df"
   ]
  },
  {
   "cell_type": "code",
   "execution_count": 84,
   "id": "9deeb1fb-a860-4371-a2c3-2349e7a7d55f",
   "metadata": {},
   "outputs": [
    {
     "data": {
      "image/png": "[encoded data removed]",
      "text/plain": [
       "<Figure size 576x432 with 1 Axes>"
      ]
     },
     "metadata": {
      "needs_background": "light"
     },
     "output_type": "display_data"
    }
   ],
   "source": [
    "fig, ax = plt.subplots(1, 1, figsize=(8, 6))\n",
    "norm_df[\"Repetition (MAE)\"] = 1 - norm_df[\"Repetition (MAE)\"]\n",
    "\n",
    "ax.grid()\n",
    "for t in tasks:\n",
    "    sns.scatterplot(x=norm_df[\"Action recognition (Top-1)\"], y=norm_df[t], label=t, ax=ax)\n",
    "\n",
    "ax.set_ylabel(\"Task-dependent metric (normalized)\")\n",
    "plt.show()"
   ]
  },
  {
   "cell_type": "code",
   "execution_count": null,
   "id": "0e0c188d-063b-4ed7-85ba-3df1e9de36ad",
   "metadata": {},
   "outputs": [],
   "source": []
  }
 ],
 "metadata": {
  "kernelspec": {
   "display_name": "Python 3 (ipykernel)",
   "language": "python",
   "name": "python3"
  },
  "language_info": {
   "codemirror_mode": {
    "name": "ipython",
    "version": 3
   },
   "file_extension": ".py",
   "mimetype": "text/x-python",
   "name": "python",
   "nbconvert_exporter": "python",
   "pygments_lexer": "ipython3",
   "version": "3.9.7"
  }
 },
 "nbformat": 4,
 "nbformat_minor": 5
}
