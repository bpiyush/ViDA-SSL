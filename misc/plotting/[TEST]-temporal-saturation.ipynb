{
 "cells": [
  {
   "cell_type": "code",
   "execution_count": 1,
   "id": "b56aecd6-d518-424d-81ad-9f8d9c35f8f7",
   "metadata": {},
   "outputs": [],
   "source": [
    "%load_ext autoreload\n",
    "%autoreload 2"
   ]
  },
  {
   "cell_type": "code",
   "execution_count": 2,
   "id": "fd8a7c66-ca96-4b2c-9a0b-2baaa4616433",
   "metadata": {},
   "outputs": [],
   "source": [
    "from os.path import join, abspath\n",
    "import numpy as np\n",
    "import pandas as pd\n",
    "import matplotlib.pyplot as plt\n",
    "import seaborn as sns\n",
    "from sklearn.linear_model import LinearRegression\n",
    "from scipy.interpolate import interp1d"
   ]
  },
  {
   "cell_type": "code",
   "execution_count": 3,
   "id": "9b56a324-6439-44c2-8259-569cb8f202d2",
   "metadata": {},
   "outputs": [],
   "source": [
    "import sys\n",
    "sys.path.insert(0, abspath(\"./../../\"))"
   ]
  },
  {
   "cell_type": "code",
   "execution_count": 4,
   "id": "92b55237-7a59-40d0-b29e-243099478dc7",
   "metadata": {},
   "outputs": [],
   "source": [
    "from utils.pandas import apply_filters\n",
    "from utils.plt import configure_ax\n",
    "\n",
    "from utils_local import read_spreadsheet"
   ]
  },
  {
   "cell_type": "code",
   "execution_count": 5,
   "id": "f39a38b6-81d9-4714-86db-564a290e89fc",
   "metadata": {},
   "outputs": [],
   "source": [
    "plt.rcParams.update({\n",
    "    \"text.usetex\": True,\n",
    "    \"font.family\": \"serif\",\n",
    "    \"font.serif\": [\"Computer Modern Roman\"],\n",
    "})"
   ]
  },
  {
   "cell_type": "markdown",
   "id": "773da56b-9aca-440d-a7a8-996e1ecf0386",
   "metadata": {},
   "source": [
    "### Load result file"
   ]
  },
  {
   "cell_type": "code",
   "execution_count": 6,
   "id": "646c9960-4d90-4494-9235-021d8d3f7491",
   "metadata": {},
   "outputs": [],
   "source": [
    "df = read_spreadsheet(gid_key=\"temporality\")\n",
    "df.dropna(inplace=True)\n",
    "\n",
    "for c in set(df.columns) - {\"Frames\", \"K400\"}:\n",
    "    df[c] = df[c].apply(lambda x: x.split(\"\\u200b\")[0] if isinstance(x, str) else x).astype(float)"
   ]
  },
  {
   "cell_type": "code",
   "execution_count": 7,
   "id": "3d3016e1-bb57-47e1-b902-ca4adc1595d1",
   "metadata": {},
   "outputs": [
    {
     "data": {
      "text/html": [
       "<div>\n",
       "<style scoped>\n",
       "    .dataframe tbody tr th:only-of-type {\n",
       "        vertical-align: middle;\n",
       "    }\n",
       "\n",
       "    .dataframe tbody tr th {\n",
       "        vertical-align: top;\n",
       "    }\n",
       "\n",
       "    .dataframe thead th {\n",
       "        text-align: right;\n",
       "    }\n",
       "</style>\n",
       "<table border=\"1\" class=\"dataframe\">\n",
       "  <thead>\n",
       "    <tr style=\"text-align: right;\">\n",
       "      <th></th>\n",
       "      <th>Frames</th>\n",
       "      <th>UCF101</th>\n",
       "      <th>SSv2</th>\n",
       "      <th>Gym99</th>\n",
       "      <th>NTU60</th>\n",
       "      <th>EPIC (V)</th>\n",
       "      <th>K400</th>\n",
       "      <th>Charades</th>\n",
       "      <th>AVA</th>\n",
       "    </tr>\n",
       "  </thead>\n",
       "  <tbody>\n",
       "    <tr>\n",
       "      <th>0</th>\n",
       "      <td>1</td>\n",
       "      <td>80.04</td>\n",
       "      <td>18.69</td>\n",
       "      <td>60.61</td>\n",
       "      <td>56.88</td>\n",
       "      <td>28.33</td>\n",
       "      <td>37.99</td>\n",
       "      <td>9.541</td>\n",
       "      <td>13.385</td>\n",
       "    </tr>\n",
       "    <tr>\n",
       "      <th>1</th>\n",
       "      <td>8</td>\n",
       "      <td>91.22</td>\n",
       "      <td>40.89</td>\n",
       "      <td>83.71</td>\n",
       "      <td>90.45</td>\n",
       "      <td>36.06</td>\n",
       "      <td>56.47</td>\n",
       "      <td>12.562</td>\n",
       "      <td>15.586</td>\n",
       "    </tr>\n",
       "    <tr>\n",
       "      <th>2</th>\n",
       "      <td>16</td>\n",
       "      <td>93.58</td>\n",
       "      <td>52.88</td>\n",
       "      <td>88.11</td>\n",
       "      <td>93.89</td>\n",
       "      <td>40.22</td>\n",
       "      <td>60.82</td>\n",
       "      <td>14.617</td>\n",
       "      <td>17.081</td>\n",
       "    </tr>\n",
       "    <tr>\n",
       "      <th>3</th>\n",
       "      <td>32</td>\n",
       "      <td>94.01</td>\n",
       "      <td>61.05</td>\n",
       "      <td>91.77</td>\n",
       "      <td>94.90</td>\n",
       "      <td>47.67</td>\n",
       "      <td>61.31</td>\n",
       "      <td>23.098</td>\n",
       "      <td>17.938</td>\n",
       "    </tr>\n",
       "  </tbody>\n",
       "</table>\n",
       "</div>"
      ],
      "text/plain": [
       "   Frames  UCF101   SSv2  Gym99  NTU60  EPIC (V)   K400  Charades     AVA\n",
       "0       1   80.04  18.69  60.61  56.88     28.33  37.99     9.541  13.385\n",
       "1       8   91.22  40.89  83.71  90.45     36.06  56.47    12.562  15.586\n",
       "2      16   93.58  52.88  88.11  93.89     40.22  60.82    14.617  17.081\n",
       "3      32   94.01  61.05  91.77  94.90     47.67  61.31    23.098  17.938"
      ]
     },
     "execution_count": 7,
     "metadata": {},
     "output_type": "execute_result"
    }
   ],
   "source": [
    "df"
   ]
  },
  {
   "cell_type": "code",
   "execution_count": 8,
   "id": "9bfa92ea-9c57-4665-9a69-8abba9f20d5e",
   "metadata": {},
   "outputs": [
    {
     "data": {
      "image/png": "[encoded data removed]",
      "text/plain": [
       "<Figure size 576x432 with 1 Axes>"
      ]
     },
     "metadata": {
      "needs_background": "light"
     },
     "output_type": "display_data"
    }
   ],
   "source": [
    "datasets = set(df.columns) - {\"Frames\"}\n",
    "\n",
    "fig, ax = plt.subplots(1, 1, figsize=(8, 6))\n",
    "ax.grid(alpha=0.5)\n",
    "\n",
    "if len(datasets) == 7:\n",
    "    colors = [\"red\", \"blue\", \"gold\", \"limegreen\", \"skyblue\", \"pink\", \"magenta\"]\n",
    "elif len(datasets) == 8:\n",
    "    colors = [\"red\", \"blue\", \"gold\", \"limegreen\", \"skyblue\", \"pink\", \"magenta\", \"brown\"]\n",
    "else:\n",
    "    raise ValueError\n",
    "\n",
    "saturation_threshold = 1.\n",
    "temporal_saturation = dict()\n",
    "\n",
    "show_interpolated = False\n",
    "\n",
    "x = df.Frames.values\n",
    "xvals = np.arange(1, np.max(x) + 1)\n",
    "\n",
    "for i, dataset in enumerate(datasets):\n",
    "    y = df[dataset].values\n",
    "    \n",
    "    # interpolate\n",
    "    fvals = interp1d(x, y, kind=\"quadratic\")(xvals)\n",
    "\n",
    "    ax.plot(x, y, \"o-\", label=dataset, color=colors[i])\n",
    "    if show_interpolated:\n",
    "        ax.plot(xvals, fvals, \"+-\", color=colors[i], label=f\"{dataset}: Interpolated\")\n",
    "    ax.set_xticks(ticks=[1, 2, 4, 8, 10, 12, 16, 18, 24, 32])\n",
    "    \n",
    "    # compute temporal saturation\n",
    "    # t: % imporvement from (t -> t + 1) < saturation_threshold (e.g., 1%)\n",
    "    \n",
    "    # first compute % improvement\n",
    "    pct_improvement = 100 * (np.diff(fvals) / fvals[:-1])\n",
    "    try:\n",
    "        temporal_saturation[dataset] = next(\n",
    "            t for t, v in enumerate(pct_improvement) if v < saturation_threshold\n",
    "        )\n",
    "    except StopIteration:\n",
    "        temporal_saturation[dataset] = xvals[-1]\n",
    "\n",
    "ax.set_title(\"Temporality\", fontsize=22)\n",
    "ax.set_xlabel(\"Number of frames\", fontsize=16)\n",
    "ax.set_ylabel(\"Action recognition metric\", fontsize=16)\n",
    "\n",
    "ax.tick_params(axis='y', which='major', labelsize=14, rotation=0)\n",
    "ax.tick_params(axis='x', which='major', labelsize=14, rotation=0)\n",
    "\n",
    "ax.legend(fontsize=20, bbox_to_anchor=(1.04,0.92), loc=\"upper left\")\n",
    "plt.savefig(\"../../results/plots/action_temporality_v4.pdf\", bbox_inches=\"tight\")\n",
    "plt.show()"
   ]
  },
  {
   "cell_type": "markdown",
   "id": "fdf268bb-b91a-4ea5-b7bd-42c74323f321",
   "metadata": {},
   "source": [
    "### Temporality saturation point\n",
    "\n",
    "We define temporality saturation point $\\tau$ as follows:\n",
    "$$\n",
    "\\tau = \\arg\\min_{t \\in {1, 2, ..., N}} \\left[ 100 \\times \\frac{f_{t + 1} - f_{t}}{f_{t}} < \\alpha \\right]\n",
    "$$\n",
    "where $\\alpha = 1.0$ is the saturation threshold. In other words, we pick number of frames $t$ s.t. the *relative improvement* is not beyond $\\alpha \\%$."
   ]
  },
  {
   "cell_type": "code",
   "execution_count": 9,
   "id": "a4ebdca9-70f2-46b3-b072-b95d00e97de7",
   "metadata": {},
   "outputs": [
    {
     "data": {
      "text/plain": [
       "{'EPIC (V)': 32,\n",
       " 'K400': 10,\n",
       " 'AVA': 12,\n",
       " 'Gym99': 9,\n",
       " 'NTU60': 9,\n",
       " 'UCF101': 7,\n",
       " 'SSv2': 22,\n",
       " 'Charades': 32}"
      ]
     },
     "execution_count": 9,
     "metadata": {},
     "output_type": "execute_result"
    }
   ],
   "source": [
    "temporal_saturation"
   ]
  },
  {
   "cell_type": "code",
   "execution_count": 9,
   "id": "38a4a005-38e0-4191-8585-31e6a41cba49",
   "metadata": {},
   "outputs": [
    {
     "data": {
      "text/plain": [
       "(array([ 1,  8, 16, 32]), array([60.61, 83.71, 88.11, 91.77]))"
      ]
     },
     "execution_count": 9,
     "metadata": {},
     "output_type": "execute_result"
    }
   ],
   "source": [
    "x, y"
   ]
  },
  {
   "cell_type": "code",
   "execution_count": 10,
   "id": "215a036a-d01e-4c24-b59a-1ed8bcb89eab",
   "metadata": {},
   "outputs": [
    {
     "data": {
      "text/plain": [
       "(array([ 1,  2,  3,  4,  5,  6,  7,  8,  9, 10, 11, 12, 13, 14, 15, 16, 17,\n",
       "        18, 19, 20, 21, 22, 23, 24, 25, 26, 27, 28, 29, 30, 31, 32]),\n",
       " array([60.61      , 65.18356383, 69.33260638, 73.05712766, 76.35712766,\n",
       "        79.23260638, 81.68356383, 83.71      , 85.31191489, 86.48930851,\n",
       "        87.24218085, 87.57053191, 87.69131649, 87.82148936, 87.96105053,\n",
       "        88.11      , 88.26833777, 88.43606383, 88.61317819, 88.79968085,\n",
       "        88.99557181, 89.20085106, 89.41551862, 89.63957447, 89.87301862,\n",
       "        90.11585106, 90.36807181, 90.62968085, 90.90067819, 91.18106383,\n",
       "        91.47083777, 91.77      ]))"
      ]
     },
     "execution_count": 10,
     "metadata": {},
     "output_type": "execute_result"
    }
   ],
   "source": [
    "xvals, fvals"
   ]
  },
  {
   "cell_type": "code",
   "execution_count": 14,
   "id": "8dadb711-8087-4468-898c-7b5604f5e673",
   "metadata": {},
   "outputs": [],
   "source": [
    "pct_improvement = 100 * (np.diff(fvals) / fvals[:-1])"
   ]
  },
  {
   "cell_type": "code",
   "execution_count": 16,
   "id": "6eb513dc-b903-4ecd-9610-8e82f16d8b8c",
   "metadata": {},
   "outputs": [
    {
     "data": {
      "text/plain": [
       "9"
      ]
     },
     "execution_count": 16,
     "metadata": {},
     "output_type": "execute_result"
    }
   ],
   "source": [
    "next(i for i, x in enumerate(pct_improvement) if x < 1)\n"
   ]
  },
  {
   "cell_type": "code",
   "execution_count": null,
   "id": "a951e16d-3726-435c-9019-9ad716a6c3c8",
   "metadata": {},
   "outputs": [],
   "source": []
  },
  {
   "cell_type": "code",
   "execution_count": null,
   "id": "668825ee-4d51-417d-8247-c417a4a78a87",
   "metadata": {},
   "outputs": [],
   "source": []
  },
  {
   "cell_type": "code",
   "execution_count": null,
   "id": "206cd9ff-7e36-4f45-b97b-4df71ceca471",
   "metadata": {},
   "outputs": [],
   "source": []
  },
  {
   "cell_type": "markdown",
   "id": "5da4fc16-f3db-48a2-a7a6-c8bf20a3cfd8",
   "metadata": {
    "jp-MarkdownHeadingCollapsed": true,
    "tags": []
   },
   "source": [
    "## Junk"
   ]
  },
  {
   "cell_type": "code",
   "execution_count": 64,
   "id": "86f3f372-bc8a-48dd-a681-5a04024b4db1",
   "metadata": {},
   "outputs": [],
   "source": [
    "from sklearn.linear_model import TweedieRegressor\n",
    "from sklearn.kernel_ridge import KernelRidge\n",
    "from sklearn.gaussian_process import GaussianProcessRegressor\n"
   ]
  },
  {
   "cell_type": "code",
   "execution_count": 20,
   "id": "19c46e4f-7d38-4a3c-83a7-1fea589089e1",
   "metadata": {},
   "outputs": [],
   "source": [
    "dataset = \"UCF101\"\n",
    "\n",
    "x = df.Frames.values\n",
    "y = df[dataset].values"
   ]
  },
  {
   "cell_type": "code",
   "execution_count": 79,
   "id": "e8767965-7f8d-4e06-9f16-e837cc2d95eb",
   "metadata": {},
   "outputs": [],
   "source": [
    "f = lambda x: reg.predict([[x]])\n",
    "\n",
    "xvals = np.arange(1, 32 + 1)\n",
    "fvals = [f(t) for t in xvals]"
   ]
  },
  {
   "cell_type": "code",
   "execution_count": 80,
   "id": "8a9ed118-7205-4ee4-9878-d43aebd7a599",
   "metadata": {},
   "outputs": [],
   "source": [
    "# fvals = np.interp(xvals, xp=x, fp=y)\n",
    "fvals = interp1d(x, y, kind=\"quadratic\")(xvals)"
   ]
  },
  {
   "cell_type": "code",
   "execution_count": 87,
   "id": "9a2f0b21-df1f-43bb-913a-d7cec069a873",
   "metadata": {},
   "outputs": [
    {
     "data": {
      "text/plain": [
       "{'Charades', 'EPIC (V)', 'Gym99', 'K400', 'NTU60', 'SSv2', 'UCF101'}"
      ]
     },
     "execution_count": 87,
     "metadata": {},
     "output_type": "execute_result"
    }
   ],
   "source": [
    "datasets"
   ]
  },
  {
   "cell_type": "code",
   "execution_count": 96,
   "id": "7d143b3c-80ae-4a4a-ba60-8bf38dd216ed",
   "metadata": {},
   "outputs": [
    {
     "data": {
      "image/png": "[encoded data removed]",
      "text/plain": [
       "<Figure size 576x432 with 1 Axes>"
      ]
     },
     "metadata": {
      "needs_background": "light"
     },
     "output_type": "display_data"
    }
   ],
   "source": [
    "fig, ax = plt.subplots(1, 1, figsize=(8, 6))\n",
    "ax.grid(alpha=0.5)\n",
    "\n",
    "ax.plot(x, y, \"o--\", label=dataset)\n",
    "ax.plot(xvals, fvals, \"o-\", label=\"Fit model\")\n",
    "\n",
    "ax.set_title(\"Temporality\", fontsize=16)\n",
    "ax.set_xlabel(\"Number of frames\", fontsize=14)\n",
    "ax.set_ylabel(\"Metric\", fontsize=14)\n",
    "\n",
    "ax.tick_params(axis='y', which='major', labelsize=13, rotation=0)\n",
    "ax.tick_params(axis='x', which='major', labelsize=13, rotation=0)\n",
    "\n",
    "ax.legend(fontsize=14)\n",
    "plt.show()"
   ]
  },
  {
   "cell_type": "code",
   "execution_count": null,
   "id": "6d79a52d-7b0c-4720-8ec6-1625a6de5d34",
   "metadata": {},
   "outputs": [],
   "source": []
  }
 ],
 "metadata": {
  "kernelspec": {
   "display_name": "Python 3 (ipykernel)",
   "language": "python",
   "name": "python3"
  },
  "language_info": {
   "codemirror_mode": {
    "name": "ipython",
    "version": 3
   },
   "file_extension": ".py",
   "mimetype": "text/x-python",
   "name": "python",
   "nbconvert_exporter": "python",
   "pygments_lexer": "ipython3",
   "version": "3.9.7"
  }
 },
 "nbformat": 4,
 "nbformat_minor": 5
}
