{
 "cells": [
  {
   "cell_type": "code",
   "execution_count": 1,
   "id": "c73872eb-424a-4009-aec4-7bd30382d570",
   "metadata": {},
   "outputs": [],
   "source": [
    "%load_ext autoreload\n",
    "%autoreload 2"
   ]
  },
  {
   "cell_type": "code",
   "execution_count": 2,
   "id": "87d0f8a8-bde5-4d38-88b3-71f722630f92",
   "metadata": {},
   "outputs": [],
   "source": [
    "import sys\n",
    "sys.path.append(\"/Users/piyush/projects/ViDA-SSL/\")"
   ]
  },
  {
   "cell_type": "code",
   "execution_count": 18,
   "id": "160f9ec6-e3db-4c0c-8e69-7487b3dcffd4",
   "metadata": {},
   "outputs": [],
   "source": [
    "from os.path import join\n",
    "\n",
    "import numpy as np\n",
    "import pandas as pd\n",
    "import matplotlib.pyplot as plt\n",
    "import seaborn as sns\n",
    "\n",
    "from utils.io import load_json, load_txt"
   ]
  },
  {
   "cell_type": "code",
   "execution_count": 32,
   "id": "0179b684-7c34-4fa0-93da-37bc213f1f4c",
   "metadata": {},
   "outputs": [],
   "source": [
    "plt.rcParams.update({\n",
    "    \"text.usetex\": True,\n",
    "    \"font.family\": \"serif\",\n",
    "    \"font.serif\": [\"Computer Modern Roman\"],\n",
    "})"
   ]
  },
  {
   "cell_type": "code",
   "execution_count": 4,
   "id": "d5e2115e-38cf-4443-b219-3367b019d20f",
   "metadata": {},
   "outputs": [],
   "source": [
    "train_split_file = \"/Users/piyush/projects/ViDA-SSL/data/EPIC-KITCHENS-100/splits/EPIC_100_train.csv\"\n",
    "val_split_file = \"/Users/piyush/projects/ViDA-SSL/data/EPIC-KITCHENS-100/splits/EPIC_100_validation.csv\""
   ]
  },
  {
   "cell_type": "code",
   "execution_count": 5,
   "id": "9d9fc9dd-02c5-47de-aa0e-24f09b8f8c44",
   "metadata": {},
   "outputs": [],
   "source": [
    "train = pd.read_csv(train_split_file)"
   ]
  },
  {
   "cell_type": "code",
   "execution_count": 6,
   "id": "d0bb0094-3f51-4fa8-9785-0b1b66ce7265",
   "metadata": {},
   "outputs": [],
   "source": [
    "val = pd.read_csv(val_split_file)"
   ]
  },
  {
   "cell_type": "code",
   "execution_count": 7,
   "id": "2b4dff72-1132-4037-8f41-5cf510f92224",
   "metadata": {},
   "outputs": [
    {
     "data": {
      "text/plain": [
       "((67217, 15), (9668, 15))"
      ]
     },
     "execution_count": 7,
     "metadata": {},
     "output_type": "execute_result"
    }
   ],
   "source": [
    "train.shape, val.shape"
   ]
  },
  {
   "cell_type": "code",
   "execution_count": 68,
   "id": "f4c3e4c0-751c-468f-b5c4-8706a9f667e9",
   "metadata": {},
   "outputs": [],
   "source": [
    "df = pd.concat([train, val], ignore_index=True)"
   ]
  },
  {
   "cell_type": "code",
   "execution_count": 69,
   "id": "9cebe541-1c61-4682-a766-65916658620c",
   "metadata": {},
   "outputs": [
    {
     "data": {
      "text/plain": [
       "(76885, 15)"
      ]
     },
     "execution_count": 69,
     "metadata": {},
     "output_type": "execute_result"
    }
   ],
   "source": [
    "df.shape"
   ]
  },
  {
   "cell_type": "markdown",
   "id": "422a51bc-5ace-4b0b-9a18-4859b4654dde",
   "metadata": {},
   "source": [
    "### Duration"
   ]
  },
  {
   "cell_type": "code",
   "execution_count": 14,
   "id": "67fd1429-e005-41b8-a858-9f1f8226f8b7",
   "metadata": {},
   "outputs": [],
   "source": [
    "stop = pd.to_datetime(df.stop_timestamp)\n",
    "start = pd.to_datetime(df.start_timestamp)"
   ]
  },
  {
   "cell_type": "code",
   "execution_count": 15,
   "id": "05a0f49b-7af7-46b1-94b2-5fc47f55d2b9",
   "metadata": {},
   "outputs": [],
   "source": [
    "times = []\n",
    "for i in range(len(stop)):\n",
    "    times.append(pd.Timedelta(stop[i] - start[i]).total_seconds())"
   ]
  },
  {
   "cell_type": "code",
   "execution_count": 16,
   "id": "45b8bcc5-194b-4204-95e0-dfb4e242b113",
   "metadata": {},
   "outputs": [
    {
     "data": {
      "text/plain": [
       "3.189159914157508"
      ]
     },
     "execution_count": 16,
     "metadata": {},
     "output_type": "execute_result"
    }
   ],
   "source": [
    "np.mean(times)"
   ]
  },
  {
   "cell_type": "markdown",
   "id": "9cfb81b2-9e2a-4ff6-81e2-13d12d79c840",
   "metadata": {},
   "source": [
    "### Label distribution"
   ]
  },
  {
   "cell_type": "code",
   "execution_count": 82,
   "id": "c2f92394-066c-4920-ac50-6f496538e6df",
   "metadata": {},
   "outputs": [
    {
     "data": {
      "text/plain": [
       "97"
      ]
     },
     "execution_count": 82,
     "metadata": {},
     "output_type": "execute_result"
    }
   ],
   "source": [
    "df[\"verbs\"] = df[\"verb_class\"]\n",
    "df[\"nouns\"] = df[\"noun_class\"]\n",
    "\n",
    "index = list((df.verbs.value_counts() > 2).index)\n",
    "len(index)"
   ]
  },
  {
   "cell_type": "code",
   "execution_count": 83,
   "id": "68313741-995c-4039-b3e3-644fa734b052",
   "metadata": {},
   "outputs": [
    {
     "data": {
      "image/png": "[encoded data removed]",
      "text/plain": [
       "<Figure size 1296x720 with 2 Axes>"
      ]
     },
     "metadata": {
      "needs_background": "light"
     },
     "output_type": "display_data"
    }
   ],
   "source": [
    "fig, ax = plt.subplots(2, 1, figsize=(18, 10))\n",
    "\n",
    "ax[0].grid()\n",
    "sns.countplot(data=df, x=f\"verbs\", ax=ax[0], label=\"EPIC Verbs\", color=\"skyblue\")\n",
    "ax[0].set_title(\"Label distribution for EPIC Verbs\", fontsize=20)\n",
    "ax[0].legend(fontsize=15)\n",
    "ax[0].set_xticks([])\n",
    "\n",
    "ax[1].grid()\n",
    "sns.countplot(data=df, x=f\"nouns\", ax=ax[1], label=\"EPIC Nouns\", color=\"lime\")\n",
    "ax[1].set_title(\"Label distribution for EPIC Nouns\", fontsize=20)\n",
    "ax[1].legend(fontsize=15)\n",
    "ax[1].set_xticks([])\n",
    "\n",
    "plt.show()"
   ]
  },
  {
   "cell_type": "code",
   "execution_count": null,
   "id": "9ede46d2-ca33-446f-b714-8fa45e00c489",
   "metadata": {},
   "outputs": [],
   "source": []
  }
 ],
 "metadata": {
  "kernelspec": {
   "display_name": "Python 3 (ipykernel)",
   "language": "python",
   "name": "python3"
  },
  "language_info": {
   "codemirror_mode": {
    "name": "ipython",
    "version": 3
   },
   "file_extension": ".py",
   "mimetype": "text/x-python",
   "name": "python",
   "nbconvert_exporter": "python",
   "pygments_lexer": "ipython3",
   "version": "3.9.7"
  }
 },
 "nbformat": 4,
 "nbformat_minor": 5
}
