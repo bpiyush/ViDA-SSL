{
 "cells": [
  {
   "cell_type": "code",
   "execution_count": null,
   "id": "0f197081-62ec-4fbb-a472-09f79c00f809",
   "metadata": {},
   "outputs": [],
   "source": [
    "%load_ext autoreload\n",
    "%autoreload 2"
   ]
  },
  {
   "cell_type": "code",
   "execution_count": null,
   "id": "810f66e9-6b9f-451b-80ac-e02e519db756",
   "metadata": {},
   "outputs": [],
   "source": [
    "from os.path import join\n",
    "from tqdm import tqdm\n",
    "import numpy as np\n",
    "import pandas as pd\n",
    "import matplotlib.pyplot as plt\n",
    "\n",
    "import torch\n",
    "from fast_pytorch_kmeans import KMeans\n",
    "from transformers import AutoTokenizer, AutoModel\n",
    "\n",
    "import sys\n",
    "sys.path.append(\"../\")\n",
    "from utils.viz import bokeh_2d_scatter, bokeh_2d_scatter_new"
   ]
  },
  {
   "cell_type": "code",
   "execution_count": null,
   "id": "78b233f7-6507-4810-bbbc-e38dcd19c8d9",
   "metadata": {},
   "outputs": [],
   "source": [
    "DATA_DIR = \"/Users/piyush/datasets/NTU/\"\n",
    "labels_file = join(DATA_DIR, \"annotations/action-clf/class_labels.txt\")"
   ]
  },
  {
   "cell_type": "code",
   "execution_count": null,
   "id": "889edd76-0515-4f8b-bbdb-e72fd43a4759",
   "metadata": {},
   "outputs": [],
   "source": [
    "def get_class_labels(fpath):\n",
    "    with open(fpath, \"rb\") as f:\n",
    "        lines = f.read()\n",
    "        lines = lines.decode(\"utf-8\")\n",
    "        lines = lines.split(\"\\n\")\n",
    "        \n",
    "        class_label_dict = dict()\n",
    "        for line in lines:\n",
    "            if len(line):\n",
    "                class_id, class_phrase, _ = line.split(\".\")\n",
    "                class_label_dict[class_id] = class_phrase.strip()\n",
    "\n",
    "    return class_label_dict"
   ]
  },
  {
   "cell_type": "code",
   "execution_count": null,
   "id": "30927626-c719-42fa-9b1d-44dac8b3b05c",
   "metadata": {},
   "outputs": [],
   "source": [
    "class_label_dict = get_class_labels(labels_file)"
   ]
  },
  {
   "cell_type": "code",
   "execution_count": null,
   "id": "edfd5395-e0cb-43f0-b269-f6568e714592",
   "metadata": {},
   "outputs": [],
   "source": [
    "layers = [-4, -3, -2, -1]\n",
    "\n",
    "tokenizer = AutoTokenizer.from_pretrained(\"bert-base-cased\")\n",
    "model = AutoModel.from_pretrained(\"bert-base-cased\", output_hidden_states=True)"
   ]
  },
  {
   "cell_type": "code",
   "execution_count": null,
   "id": "765d06f2-e142-4b88-a9d1-fd48061d4283",
   "metadata": {},
   "outputs": [],
   "source": [
    "def get_phrase_embedding(phrase, layers=[-4, -3, -2, -1], agg_method=\"mean\"):\n",
    "\n",
    "    encoded = tokenizer.encode_plus(phrase, return_tensors=\"pt\")\n",
    "\n",
    "    with torch.no_grad():\n",
    "        output = model(**encoded)\n",
    "\n",
    "    # Get all hidden states\n",
    "    states = output.hidden_states\n",
    "\n",
    "    # Stack and sum all requested layers\n",
    "    output = torch.stack([states[i] for i in layers]).sum(0).squeeze()\n",
    "\n",
    "    phrase_word_embeddings = output[1:-1]\n",
    "    phrase_embedding = getattr(torch, agg_method)(phrase_word_embeddings, dim=0)\n",
    "    \n",
    "    return phrase_embedding"
   ]
  },
  {
   "cell_type": "code",
   "execution_count": null,
   "id": "73302a3b-c16c-4edb-83b0-3a8ba5088bae",
   "metadata": {},
   "outputs": [],
   "source": [
    "phrase_embedding = get_phrase_embedding('shoot at other person with a gun')"
   ]
  },
  {
   "cell_type": "code",
   "execution_count": null,
   "id": "d6229302-f0e4-4a36-94bc-b74e0171e63a",
   "metadata": {},
   "outputs": [],
   "source": [
    "phrase_embedding.shape"
   ]
  },
  {
   "cell_type": "code",
   "execution_count": null,
   "id": "e72e26be-614b-41f3-8235-0db80dfcb40e",
   "metadata": {},
   "outputs": [],
   "source": [
    "embeddings = dict()\n",
    "embeddings_tensor = []\n",
    "class_labels = []\n",
    "\n",
    "for k, v in tqdm(class_label_dict.items()):\n",
    "    phrase_embedding = get_phrase_embedding(v)\n",
    "    embeddings[k] = phrase_embedding\n",
    "    embeddings_tensor.append(phrase_embedding.unsqueeze(0))\n",
    "    class_labels.append(k)\n",
    "\n",
    "embeddings_tensor = torch.cat(embeddings_tensor, dim=0)"
   ]
  },
  {
   "cell_type": "code",
   "execution_count": null,
   "id": "e718aec0-b019-4d16-8006-9103519d27e4",
   "metadata": {},
   "outputs": [],
   "source": [
    "embeddings_tensor.shape"
   ]
  },
  {
   "cell_type": "code",
   "execution_count": null,
   "id": "f79491fd-18bf-4a50-a2e9-695eb20d6382",
   "metadata": {},
   "outputs": [],
   "source": [
    "kmeans = KMeans(n_clusters=12, mode='euclidean', verbose=1)\n",
    "\n",
    "labels = kmeans.fit_predict(embeddings_tensor)"
   ]
  },
  {
   "cell_type": "code",
   "execution_count": null,
   "id": "1072dc5b-72b5-422c-8778-f7c915f51860",
   "metadata": {},
   "outputs": [],
   "source": [
    "labels.shape"
   ]
  },
  {
   "cell_type": "code",
   "execution_count": null,
   "id": "1f718d76-3a4f-4e54-abdd-846a3d40e286",
   "metadata": {},
   "outputs": [],
   "source": [
    "labels"
   ]
  },
  {
   "cell_type": "code",
   "execution_count": null,
   "id": "8fe5419c-6a68-43d7-b20d-86cf4d0bc020",
   "metadata": {},
   "outputs": [],
   "source": [
    "(U, S, V) = torch.pca_lowrank(embeddings_tensor)\n",
    "\n",
    "K = 2\n",
    "Z = torch.matmul(embeddings_tensor, V[:, :K])"
   ]
  },
  {
   "cell_type": "code",
   "execution_count": null,
   "id": "3d83b083-c528-4e15-8393-de514e319323",
   "metadata": {},
   "outputs": [],
   "source": [
    "Z.shape"
   ]
  },
  {
   "cell_type": "code",
   "execution_count": null,
   "id": "b0f1da7f-6d88-4a59-955c-f508160e76f8",
   "metadata": {},
   "outputs": [],
   "source": [
    "df = pd.DataFrame(None)\n",
    "\n",
    "df[\"x\"] = Z[:, 0].numpy()\n",
    "df[\"y\"] = Z[:, 1].numpy()\n",
    "df[\"cluster_label\"] = labels.numpy()\n",
    "df[\"class_id\"] = np.array(class_labels)\n",
    "df[\"class_desc\"] = df[\"class_id\"].apply(lambda k: class_label_dict[k])"
   ]
  },
  {
   "cell_type": "code",
   "execution_count": null,
   "id": "890d6032-beac-4bf3-9ac8-d5021eea2294",
   "metadata": {},
   "outputs": [],
   "source": [
    "bokeh_2d_scatter_new(\n",
    "    df=df, x=\"x\", y=\"y\", hue=\"cluster_label\", label=\"class_desc\", use_nb=True,\n",
    "    title=\"BERT-based embeddings for NTU-120 action classes.\"\n",
    ")"
   ]
  },
  {
   "cell_type": "code",
   "execution_count": null,
   "id": "ae4031b1-b72b-4cbe-a617-c69f77d78502",
   "metadata": {},
   "outputs": [],
   "source": [
    "fig, ax = plt.subplots(1, 1, figsize=(8, 8))\n",
    "ax.grid()\n",
    "\n",
    "\n",
    "unique_labels = torch.unique(labels)\n",
    "for l in unique_labels:\n",
    "    Z_label = Z[labels == l]\n",
    "    ax.scatter(Z_label[:, 0], Z_label[:, 1], label=np.array(class_labels)[labels == l])\n",
    "\n",
    "plt.legend()\n",
    "plt.show()"
   ]
  },
  {
   "cell_type": "code",
   "execution_count": null,
   "id": "48ef1904-cfb5-4608-89e8-1845657e5f51",
   "metadata": {},
   "outputs": [],
   "source": []
  }
 ],
 "metadata": {
  "kernelspec": {
   "display_name": "Python 3 (ipykernel)",
   "language": "python",
   "name": "python3"
  },
  "language_info": {
   "codemirror_mode": {
    "name": "ipython",
    "version": 3
   },
   "file_extension": ".py",
   "mimetype": "text/x-python",
   "name": "python",
   "nbconvert_exporter": "python",
   "pygments_lexer": "ipython3",
   "version": "3.9.7"
  }
 },
 "nbformat": 4,
 "nbformat_minor": 5
}
