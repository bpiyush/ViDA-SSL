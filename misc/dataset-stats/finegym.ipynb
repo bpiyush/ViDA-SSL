{
 "cells": [
  {
   "cell_type": "code",
   "execution_count": 1,
   "id": "3847fb79-ffd7-40f5-a231-abb4d0962e0c",
   "metadata": {},
   "outputs": [],
   "source": [
    "%load_ext autoreload\n",
    "%autoreload 2"
   ]
  },
  {
   "cell_type": "code",
   "execution_count": 3,
   "id": "5ca1cc98-f3e6-4bfe-a730-1e11a34e5604",
   "metadata": {},
   "outputs": [],
   "source": [
    "import sys\n",
    "sys.path.append(\"/Users/piyush/projects/ViDA-SSL/\")"
   ]
  },
  {
   "cell_type": "code",
   "execution_count": 52,
   "id": "2f72d3c8-357b-4922-b089-b4f0d46b8cae",
   "metadata": {},
   "outputs": [],
   "source": [
    "from os.path import join\n",
    "\n",
    "import numpy as np\n",
    "\n",
    "from utils.io import load_json, load_txt"
   ]
  },
  {
   "cell_type": "code",
   "execution_count": 53,
   "id": "9e9effe8-4d58-431e-8084-521ebf29141c",
   "metadata": {},
   "outputs": [],
   "source": [
    "annot_path = \"/Users/piyush/projects/ViDA-SSL/data/FineGym/annotations\"\\\n",
    "    \"/action-temporal-localization/finegym_annotation_info_v1.0.json\"\n",
    "train_split_file = \"/Users/piyush/projects/ViDA-SSL/data/FineGym/splits/gym99_train.txt\"\n",
    "val_split_file = \"/Users/piyush/projects/ViDA-SSL/data/FineGym/splits/gym99_val.txt\""
   ]
  },
  {
   "cell_type": "code",
   "execution_count": 6,
   "id": "1b4fe167-a7dc-4012-819f-75d846565bba",
   "metadata": {},
   "outputs": [],
   "source": [
    "annot = load_json(annot_path)"
   ]
  },
  {
   "cell_type": "code",
   "execution_count": 8,
   "id": "c5637ab4-539b-44d2-8715-a2d6ad9ddcf4",
   "metadata": {},
   "outputs": [
    {
     "data": {
      "text/plain": [
       "303"
      ]
     },
     "execution_count": 8,
     "metadata": {},
     "output_type": "execute_result"
    }
   ],
   "source": [
    "len(annot)"
   ]
  },
  {
   "cell_type": "code",
   "execution_count": 40,
   "id": "f50f514f-8e55-4d55-b42e-84655a206900",
   "metadata": {},
   "outputs": [],
   "source": [
    "events = []\n",
    "stages = []\n",
    "segment_times = []\n",
    "\n",
    "subactions = dict()\n",
    "\n",
    "for vkey in annot:\n",
    "    edict = annot[vkey]\n",
    "    for ekey in edict:\n",
    "        events.append(annot[vkey][ekey][\"event\"])\n",
    "\n",
    "        segments = edict[ekey][\"segments\"]\n",
    "        if segments is not None:\n",
    "            for skey in segments:\n",
    "                stages.append(segments[skey][\"stages\"])\n",
    "                \n",
    "                tstamps = segments[skey][\"timestamps\"]\n",
    "                segment_times.extend([x[1] - x[0] for x in tstamps])"
   ]
  },
  {
   "cell_type": "code",
   "execution_count": 41,
   "id": "208dec5c-75a9-4a44-9986-8f002ba6c8a6",
   "metadata": {},
   "outputs": [
    {
     "data": {
      "text/plain": [
       "36764"
      ]
     },
     "execution_count": 41,
     "metadata": {},
     "output_type": "execute_result"
    }
   ],
   "source": [
    "len(segment_times)"
   ]
  },
  {
   "cell_type": "code",
   "execution_count": 43,
   "id": "e387944d-84a0-400e-85dc-acfbe10b071d",
   "metadata": {},
   "outputs": [
    {
     "data": {
      "text/plain": [
       "1.545762974649113"
      ]
     },
     "execution_count": 43,
     "metadata": {},
     "output_type": "execute_result"
    }
   ],
   "source": [
    "np.mean(segment_times)"
   ]
  },
  {
   "cell_type": "code",
   "execution_count": null,
   "id": "87bb15a2-8ccf-479b-b8fd-d3a04bcc055d",
   "metadata": {},
   "outputs": [],
   "source": []
  },
  {
   "cell_type": "code",
   "execution_count": 47,
   "id": "b63bc776-4d6c-40a5-96ec-4ce9cf0e01c2",
   "metadata": {},
   "outputs": [],
   "source": [
    "subaction_times = dict()\n",
    "\n",
    "video_keys = annot.keys()\n",
    "\n",
    "for vkey in video_keys:\n",
    "    \n",
    "    event_keys = annot[vkey].keys()\n",
    "    \n",
    "    for ekey in event_keys:\n",
    "        \n",
    "        subact_dict = annot[vkey][ekey][\"segments\"]\n",
    "        if subact_dict is not None:\n",
    "            for skey, sval in subact_dict.items():\n",
    "                instance_key = f\"{vkey}_{ekey}_{skey}\"\n",
    "                subaction_times[instance_key] = sval[\"timestamps\"]"
   ]
  },
  {
   "cell_type": "code",
   "execution_count": 49,
   "id": "709ec1be-526c-4648-a44a-3c5b9e239224",
   "metadata": {},
   "outputs": [
    {
     "data": {
      "text/plain": [
       "32697"
      ]
     },
     "execution_count": 49,
     "metadata": {},
     "output_type": "execute_result"
    }
   ],
   "source": [
    "len(subaction_times)"
   ]
  },
  {
   "cell_type": "code",
   "execution_count": 50,
   "id": "365d36ad-a221-489c-a8f9-686c322a00a5",
   "metadata": {},
   "outputs": [
    {
     "data": {
      "text/plain": [
       "['0LtLS9wROrk_E_002407_002435_A_0003_0005',\n",
       " '0LtLS9wROrk_E_002407_002435_A_0006_0008',\n",
       " '0LtLS9wROrk_E_002407_002435_A_0012_0013',\n",
       " '0LtLS9wROrk_E_002407_002435_A_0015_0017',\n",
       " '0LtLS9wROrk_E_002407_002435_A_0019_0021',\n",
       " '0LtLS9wROrk_E_002407_002435_A_0021_0023',\n",
       " '0LtLS9wROrk_E_002407_002435_A_0023_0028',\n",
       " '0LtLS9wROrk_E_002451_002529_A_0019_0021',\n",
       " '0LtLS9wROrk_E_002451_002529_A_0022_0023',\n",
       " '0LtLS9wROrk_E_002451_002529_A_0033_0034']"
      ]
     },
     "execution_count": 50,
     "metadata": {},
     "output_type": "execute_result"
    }
   ],
   "source": [
    "list(subaction_times.keys())[:10]"
   ]
  },
  {
   "cell_type": "code",
   "execution_count": 51,
   "id": "224c9cd5-4e05-471b-9320-547f3e7c84ec",
   "metadata": {},
   "outputs": [
    {
     "data": {
      "text/plain": [
       "[[15.59, 17.27]]"
      ]
     },
     "execution_count": 51,
     "metadata": {},
     "output_type": "execute_result"
    }
   ],
   "source": [
    "subaction_times[\"0LtLS9wROrk_E_002407_002435_A_0015_0017\"]"
   ]
  },
  {
   "cell_type": "markdown",
   "id": "b945cfd5-d27a-42c7-952b-a0dec2df37c8",
   "metadata": {},
   "source": [
    "### Load split files"
   ]
  },
  {
   "cell_type": "code",
   "execution_count": 56,
   "id": "d90b4cb7-4fe8-458a-aad1-44e8d093ecd4",
   "metadata": {},
   "outputs": [],
   "source": [
    "train_split = load_txt(train_split_file)\n",
    "train_ids = [x.split()[0] for x in train_split]\n",
    "\n",
    "val_split = load_txt(val_split_file)\n",
    "val_ids = [x.split()[0] for x in val_split]"
   ]
  },
  {
   "cell_type": "code",
   "execution_count": 57,
   "id": "84eef05e-a837-4166-bcfb-554fdedfcc86",
   "metadata": {},
   "outputs": [
    {
     "data": {
      "text/plain": [
       "(20484, 8521)"
      ]
     },
     "execution_count": 57,
     "metadata": {},
     "output_type": "execute_result"
    }
   ],
   "source": [
    "len(train_ids), len(val_ids)"
   ]
  },
  {
   "cell_type": "code",
   "execution_count": 60,
   "id": "f3958a4f-5188-4297-a835-12a9539160a8",
   "metadata": {},
   "outputs": [
    {
     "data": {
      "text/plain": [
       "(True, True)"
      ]
     },
     "execution_count": 60,
     "metadata": {},
     "output_type": "execute_result"
    }
   ],
   "source": [
    "train_ids[0] in subaction_times, \\\n",
    "val_ids[0] in subaction_times"
   ]
  },
  {
   "cell_type": "code",
   "execution_count": 61,
   "id": "db28bbd2-8e05-429e-933c-92575e83fb74",
   "metadata": {},
   "outputs": [],
   "source": [
    "split_ids = train_ids + val_ids"
   ]
  },
  {
   "cell_type": "markdown",
   "id": "b6c15bc3-3ef3-4e4f-a427-9a4ecc3371c7",
   "metadata": {},
   "source": [
    "### Filter based on given split"
   ]
  },
  {
   "cell_type": "code",
   "execution_count": 62,
   "id": "b538ae9b-bf19-43c2-aef2-10332ae855cd",
   "metadata": {},
   "outputs": [],
   "source": [
    "split_subaction_times = {k:v for k, v in subaction_times.items() if k in split_ids}"
   ]
  },
  {
   "cell_type": "code",
   "execution_count": 63,
   "id": "9cf36da1-38c8-41a3-9119-1b13ff9e6ce3",
   "metadata": {},
   "outputs": [
    {
     "data": {
      "text/plain": [
       "29005"
      ]
     },
     "execution_count": 63,
     "metadata": {},
     "output_type": "execute_result"
    }
   ],
   "source": [
    "len(split_subaction_times)"
   ]
  },
  {
   "cell_type": "code",
   "execution_count": 66,
   "id": "ddca64c6-9aeb-461b-a057-34fde7958072",
   "metadata": {},
   "outputs": [],
   "source": [
    "total_times = []\n",
    "for key, value in split_subaction_times.items():\n",
    "    total_times.extend([x[1] - x[0] for x in value])"
   ]
  },
  {
   "cell_type": "code",
   "execution_count": 67,
   "id": "350ee0b3-7268-40b9-8e3a-0118a0115bb5",
   "metadata": {},
   "outputs": [
    {
     "data": {
      "text/plain": [
       "32045"
      ]
     },
     "execution_count": 67,
     "metadata": {},
     "output_type": "execute_result"
    }
   ],
   "source": [
    "len(total_times)"
   ]
  },
  {
   "cell_type": "code",
   "execution_count": 69,
   "id": "293b93f7-0623-4f86-9669-9a872f9a4f8e",
   "metadata": {},
   "outputs": [
    {
     "data": {
      "text/plain": [
       "1.5071196754563894"
      ]
     },
     "execution_count": 69,
     "metadata": {},
     "output_type": "execute_result"
    }
   ],
   "source": [
    "np.mean(total_times)"
   ]
  },
  {
   "cell_type": "code",
   "execution_count": null,
   "id": "d1b2f872-79da-4f5c-9691-ae657b0df752",
   "metadata": {},
   "outputs": [],
   "source": []
  }
 ],
 "metadata": {
  "kernelspec": {
   "display_name": "Python 3 (ipykernel)",
   "language": "python",
   "name": "python3"
  },
  "language_info": {
   "codemirror_mode": {
    "name": "ipython",
    "version": 3
   },
   "file_extension": ".py",
   "mimetype": "text/x-python",
   "name": "python",
   "nbconvert_exporter": "python",
   "pygments_lexer": "ipython3",
   "version": "3.7.11"
  }
 },
 "nbformat": 4,
 "nbformat_minor": 5
}
